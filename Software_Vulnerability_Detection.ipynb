{
 "cells": [
  {
   "cell_type": "markdown",
   "id": "228db9cf",
   "metadata": {
    "slideshow": {
     "slide_type": "slide"
    }
   },
   "source": [
    "# Vulnerability Detection in Source Code using deep learning algorithm"
   ]
  },
  {
   "cell_type": "markdown",
   "id": "dba1a026",
   "metadata": {
    "slideshow": {
     "slide_type": "-"
    }
   },
   "source": [
    "- Datasets are available at https://osf.io/d45bw/.\n",
    "- Distribution of datasets: Training (80%), Validation ( 10%), and Testing ( 10%).\n",
    "- The dataset contains the source code of 1.27 million functions extracted from open source software and    labelled for possible vulnerabilities using static analysis. \n",
    "- Starting with the function name, the raw source code for each function is kept as a variable-length UTF-8 string.Each function has five binary 'vulnerability' labels, one for each of the four most prominent CWEs in our data plus all others:\n",
    "    - CWE-120 (3.7% of functions)\n",
    "    - CWE-119 (1.9% of functions)\n",
    "    - CWE-469 (0.95% of functions)\n",
    "    - CWE-476 (0.21% of functions)\n",
    "    - CWE-other (2.7% of functions)\n",
    "- Each function may have several labelled CWEs."
   ]
  },
  {
   "cell_type": "markdown",
   "id": "83d13a71",
   "metadata": {
    "slideshow": {
     "slide_type": "-"
    }
   },
   "source": [
    "## Data Pre-processing"
   ]
  },
  {
   "cell_type": "markdown",
   "id": "7f0c2c52",
   "metadata": {
    "slideshow": {
     "slide_type": "-"
    }
   },
   "source": [
    "Converting HDF5 files to python pickle"
   ]
  },
  {
   "cell_type": "code",
   "execution_count": 1,
   "id": "10441827",
   "metadata": {},
   "outputs": [],
   "source": [
    "import h5py\n",
    "import pandas as pd"
   ]
  },
  {
   "cell_type": "markdown",
   "id": "59764713",
   "metadata": {
    "slideshow": {
     "slide_type": "-"
    }
   },
   "source": [
    "Opening HDF5 file where the data is provided in three HDF5 files corresponding to an 80:10:10 train/validate/test split"
   ]
  },
  {
   "cell_type": "code",
   "execution_count": 2,
   "id": "6e4418e4",
   "metadata": {
    "slideshow": {
     "slide_type": "-"
    }
   },
   "outputs": [],
   "source": [
    "data = h5py.File(\"Draper_VDISC_Dataset/VDISC_train.hdf5\",'r') #train dataset \n",
    "#data = h5py.File(\"Draper_VDISC_Dataset/VDISC_validate.hdf5\",'r') #validation dataset\n",
    "#data = h5py.File(\"Draper_VDISC_Dataset/VDISC_test.hdf5\",'r') #test dataset"
   ]
  },
  {
   "cell_type": "code",
   "execution_count": 3,
   "id": "35254eea",
   "metadata": {},
   "outputs": [
    {
     "name": "stdout",
     "output_type": "stream",
     "text": [
      "<class 'h5py._hl.files.File'>\n"
     ]
    }
   ],
   "source": [
    "print(type(data))"
   ]
  },
  {
   "cell_type": "code",
   "execution_count": 4,
   "id": "3254cca8",
   "metadata": {},
   "outputs": [
    {
     "name": "stdout",
     "output_type": "stream",
     "text": [
      "<KeysViewHDF5 ['CWE-119', 'CWE-120', 'CWE-469', 'CWE-476', 'CWE-other', 'functionSource']>\n"
     ]
    }
   ],
   "source": [
    "#printing labeled datasets\n",
    "print(data.keys())"
   ]
  },
  {
   "cell_type": "code",
   "execution_count": 5,
   "id": "7983033b",
   "metadata": {
    "slideshow": {
     "slide_type": "-"
    }
   },
   "outputs": [
    {
     "name": "stdout",
     "output_type": "stream",
     "text": [
      "CWE-119\n",
      "CWE-120\n",
      "CWE-469\n",
      "CWE-476\n",
      "CWE-other\n",
      "functionSource\n"
     ]
    }
   ],
   "source": [
    "# List all groups\n",
    "data.visit(print)"
   ]
  },
  {
   "cell_type": "markdown",
   "id": "d46cd6cd",
   "metadata": {
    "slideshow": {
     "slide_type": "-"
    }
   },
   "source": [
    "Generating a new dataframe from the HDF5 file"
   ]
  },
  {
   "cell_type": "code",
   "execution_count": 6,
   "id": "9f94cbe3",
   "metadata": {
    "slideshow": {
     "slide_type": "-"
    }
   },
   "outputs": [],
   "source": [
    "data_frame = pd.DataFrame(list(data['functionSource']))"
   ]
  },
  {
   "cell_type": "code",
   "execution_count": 7,
   "id": "d94a8aff",
   "metadata": {
    "slideshow": {
     "slide_type": "-"
    }
   },
   "outputs": [
    {
     "name": "stdout",
     "output_type": "stream",
     "text": [
      "                                                         0\n",
      "0        b'clear_area(int startx, int starty, int xsize...\n",
      "1        b'ReconstructDuList(Statement* head)\\n{\\n    S...\n",
      "2        b'free_speaker(void)\\n{\\n   if(Lengths)\\n     ...\n",
      "3        b'mlx4_register_device(struct mlx4_dev *dev)\\n...\n",
      "4        b'Parse_Env_Var(void)\\n{\\n  char *p = getenv(\"...\n",
      "...                                                    ...\n",
      "1019466  b'visitICmpInst(ICmpInst &I) {\\n  // We must c...\n",
      "1019467  b'path_node_delete_chain(path_node * head)\\n{\\...\n",
      "1019468  b'addrconf6_start (NMDevice *self)\\n{\\n\\tNMDev...\n",
      "1019469  b'Next(const SQObjectPtr &refpos, SQObjectPtr ...\n",
      "1019470  b'EffectHealMaxHealth(SpellEffectIndex /*eff_i...\n",
      "\n",
      "[1019471 rows x 1 columns]\n"
     ]
    }
   ],
   "source": [
    "print(data_frame)"
   ]
  },
  {
   "cell_type": "code",
   "execution_count": 8,
   "id": "d2924be9",
   "metadata": {
    "slideshow": {
     "slide_type": "-"
    }
   },
   "outputs": [],
   "source": [
    "data_frame['CWE-119']=list(data['CWE-119'])"
   ]
  },
  {
   "cell_type": "code",
   "execution_count": 9,
   "id": "74435f79",
   "metadata": {
    "slideshow": {
     "slide_type": "-"
    }
   },
   "outputs": [
    {
     "name": "stdout",
     "output_type": "stream",
     "text": [
      "0          False\n",
      "1          False\n",
      "2          False\n",
      "3          False\n",
      "4           True\n",
      "           ...  \n",
      "1019466    False\n",
      "1019467    False\n",
      "1019468    False\n",
      "1019469    False\n",
      "1019470    False\n",
      "Name: CWE-119, Length: 1019471, dtype: bool\n"
     ]
    }
   ],
   "source": [
    "print(data_frame['CWE-119'])"
   ]
  },
  {
   "cell_type": "code",
   "execution_count": 10,
   "id": "b1497a26",
   "metadata": {
    "slideshow": {
     "slide_type": "-"
    }
   },
   "outputs": [],
   "source": [
    "data_frame['CWE-120']=list(data['CWE-120'])"
   ]
  },
  {
   "cell_type": "code",
   "execution_count": 11,
   "id": "a2ea8a25",
   "metadata": {
    "slideshow": {
     "slide_type": "-"
    }
   },
   "outputs": [
    {
     "name": "stdout",
     "output_type": "stream",
     "text": [
      "0          False\n",
      "1          False\n",
      "2          False\n",
      "3          False\n",
      "4           True\n",
      "           ...  \n",
      "1019466    False\n",
      "1019467    False\n",
      "1019468    False\n",
      "1019469    False\n",
      "1019470    False\n",
      "Name: CWE-120, Length: 1019471, dtype: bool\n"
     ]
    }
   ],
   "source": [
    "print(data_frame['CWE-120'])"
   ]
  },
  {
   "cell_type": "code",
   "execution_count": 12,
   "id": "a4ae0e3b",
   "metadata": {
    "slideshow": {
     "slide_type": "-"
    }
   },
   "outputs": [],
   "source": [
    "data_frame['CWE-469']=list(data['CWE-469'])"
   ]
  },
  {
   "cell_type": "code",
   "execution_count": 13,
   "id": "b93c67f4",
   "metadata": {
    "slideshow": {
     "slide_type": "-"
    }
   },
   "outputs": [
    {
     "name": "stdout",
     "output_type": "stream",
     "text": [
      "0          False\n",
      "1          False\n",
      "2          False\n",
      "3          False\n",
      "4          False\n",
      "           ...  \n",
      "1019466    False\n",
      "1019467    False\n",
      "1019468    False\n",
      "1019469    False\n",
      "1019470    False\n",
      "Name: CWE-469, Length: 1019471, dtype: bool\n"
     ]
    }
   ],
   "source": [
    "print(data_frame['CWE-469'])"
   ]
  },
  {
   "cell_type": "code",
   "execution_count": 14,
   "id": "ae18d377",
   "metadata": {
    "slideshow": {
     "slide_type": "-"
    }
   },
   "outputs": [],
   "source": [
    "data_frame['CWE-476']=list(data['CWE-476']) "
   ]
  },
  {
   "cell_type": "code",
   "execution_count": 15,
   "id": "31c35575",
   "metadata": {
    "slideshow": {
     "slide_type": "-"
    }
   },
   "outputs": [
    {
     "name": "stdout",
     "output_type": "stream",
     "text": [
      "0          False\n",
      "1          False\n",
      "2          False\n",
      "3          False\n",
      "4          False\n",
      "           ...  \n",
      "1019466    False\n",
      "1019467    False\n",
      "1019468    False\n",
      "1019469    False\n",
      "1019470    False\n",
      "Name: CWE-476, Length: 1019471, dtype: bool\n"
     ]
    }
   ],
   "source": [
    "print(data_frame['CWE-476'])"
   ]
  },
  {
   "cell_type": "code",
   "execution_count": 16,
   "id": "ffc41cd5",
   "metadata": {},
   "outputs": [],
   "source": [
    "data_frame['CWE-other']=list(data['CWE-other']) "
   ]
  },
  {
   "cell_type": "code",
   "execution_count": 17,
   "id": "706ec3aa",
   "metadata": {},
   "outputs": [
    {
     "name": "stdout",
     "output_type": "stream",
     "text": [
      "0          False\n",
      "1          False\n",
      "2          False\n",
      "3          False\n",
      "4           True\n",
      "           ...  \n",
      "1019466    False\n",
      "1019467    False\n",
      "1019468    False\n",
      "1019469    False\n",
      "1019470    False\n",
      "Name: CWE-other, Length: 1019471, dtype: bool\n"
     ]
    }
   ],
   "source": [
    "print(data_frame['CWE-other'])"
   ]
  },
  {
   "cell_type": "code",
   "execution_count": 18,
   "id": "cd59eee4",
   "metadata": {
    "slideshow": {
     "slide_type": "-"
    }
   },
   "outputs": [],
   "source": [
    "data_frame.rename(columns={0:'functionSource'},inplace=True)"
   ]
  },
  {
   "cell_type": "code",
   "execution_count": 19,
   "id": "ba5a87d8",
   "metadata": {
    "slideshow": {
     "slide_type": "-"
    }
   },
   "outputs": [
    {
     "data": {
      "text/html": [
       "<div>\n",
       "<style scoped>\n",
       "    .dataframe tbody tr th:only-of-type {\n",
       "        vertical-align: middle;\n",
       "    }\n",
       "\n",
       "    .dataframe tbody tr th {\n",
       "        vertical-align: top;\n",
       "    }\n",
       "\n",
       "    .dataframe thead th {\n",
       "        text-align: right;\n",
       "    }\n",
       "</style>\n",
       "<table border=\"1\" class=\"dataframe\">\n",
       "  <thead>\n",
       "    <tr style=\"text-align: right;\">\n",
       "      <th></th>\n",
       "      <th>functionSource</th>\n",
       "      <th>CWE-119</th>\n",
       "      <th>CWE-120</th>\n",
       "      <th>CWE-469</th>\n",
       "      <th>CWE-476</th>\n",
       "      <th>CWE-other</th>\n",
       "    </tr>\n",
       "  </thead>\n",
       "  <tbody>\n",
       "    <tr>\n",
       "      <th>0</th>\n",
       "      <td>b'clear_area(int startx, int starty, int xsize...</td>\n",
       "      <td>False</td>\n",
       "      <td>False</td>\n",
       "      <td>False</td>\n",
       "      <td>False</td>\n",
       "      <td>False</td>\n",
       "    </tr>\n",
       "    <tr>\n",
       "      <th>1</th>\n",
       "      <td>b'ReconstructDuList(Statement* head)\\n{\\n    S...</td>\n",
       "      <td>False</td>\n",
       "      <td>False</td>\n",
       "      <td>False</td>\n",
       "      <td>False</td>\n",
       "      <td>False</td>\n",
       "    </tr>\n",
       "    <tr>\n",
       "      <th>2</th>\n",
       "      <td>b'free_speaker(void)\\n{\\n   if(Lengths)\\n     ...</td>\n",
       "      <td>False</td>\n",
       "      <td>False</td>\n",
       "      <td>False</td>\n",
       "      <td>False</td>\n",
       "      <td>False</td>\n",
       "    </tr>\n",
       "    <tr>\n",
       "      <th>3</th>\n",
       "      <td>b'mlx4_register_device(struct mlx4_dev *dev)\\n...</td>\n",
       "      <td>False</td>\n",
       "      <td>False</td>\n",
       "      <td>False</td>\n",
       "      <td>False</td>\n",
       "      <td>False</td>\n",
       "    </tr>\n",
       "    <tr>\n",
       "      <th>4</th>\n",
       "      <td>b'Parse_Env_Var(void)\\n{\\n  char *p = getenv(\"...</td>\n",
       "      <td>True</td>\n",
       "      <td>True</td>\n",
       "      <td>False</td>\n",
       "      <td>False</td>\n",
       "      <td>True</td>\n",
       "    </tr>\n",
       "  </tbody>\n",
       "</table>\n",
       "</div>"
      ],
      "text/plain": [
       "                                      functionSource  CWE-119  CWE-120  \\\n",
       "0  b'clear_area(int startx, int starty, int xsize...    False    False   \n",
       "1  b'ReconstructDuList(Statement* head)\\n{\\n    S...    False    False   \n",
       "2  b'free_speaker(void)\\n{\\n   if(Lengths)\\n     ...    False    False   \n",
       "3  b'mlx4_register_device(struct mlx4_dev *dev)\\n...    False    False   \n",
       "4  b'Parse_Env_Var(void)\\n{\\n  char *p = getenv(\"...     True     True   \n",
       "\n",
       "   CWE-469  CWE-476  CWE-other  \n",
       "0    False    False      False  \n",
       "1    False    False      False  \n",
       "2    False    False      False  \n",
       "3    False    False      False  \n",
       "4    False    False       True  "
      ]
     },
     "execution_count": 19,
     "metadata": {},
     "output_type": "execute_result"
    }
   ],
   "source": [
    "data_frame.iloc[0:5,0:]"
   ]
  },
  {
   "cell_type": "code",
   "execution_count": 20,
   "id": "206bc7ae",
   "metadata": {
    "slideshow": {
     "slide_type": "-"
    }
   },
   "outputs": [],
   "source": [
    "data_frame.to_pickle(\"VDISC_train.pickle\")\n",
    "data_frame.to_pickle(\"VDISC_validate.pickle\")\n",
    "data_frame.to_pickle(\"VDISC_test.pickle\")"
   ]
  },
  {
   "cell_type": "markdown",
   "id": "e63123da",
   "metadata": {
    "slideshow": {
     "slide_type": "-"
    }
   },
   "source": [
    "## Exploratory Data Analysis"
   ]
  },
  {
   "cell_type": "markdown",
   "id": "b2c10528",
   "metadata": {},
   "source": [
    "## Learning Phase"
   ]
  },
  {
   "cell_type": "markdown",
   "id": "22ccc8e0",
   "metadata": {},
   "source": [
    "### Importing libraries"
   ]
  },
  {
   "cell_type": "code",
   "execution_count": 1,
   "id": "1c0c4902",
   "metadata": {
    "scrolled": true
   },
   "outputs": [
    {
     "name": "stdout",
     "output_type": "stream",
     "text": [
      "Tensorlfow version:  2.6.0\n",
      "Eager mode:  True\n",
      "GPU is available\n"
     ]
    }
   ],
   "source": [
    "import tensorflow as tf\n",
    "import numpy as np\n",
    "import pandas as pd\n",
    "import matplotlib.pyplot as plt\n",
    "import sklearn.metrics\n",
    "from sklearn.utils import class_weight\n",
    "import pickle\n",
    "from sklearn.metrics import ConfusionMatrixDisplay\n",
    "import math\n",
    "\n",
    "print(\"Tensorlfow version: \", tf.__version__)\n",
    "print(\"Eager mode: \", tf.executing_eagerly())\n",
    "print(\"GPU is\", \"available\" if tf.config.list_physical_devices('GPU') else \"NOT AVAILABLE\")"
   ]
  },
  {
   "cell_type": "markdown",
   "id": "3313058a",
   "metadata": {},
   "source": [
    "### Setting global variable"
   ]
  },
  {
   "cell_type": "code",
   "execution_count": 2,
   "id": "a7a0c373",
   "metadata": {},
   "outputs": [],
   "source": [
    "# Set the global value\n",
    "WORDS_SIZE=10000\n",
    "INPUT_SIZE=500\n",
    "NUM_CLASSES=2\n",
    "MODEL_NUM=0\n",
    "EPOCHS=40"
   ]
  },
  {
   "cell_type": "markdown",
   "id": "6cc683cc",
   "metadata": {
    "slideshow": {
     "slide_type": "slide"
    }
   },
   "source": [
    "### Importing processed datasets"
   ]
  },
  {
   "cell_type": "code",
   "execution_count": 3,
   "id": "58a1aee3",
   "metadata": {
    "slideshow": {
     "slide_type": "fragment"
    }
   },
   "outputs": [],
   "source": [
    "train=pd.read_pickle(\"VDISC_train.pickle\")\n",
    "validate=pd.read_pickle(\"VDISC_validate.pickle\")\n",
    "test=pd.read_pickle(\"VDISC_test.pickle\")\n",
    "for dataset in [train,validate,test]:\n",
    "    for col in range(1,6):\n",
    "        dataset.iloc[:,col] = dataset.iloc[:,col].map({False: 0, True: 1})\n",
    "\n",
    "# Create source code sdata for tokenization\n",
    "x_all = train['functionSource']\n",
    "#x_all = x_all.append(validate['functionSource'])\n",
    "#x_all = x_all.append(test['functionSource'])"
   ]
  },
  {
   "cell_type": "code",
   "execution_count": 4,
   "id": "6bde0156",
   "metadata": {
    "slideshow": {
     "slide_type": "fragment"
    }
   },
   "outputs": [
    {
     "data": {
      "text/html": [
       "<div>\n",
       "<style scoped>\n",
       "    .dataframe tbody tr th:only-of-type {\n",
       "        vertical-align: middle;\n",
       "    }\n",
       "\n",
       "    .dataframe tbody tr th {\n",
       "        vertical-align: top;\n",
       "    }\n",
       "\n",
       "    .dataframe thead th {\n",
       "        text-align: right;\n",
       "    }\n",
       "</style>\n",
       "<table border=\"1\" class=\"dataframe\">\n",
       "  <thead>\n",
       "    <tr style=\"text-align: right;\">\n",
       "      <th></th>\n",
       "      <th>functionSource</th>\n",
       "      <th>CWE-119</th>\n",
       "      <th>CWE-120</th>\n",
       "      <th>CWE-469</th>\n",
       "      <th>CWE-476</th>\n",
       "      <th>CWE-other</th>\n",
       "    </tr>\n",
       "  </thead>\n",
       "  <tbody>\n",
       "    <tr>\n",
       "      <th>0</th>\n",
       "      <td>b'clear_area(int startx, int starty, int xsize...</td>\n",
       "      <td>0</td>\n",
       "      <td>0</td>\n",
       "      <td>0</td>\n",
       "      <td>0</td>\n",
       "      <td>0</td>\n",
       "    </tr>\n",
       "    <tr>\n",
       "      <th>1</th>\n",
       "      <td>b'ReconstructDuList(Statement* head)\\n{\\n    S...</td>\n",
       "      <td>0</td>\n",
       "      <td>0</td>\n",
       "      <td>0</td>\n",
       "      <td>0</td>\n",
       "      <td>0</td>\n",
       "    </tr>\n",
       "    <tr>\n",
       "      <th>2</th>\n",
       "      <td>b'free_speaker(void)\\n{\\n   if(Lengths)\\n     ...</td>\n",
       "      <td>0</td>\n",
       "      <td>0</td>\n",
       "      <td>0</td>\n",
       "      <td>0</td>\n",
       "      <td>0</td>\n",
       "    </tr>\n",
       "    <tr>\n",
       "      <th>3</th>\n",
       "      <td>b'mlx4_register_device(struct mlx4_dev *dev)\\n...</td>\n",
       "      <td>0</td>\n",
       "      <td>0</td>\n",
       "      <td>0</td>\n",
       "      <td>0</td>\n",
       "      <td>0</td>\n",
       "    </tr>\n",
       "    <tr>\n",
       "      <th>4</th>\n",
       "      <td>b'Parse_Env_Var(void)\\n{\\n  char *p = getenv(\"...</td>\n",
       "      <td>1</td>\n",
       "      <td>1</td>\n",
       "      <td>0</td>\n",
       "      <td>0</td>\n",
       "      <td>1</td>\n",
       "    </tr>\n",
       "  </tbody>\n",
       "</table>\n",
       "</div>"
      ],
      "text/plain": [
       "                                      functionSource  CWE-119  CWE-120  \\\n",
       "0  b'clear_area(int startx, int starty, int xsize...        0        0   \n",
       "1  b'ReconstructDuList(Statement* head)\\n{\\n    S...        0        0   \n",
       "2  b'free_speaker(void)\\n{\\n   if(Lengths)\\n     ...        0        0   \n",
       "3  b'mlx4_register_device(struct mlx4_dev *dev)\\n...        0        0   \n",
       "4  b'Parse_Env_Var(void)\\n{\\n  char *p = getenv(\"...        1        1   \n",
       "\n",
       "   CWE-469  CWE-476  CWE-other  \n",
       "0        0        0          0  \n",
       "1        0        0          0  \n",
       "2        0        0          0  \n",
       "3        0        0          0  \n",
       "4        0        0          1  "
      ]
     },
     "execution_count": 4,
     "metadata": {},
     "output_type": "execute_result"
    }
   ],
   "source": [
    "# Overview of the datasets\n",
    "train.head()"
   ]
  },
  {
   "cell_type": "markdown",
   "id": "f39b6f32",
   "metadata": {
    "slideshow": {
     "slide_type": "slide"
    }
   },
   "source": [
    "### Tokenizing the source codes"
   ]
  },
  {
   "cell_type": "code",
   "execution_count": 5,
   "id": "9696f331",
   "metadata": {
    "slideshow": {
     "slide_type": "fragment"
    }
   },
   "outputs": [
    {
     "name": "stdout",
     "output_type": "stream",
     "text": [
      "Number of tokens:  1094129\n"
     ]
    }
   ],
   "source": [
    "# Tokenizer with word-level\n",
    "tokenizer = tf.keras.preprocessing.text.Tokenizer(char_level=False)\n",
    "#tokenizer.fit_on_texts(list(x_all))\n",
    "tokenizer.fit_on_texts([x.decode('utf-8') for x in list(x_all)])\n",
    "del(x_all)\n",
    "print('Number of tokens: ',len(tokenizer.word_counts))\n"
   ]
  },
  {
   "cell_type": "code",
   "execution_count": 6,
   "id": "9aed60b3",
   "metadata": {
    "slideshow": {
     "slide_type": "fragment"
    }
   },
   "outputs": [],
   "source": [
    "# Reducing to top N words\n",
    "tokenizer.num_words = WORDS_SIZE"
   ]
  },
  {
   "cell_type": "code",
   "execution_count": 7,
   "id": "100d1f43",
   "metadata": {
    "slideshow": {
     "slide_type": "fragment"
    }
   },
   "outputs": [
    {
     "data": {
      "text/plain": [
       "[('if', 3126441),\n",
       " ('0', 2106459),\n",
       " ('return', 1745333),\n",
       " ('i', 1375259),\n",
       " ('1', 1186857),\n",
       " ('int', 1016932),\n",
       " ('null', 975347),\n",
       " ('the', 791897),\n",
       " ('t', 733766),\n",
       " ('n', 716010)]"
      ]
     },
     "execution_count": 7,
     "metadata": {},
     "output_type": "execute_result"
    }
   ],
   "source": [
    "# Top 10 words\n",
    "sorted(tokenizer.word_counts.items(), key=lambda x:x[1], reverse=True)[0:10]"
   ]
  },
  {
   "cell_type": "markdown",
   "id": "95b9d7a6",
   "metadata": {
    "slideshow": {
     "slide_type": "slide"
    }
   },
   "source": [
    "### Create sequence files from the tokens"
   ]
  },
  {
   "cell_type": "code",
   "execution_count": 8,
   "id": "5ab5081b",
   "metadata": {
    "slideshow": {
     "slide_type": "fragment"
    }
   },
   "outputs": [],
   "source": [
    "## Tokkenizing train data and create matrix\n",
    "# list_tokenized_train = tokenizer.texts_to_sequences(train['functionSource'])\n",
    "list_tokenized_train = tokenizer.texts_to_sequences([x.decode('utf-8') for x in train['functionSource']])\n",
    "x_train = tf.keras.preprocessing.sequence.pad_sequences(list_tokenized_train, \n",
    "                                  maxlen=INPUT_SIZE,\n",
    "                                  padding='post')\n",
    "x_train = x_train.astype(np.int64)"
   ]
  },
  {
   "cell_type": "code",
   "execution_count": 9,
   "id": "fb77e05e",
   "metadata": {
    "slideshow": {
     "slide_type": "fragment"
    }
   },
   "outputs": [],
   "source": [
    "## Tokkenizing test data and create matrix\n",
    "list_tokenized_test = tokenizer.texts_to_sequences([x.decode('utf-8') for x in test['functionSource']])\n",
    "x_test = tf.keras.preprocessing.sequence.pad_sequences(list_tokenized_test, \n",
    "                                 maxlen=INPUT_SIZE,\n",
    "                                 padding='post')\n",
    "x_test = x_test.astype(np.int64)"
   ]
  },
  {
   "cell_type": "code",
   "execution_count": 10,
   "id": "41736cf1",
   "metadata": {
    "slideshow": {
     "slide_type": "fragment"
    }
   },
   "outputs": [],
   "source": [
    "## Tokkenizing validate data and create matrix\n",
    "list_tokenized_validate = tokenizer.texts_to_sequences([x.decode('utf-8') for x in validate['functionSource']])\n",
    "x_validate = tf.keras.preprocessing.sequence.pad_sequences(list_tokenized_validate, \n",
    "                                 maxlen=INPUT_SIZE,\n",
    "                                 padding='post')\n",
    "x_validate = x_validate.astype(np.int64)"
   ]
  },
  {
   "cell_type": "code",
   "execution_count": 11,
   "id": "ef19b04f",
   "metadata": {
    "slideshow": {
     "slide_type": "fragment"
    }
   },
   "outputs": [
    {
     "data": {
      "text/html": [
       "<div>\n",
       "<style scoped>\n",
       "    .dataframe tbody tr th:only-of-type {\n",
       "        vertical-align: middle;\n",
       "    }\n",
       "\n",
       "    .dataframe tbody tr th {\n",
       "        vertical-align: top;\n",
       "    }\n",
       "\n",
       "    .dataframe thead th {\n",
       "        text-align: right;\n",
       "    }\n",
       "</style>\n",
       "<table border=\"1\" class=\"dataframe\">\n",
       "  <thead>\n",
       "    <tr style=\"text-align: right;\">\n",
       "      <th></th>\n",
       "      <th>CWE-119</th>\n",
       "      <th>CWE-120</th>\n",
       "      <th>CWE-469</th>\n",
       "      <th>CWE-476</th>\n",
       "      <th>CWE-other</th>\n",
       "    </tr>\n",
       "  </thead>\n",
       "  <tbody>\n",
       "    <tr>\n",
       "      <th>0</th>\n",
       "      <td>0</td>\n",
       "      <td>0</td>\n",
       "      <td>0</td>\n",
       "      <td>0</td>\n",
       "      <td>0</td>\n",
       "    </tr>\n",
       "    <tr>\n",
       "      <th>1</th>\n",
       "      <td>0</td>\n",
       "      <td>0</td>\n",
       "      <td>0</td>\n",
       "      <td>0</td>\n",
       "      <td>0</td>\n",
       "    </tr>\n",
       "    <tr>\n",
       "      <th>2</th>\n",
       "      <td>0</td>\n",
       "      <td>0</td>\n",
       "      <td>0</td>\n",
       "      <td>0</td>\n",
       "      <td>0</td>\n",
       "    </tr>\n",
       "    <tr>\n",
       "      <th>3</th>\n",
       "      <td>0</td>\n",
       "      <td>0</td>\n",
       "      <td>0</td>\n",
       "      <td>0</td>\n",
       "      <td>0</td>\n",
       "    </tr>\n",
       "    <tr>\n",
       "      <th>4</th>\n",
       "      <td>1</td>\n",
       "      <td>1</td>\n",
       "      <td>0</td>\n",
       "      <td>0</td>\n",
       "      <td>1</td>\n",
       "    </tr>\n",
       "  </tbody>\n",
       "</table>\n",
       "</div>"
      ],
      "text/plain": [
       "   CWE-119  CWE-120  CWE-469  CWE-476  CWE-other\n",
       "0        0        0        0        0          0\n",
       "1        0        0        0        0          0\n",
       "2        0        0        0        0          0\n",
       "3        0        0        0        0          0\n",
       "4        1        1        0        0          1"
      ]
     },
     "execution_count": 11,
     "metadata": {},
     "output_type": "execute_result"
    }
   ],
   "source": [
    "# Example data\n",
    "test.iloc[0:5,1:6]"
   ]
  },
  {
   "cell_type": "markdown",
   "id": "f594c18a",
   "metadata": {
    "slideshow": {
     "slide_type": "slide"
    }
   },
   "source": [
    "### One-Hot-Enconding (OHE) on the datasets"
   ]
  },
  {
   "cell_type": "code",
   "execution_count": 12,
   "id": "24bfaf84",
   "metadata": {
    "slideshow": {
     "slide_type": "fragment"
    }
   },
   "outputs": [],
   "source": [
    "y_train=[]\n",
    "y_test=[] \n",
    "y_validate=[]\n",
    "\n",
    "for col in range(1,6):\n",
    "    y_train.append(tf.keras.utils.to_categorical(train.iloc[:,col], num_classes=NUM_CLASSES).astype(np.int64))\n",
    "    y_test.append(tf.keras.utils.to_categorical(test.iloc[:,col], num_classes=NUM_CLASSES).astype(np.int64))\n",
    "    y_validate.append(tf.keras.utils.to_categorical(validate.iloc[:,col], num_classes=NUM_CLASSES).astype(np.int64))"
   ]
  },
  {
   "cell_type": "code",
   "execution_count": 13,
   "id": "5575493b",
   "metadata": {
    "slideshow": {
     "slide_type": "fragment"
    }
   },
   "outputs": [
    {
     "data": {
      "text/plain": [
       "array([[1, 0],\n",
       "       [1, 0],\n",
       "       [1, 0],\n",
       "       [0, 1],\n",
       "       [1, 0],\n",
       "       [1, 0],\n",
       "       [1, 0],\n",
       "       [1, 0],\n",
       "       [1, 0]], dtype=int64)"
      ]
     },
     "execution_count": 13,
     "metadata": {},
     "output_type": "execute_result"
    }
   ],
   "source": [
    "# Example data\n",
    "y_test[0][1:10]"
   ]
  },
  {
   "cell_type": "markdown",
   "id": "874acae1",
   "metadata": {
    "slideshow": {
     "slide_type": "slide"
    }
   },
   "source": [
    "### Model Definition (CNN with Gaussian Noise and 5 Output Splits)\n"
   ]
  },
  {
   "cell_type": "code",
   "execution_count": 14,
   "id": "71d2e62b",
   "metadata": {
    "slideshow": {
     "slide_type": "fragment"
    }
   },
   "outputs": [],
   "source": [
    "# Create a random weights matrix\n",
    "\n",
    "random_weights = np.random.normal(size=(WORDS_SIZE, 13),scale=0.01)"
   ]
  },
  {
   "cell_type": "code",
   "execution_count": 15,
   "id": "9dac6bb5",
   "metadata": {
    "scrolled": false,
    "slideshow": {
     "slide_type": "fragment"
    }
   },
   "outputs": [
    {
     "name": "stdout",
     "output_type": "stream",
     "text": [
      "CNN model built: \n",
      "Model: \"model\"\n",
      "__________________________________________________________________________________________________\n",
      "Layer (type)                    Output Shape         Param #     Connected to                     \n",
      "==================================================================================================\n",
      "input_1 (InputLayer)            [(None, 500)]        0                                            \n",
      "__________________________________________________________________________________________________\n",
      "embedding (Embedding)           (None, 500, 13)      130000      input_1[0][0]                    \n",
      "__________________________________________________________________________________________________\n",
      "conv1d (Conv1D)                 (None, 500, 512)     60416       embedding[0][0]                  \n",
      "__________________________________________________________________________________________________\n",
      "max_pooling1d (MaxPooling1D)    (None, 100, 512)     0           conv1d[0][0]                     \n",
      "__________________________________________________________________________________________________\n",
      "dropout (Dropout)               (None, 100, 512)     0           max_pooling1d[0][0]              \n",
      "__________________________________________________________________________________________________\n",
      "flatten (Flatten)               (None, 51200)        0           dropout[0][0]                    \n",
      "__________________________________________________________________________________________________\n",
      "dense (Dense)                   (None, 16)           819216      flatten[0][0]                    \n",
      "__________________________________________________________________________________________________\n",
      "dense_1 (Dense)                 (None, 2)            34          dense[0][0]                      \n",
      "__________________________________________________________________________________________________\n",
      "dense_2 (Dense)                 (None, 2)            34          dense[0][0]                      \n",
      "__________________________________________________________________________________________________\n",
      "dense_3 (Dense)                 (None, 2)            34          dense[0][0]                      \n",
      "__________________________________________________________________________________________________\n",
      "dense_4 (Dense)                 (None, 2)            34          dense[0][0]                      \n",
      "__________________________________________________________________________________________________\n",
      "dense_5 (Dense)                 (None, 2)            34          dense[0][0]                      \n",
      "==================================================================================================\n",
      "Total params: 1,009,802\n",
      "Trainable params: 1,009,802\n",
      "Non-trainable params: 0\n",
      "__________________________________________________________________________________________________\n"
     ]
    },
    {
     "name": "stderr",
     "output_type": "stream",
     "text": [
      "C:\\Users\\alber\\anaconda3\\envs\\data-latest\\lib\\site-packages\\keras\\optimizer_v2\\optimizer_v2.py:355: UserWarning: The `lr` argument is deprecated, use `learning_rate` instead.\n",
      "  warnings.warn(\n"
     ]
    }
   ],
   "source": [
    "# Must use non-sequential model building to create branches in the output layer\n",
    "inp_layer = tf.keras.layers.Input(shape=(INPUT_SIZE,))\n",
    "mid_layers = tf.keras.layers.Embedding(input_dim = WORDS_SIZE,\n",
    "                                    output_dim = 13,\n",
    "                                    weights=[random_weights],\n",
    "                                    input_length = INPUT_SIZE)(inp_layer)\n",
    "mid_layers = tf.keras.layers.Convolution1D(filters=512, kernel_size=(9), padding='same', activation='relu')(mid_layers)\n",
    "mid_layers = tf.keras.layers.MaxPool1D(pool_size=5)(mid_layers)\n",
    "mid_layers = tf.keras.layers.Dropout(0.5)(mid_layers)\n",
    "mid_layers = tf.keras.layers.Flatten()(mid_layers)\n",
    "mid_layers = tf.keras.layers.Dense(16, activation='relu')(mid_layers)\n",
    "output1 = tf.keras.layers.Dense(2, activation='softmax')(mid_layers)\n",
    "output2 = tf.keras.layers.Dense(2, activation='softmax')(mid_layers)\n",
    "output3 = tf.keras.layers.Dense(2, activation='softmax')(mid_layers)\n",
    "output4 =tf.keras.layers.Dense(2, activation='softmax')(mid_layers)\n",
    "output5 = tf.keras.layers.Dense(2, activation='softmax')(mid_layers)\n",
    "model = tf.keras.Model(inp_layer,[output1,output2,output3,output4,output5])\n",
    "\n",
    "# Define custom optimizers\n",
    "adam = tf.keras.optimizers.Adam(lr=0.005, beta_1=0.9, beta_2=0.999, epsilon=1, decay=0.0, amsgrad=False)\n",
    "\n",
    "## Compile model with metrics\n",
    "model.compile(optimizer=adam, loss='categorical_crossentropy', metrics=['accuracy'])\n",
    "print(\"CNN model built: \")\n",
    "model.summary()"
   ]
  },
  {
   "cell_type": "markdown",
   "id": "848f6559",
   "metadata": {},
   "source": [
    "### Model Training"
   ]
  },
  {
   "cell_type": "code",
   "execution_count": 16,
   "id": "9091de93",
   "metadata": {
    "scrolled": false
   },
   "outputs": [
    {
     "name": "stdout",
     "output_type": "stream",
     "text": [
      "Epoch 1/40\n",
      "782/782 - 296s - loss: 0.9621 - dense_1_loss: 0.1981 - dense_2_loss: 0.2428 - dense_3_loss: 0.1432 - dense_4_loss: 0.1631 - dense_5_loss: 0.2149 - dense_1_accuracy: 0.9756 - dense_2_accuracy: 0.9627 - dense_3_accuracy: 0.9967 - dense_4_accuracy: 0.9840 - dense_5_accuracy: 0.9646 - val_loss: 0.4375 - val_dense_1_loss: 0.0909 - val_dense_2_loss: 0.1533 - val_dense_3_loss: 0.0154 - val_dense_4_loss: 0.0530 - val_dense_5_loss: 0.1248 - val_dense_1_accuracy: 0.9813 - val_dense_2_accuracy: 0.9636 - val_dense_3_accuracy: 0.9979 - val_dense_4_accuracy: 0.9905 - val_dense_5_accuracy: 0.9722\n",
      "\n",
      "Epoch 00001: val_loss improved from inf to 0.43749, saving model to model\\model-ALL-01.hdf5\n",
      "Epoch 2/40\n",
      "782/782 - 301s - loss: 0.4363 - dense_1_loss: 0.0908 - dense_2_loss: 0.1528 - dense_3_loss: 0.0149 - dense_4_loss: 0.0531 - dense_5_loss: 0.1246 - dense_1_accuracy: 0.9813 - dense_2_accuracy: 0.9636 - dense_3_accuracy: 0.9979 - dense_4_accuracy: 0.9905 - dense_5_accuracy: 0.9722 - val_loss: 0.4346 - val_dense_1_loss: 0.0905 - val_dense_2_loss: 0.1521 - val_dense_3_loss: 0.0148 - val_dense_4_loss: 0.0530 - val_dense_5_loss: 0.1241 - val_dense_1_accuracy: 0.9813 - val_dense_2_accuracy: 0.9636 - val_dense_3_accuracy: 0.9979 - val_dense_4_accuracy: 0.9905 - val_dense_5_accuracy: 0.9722\n",
      "\n",
      "Epoch 00002: val_loss improved from 0.43749 to 0.43459, saving model to model\\model-ALL-02.hdf5\n",
      "Epoch 3/40\n",
      "782/782 - 308s - loss: 0.4343 - dense_1_loss: 0.0904 - dense_2_loss: 0.1520 - dense_3_loss: 0.0148 - dense_4_loss: 0.0530 - dense_5_loss: 0.1241 - dense_1_accuracy: 0.9813 - dense_2_accuracy: 0.9636 - dense_3_accuracy: 0.9979 - dense_4_accuracy: 0.9905 - dense_5_accuracy: 0.9722 - val_loss: 0.4330 - val_dense_1_loss: 0.0902 - val_dense_2_loss: 0.1515 - val_dense_3_loss: 0.0148 - val_dense_4_loss: 0.0530 - val_dense_5_loss: 0.1236 - val_dense_1_accuracy: 0.9813 - val_dense_2_accuracy: 0.9636 - val_dense_3_accuracy: 0.9979 - val_dense_4_accuracy: 0.9905 - val_dense_5_accuracy: 0.9722\n",
      "\n",
      "Epoch 00003: val_loss improved from 0.43459 to 0.43305, saving model to model\\model-ALL-03.hdf5\n",
      "Epoch 4/40\n",
      "782/782 - 305s - loss: 0.4329 - dense_1_loss: 0.0902 - dense_2_loss: 0.1513 - dense_3_loss: 0.0148 - dense_4_loss: 0.0531 - dense_5_loss: 0.1237 - dense_1_accuracy: 0.9813 - dense_2_accuracy: 0.9636 - dense_3_accuracy: 0.9979 - dense_4_accuracy: 0.9905 - dense_5_accuracy: 0.9722 - val_loss: 0.4321 - val_dense_1_loss: 0.0901 - val_dense_2_loss: 0.1509 - val_dense_3_loss: 0.0148 - val_dense_4_loss: 0.0530 - val_dense_5_loss: 0.1234 - val_dense_1_accuracy: 0.9813 - val_dense_2_accuracy: 0.9636 - val_dense_3_accuracy: 0.9979 - val_dense_4_accuracy: 0.9905 - val_dense_5_accuracy: 0.9722\n",
      "\n",
      "Epoch 00004: val_loss improved from 0.43305 to 0.43209, saving model to model\\model-ALL-04.hdf5\n",
      "Epoch 5/40\n",
      "782/782 - 306s - loss: 0.4322 - dense_1_loss: 0.0899 - dense_2_loss: 0.1510 - dense_3_loss: 0.0148 - dense_4_loss: 0.0530 - dense_5_loss: 0.1235 - dense_1_accuracy: 0.9813 - dense_2_accuracy: 0.9636 - dense_3_accuracy: 0.9979 - dense_4_accuracy: 0.9905 - dense_5_accuracy: 0.9722 - val_loss: 0.4314 - val_dense_1_loss: 0.0898 - val_dense_2_loss: 0.1506 - val_dense_3_loss: 0.0148 - val_dense_4_loss: 0.0530 - val_dense_5_loss: 0.1232 - val_dense_1_accuracy: 0.9813 - val_dense_2_accuracy: 0.9636 - val_dense_3_accuracy: 0.9979 - val_dense_4_accuracy: 0.9905 - val_dense_5_accuracy: 0.9722\n",
      "\n",
      "Epoch 00005: val_loss improved from 0.43209 to 0.43143, saving model to model\\model-ALL-05.hdf5\n",
      "Epoch 6/40\n",
      "782/782 - 304s - loss: 0.4318 - dense_1_loss: 0.0898 - dense_2_loss: 0.1507 - dense_3_loss: 0.0148 - dense_4_loss: 0.0530 - dense_5_loss: 0.1234 - dense_1_accuracy: 0.9813 - dense_2_accuracy: 0.9636 - dense_3_accuracy: 0.9979 - dense_4_accuracy: 0.9905 - dense_5_accuracy: 0.9722 - val_loss: 0.4314 - val_dense_1_loss: 0.0897 - val_dense_2_loss: 0.1509 - val_dense_3_loss: 0.0148 - val_dense_4_loss: 0.0530 - val_dense_5_loss: 0.1232 - val_dense_1_accuracy: 0.9813 - val_dense_2_accuracy: 0.9636 - val_dense_3_accuracy: 0.9979 - val_dense_4_accuracy: 0.9905 - val_dense_5_accuracy: 0.9722\n",
      "\n",
      "Epoch 00006: val_loss improved from 0.43143 to 0.43139, saving model to model\\model-ALL-06.hdf5\n",
      "Epoch 7/40\n",
      "782/782 - 307s - loss: 0.4314 - dense_1_loss: 0.0897 - dense_2_loss: 0.1507 - dense_3_loss: 0.0148 - dense_4_loss: 0.0530 - dense_5_loss: 0.1233 - dense_1_accuracy: 0.9813 - dense_2_accuracy: 0.9636 - dense_3_accuracy: 0.9979 - dense_4_accuracy: 0.9905 - dense_5_accuracy: 0.9722 - val_loss: 0.4306 - val_dense_1_loss: 0.0895 - val_dense_2_loss: 0.1503 - val_dense_3_loss: 0.0147 - val_dense_4_loss: 0.0530 - val_dense_5_loss: 0.1230 - val_dense_1_accuracy: 0.9813 - val_dense_2_accuracy: 0.9636 - val_dense_3_accuracy: 0.9979 - val_dense_4_accuracy: 0.9905 - val_dense_5_accuracy: 0.9722\n",
      "\n",
      "Epoch 00007: val_loss improved from 0.43139 to 0.43064, saving model to model\\model-ALL-07.hdf5\n",
      "Epoch 8/40\n",
      "782/782 - 318s - loss: 0.4312 - dense_1_loss: 0.0896 - dense_2_loss: 0.1506 - dense_3_loss: 0.0148 - dense_4_loss: 0.0530 - dense_5_loss: 0.1232 - dense_1_accuracy: 0.9813 - dense_2_accuracy: 0.9636 - dense_3_accuracy: 0.9979 - dense_4_accuracy: 0.9905 - dense_5_accuracy: 0.9722 - val_loss: 0.4304 - val_dense_1_loss: 0.0894 - val_dense_2_loss: 0.1502 - val_dense_3_loss: 0.0147 - val_dense_4_loss: 0.0529 - val_dense_5_loss: 0.1231 - val_dense_1_accuracy: 0.9813 - val_dense_2_accuracy: 0.9636 - val_dense_3_accuracy: 0.9979 - val_dense_4_accuracy: 0.9905 - val_dense_5_accuracy: 0.9722\n",
      "\n",
      "Epoch 00008: val_loss improved from 0.43064 to 0.43037, saving model to model\\model-ALL-08.hdf5\n",
      "Epoch 9/40\n",
      "782/782 - 313s - loss: 0.4308 - dense_1_loss: 0.0895 - dense_2_loss: 0.1504 - dense_3_loss: 0.0148 - dense_4_loss: 0.0530 - dense_5_loss: 0.1231 - dense_1_accuracy: 0.9813 - dense_2_accuracy: 0.9636 - dense_3_accuracy: 0.9979 - dense_4_accuracy: 0.9905 - dense_5_accuracy: 0.9722 - val_loss: 0.4300 - val_dense_1_loss: 0.0894 - val_dense_2_loss: 0.1501 - val_dense_3_loss: 0.0147 - val_dense_4_loss: 0.0529 - val_dense_5_loss: 0.1229 - val_dense_1_accuracy: 0.9813 - val_dense_2_accuracy: 0.9636 - val_dense_3_accuracy: 0.9979 - val_dense_4_accuracy: 0.9905 - val_dense_5_accuracy: 0.9722\n",
      "\n",
      "Epoch 00009: val_loss improved from 0.43037 to 0.42997, saving model to model\\model-ALL-09.hdf5\n",
      "Epoch 10/40\n",
      "782/782 - 314s - loss: 0.4304 - dense_1_loss: 0.0893 - dense_2_loss: 0.1503 - dense_3_loss: 0.0147 - dense_4_loss: 0.0529 - dense_5_loss: 0.1231 - dense_1_accuracy: 0.9813 - dense_2_accuracy: 0.9636 - dense_3_accuracy: 0.9979 - dense_4_accuracy: 0.9905 - dense_5_accuracy: 0.9722 - val_loss: 0.4299 - val_dense_1_loss: 0.0893 - val_dense_2_loss: 0.1501 - val_dense_3_loss: 0.0147 - val_dense_4_loss: 0.0530 - val_dense_5_loss: 0.1228 - val_dense_1_accuracy: 0.9813 - val_dense_2_accuracy: 0.9636 - val_dense_3_accuracy: 0.9979 - val_dense_4_accuracy: 0.9905 - val_dense_5_accuracy: 0.9722\n",
      "\n",
      "Epoch 00010: val_loss improved from 0.42997 to 0.42988, saving model to model\\model-ALL-10.hdf5\n",
      "Epoch 11/40\n",
      "782/782 - 307s - loss: 0.4303 - dense_1_loss: 0.0893 - dense_2_loss: 0.1502 - dense_3_loss: 0.0148 - dense_4_loss: 0.0530 - dense_5_loss: 0.1230 - dense_1_accuracy: 0.9813 - dense_2_accuracy: 0.9636 - dense_3_accuracy: 0.9979 - dense_4_accuracy: 0.9905 - dense_5_accuracy: 0.9722 - val_loss: 0.4294 - val_dense_1_loss: 0.0892 - val_dense_2_loss: 0.1499 - val_dense_3_loss: 0.0147 - val_dense_4_loss: 0.0529 - val_dense_5_loss: 0.1228 - val_dense_1_accuracy: 0.9813 - val_dense_2_accuracy: 0.9636 - val_dense_3_accuracy: 0.9979 - val_dense_4_accuracy: 0.9905 - val_dense_5_accuracy: 0.9722\n",
      "\n",
      "Epoch 00011: val_loss improved from 0.42988 to 0.42943, saving model to model\\model-ALL-11.hdf5\n",
      "Epoch 12/40\n",
      "782/782 - 308s - loss: 0.4298 - dense_1_loss: 0.0892 - dense_2_loss: 0.1501 - dense_3_loss: 0.0147 - dense_4_loss: 0.0529 - dense_5_loss: 0.1229 - dense_1_accuracy: 0.9813 - dense_2_accuracy: 0.9636 - dense_3_accuracy: 0.9979 - dense_4_accuracy: 0.9905 - dense_5_accuracy: 0.9722 - val_loss: 0.4292 - val_dense_1_loss: 0.0891 - val_dense_2_loss: 0.1498 - val_dense_3_loss: 0.0147 - val_dense_4_loss: 0.0529 - val_dense_5_loss: 0.1228 - val_dense_1_accuracy: 0.9813 - val_dense_2_accuracy: 0.9636 - val_dense_3_accuracy: 0.9979 - val_dense_4_accuracy: 0.9905 - val_dense_5_accuracy: 0.9722\n"
     ]
    },
    {
     "name": "stdout",
     "output_type": "stream",
     "text": [
      "\n",
      "Epoch 00012: val_loss improved from 0.42943 to 0.42924, saving model to model\\model-ALL-12.hdf5\n",
      "Epoch 13/40\n",
      "782/782 - 308s - loss: 0.4297 - dense_1_loss: 0.0892 - dense_2_loss: 0.1500 - dense_3_loss: 0.0147 - dense_4_loss: 0.0529 - dense_5_loss: 0.1228 - dense_1_accuracy: 0.9813 - dense_2_accuracy: 0.9636 - dense_3_accuracy: 0.9979 - dense_4_accuracy: 0.9905 - dense_5_accuracy: 0.9722 - val_loss: 0.4295 - val_dense_1_loss: 0.0891 - val_dense_2_loss: 0.1499 - val_dense_3_loss: 0.0147 - val_dense_4_loss: 0.0528 - val_dense_5_loss: 0.1230 - val_dense_1_accuracy: 0.9813 - val_dense_2_accuracy: 0.9636 - val_dense_3_accuracy: 0.9979 - val_dense_4_accuracy: 0.9905 - val_dense_5_accuracy: 0.9722\n",
      "\n",
      "Epoch 00013: val_loss did not improve from 0.42924\n",
      "Epoch 14/40\n",
      "782/782 - 309s - loss: 0.4297 - dense_1_loss: 0.0892 - dense_2_loss: 0.1500 - dense_3_loss: 0.0147 - dense_4_loss: 0.0529 - dense_5_loss: 0.1229 - dense_1_accuracy: 0.9813 - dense_2_accuracy: 0.9636 - dense_3_accuracy: 0.9979 - dense_4_accuracy: 0.9905 - dense_5_accuracy: 0.9722 - val_loss: 0.4291 - val_dense_1_loss: 0.0891 - val_dense_2_loss: 0.1499 - val_dense_3_loss: 0.0147 - val_dense_4_loss: 0.0529 - val_dense_5_loss: 0.1226 - val_dense_1_accuracy: 0.9813 - val_dense_2_accuracy: 0.9636 - val_dense_3_accuracy: 0.9979 - val_dense_4_accuracy: 0.9905 - val_dense_5_accuracy: 0.9722\n",
      "\n",
      "Epoch 00014: val_loss improved from 0.42924 to 0.42915, saving model to model\\model-ALL-14.hdf5\n",
      "Epoch 15/40\n",
      "782/782 - 308s - loss: 0.4293 - dense_1_loss: 0.0891 - dense_2_loss: 0.1498 - dense_3_loss: 0.0147 - dense_4_loss: 0.0529 - dense_5_loss: 0.1228 - dense_1_accuracy: 0.9813 - dense_2_accuracy: 0.9636 - dense_3_accuracy: 0.9979 - dense_4_accuracy: 0.9905 - dense_5_accuracy: 0.9722 - val_loss: 0.4286 - val_dense_1_loss: 0.0889 - val_dense_2_loss: 0.1495 - val_dense_3_loss: 0.0147 - val_dense_4_loss: 0.0528 - val_dense_5_loss: 0.1227 - val_dense_1_accuracy: 0.9813 - val_dense_2_accuracy: 0.9636 - val_dense_3_accuracy: 0.9979 - val_dense_4_accuracy: 0.9905 - val_dense_5_accuracy: 0.9722\n",
      "\n",
      "Epoch 00015: val_loss improved from 0.42915 to 0.42859, saving model to model\\model-ALL-15.hdf5\n",
      "Epoch 16/40\n",
      "782/782 - 312s - loss: 0.4292 - dense_1_loss: 0.0891 - dense_2_loss: 0.1498 - dense_3_loss: 0.0147 - dense_4_loss: 0.0528 - dense_5_loss: 0.1228 - dense_1_accuracy: 0.9813 - dense_2_accuracy: 0.9636 - dense_3_accuracy: 0.9979 - dense_4_accuracy: 0.9905 - dense_5_accuracy: 0.9722 - val_loss: 0.4292 - val_dense_1_loss: 0.0889 - val_dense_2_loss: 0.1503 - val_dense_3_loss: 0.0147 - val_dense_4_loss: 0.0528 - val_dense_5_loss: 0.1226 - val_dense_1_accuracy: 0.9813 - val_dense_2_accuracy: 0.9636 - val_dense_3_accuracy: 0.9979 - val_dense_4_accuracy: 0.9905 - val_dense_5_accuracy: 0.9722\n",
      "\n",
      "Epoch 00016: val_loss did not improve from 0.42859\n",
      "Epoch 17/40\n",
      "782/782 - 308s - loss: 0.4288 - dense_1_loss: 0.0890 - dense_2_loss: 0.1497 - dense_3_loss: 0.0147 - dense_4_loss: 0.0528 - dense_5_loss: 0.1227 - dense_1_accuracy: 0.9813 - dense_2_accuracy: 0.9636 - dense_3_accuracy: 0.9979 - dense_4_accuracy: 0.9905 - dense_5_accuracy: 0.9722 - val_loss: 0.4284 - val_dense_1_loss: 0.0889 - val_dense_2_loss: 0.1495 - val_dense_3_loss: 0.0146 - val_dense_4_loss: 0.0528 - val_dense_5_loss: 0.1226 - val_dense_1_accuracy: 0.9813 - val_dense_2_accuracy: 0.9636 - val_dense_3_accuracy: 0.9979 - val_dense_4_accuracy: 0.9905 - val_dense_5_accuracy: 0.9722\n",
      "\n",
      "Epoch 00017: val_loss improved from 0.42859 to 0.42837, saving model to model\\model-ALL-17.hdf5\n",
      "Epoch 18/40\n",
      "782/782 - 324s - loss: 0.4285 - dense_1_loss: 0.0888 - dense_2_loss: 0.1495 - dense_3_loss: 0.0147 - dense_4_loss: 0.0528 - dense_5_loss: 0.1226 - dense_1_accuracy: 0.9813 - dense_2_accuracy: 0.9636 - dense_3_accuracy: 0.9979 - dense_4_accuracy: 0.9905 - dense_5_accuracy: 0.9722 - val_loss: 0.4277 - val_dense_1_loss: 0.0887 - val_dense_2_loss: 0.1492 - val_dense_3_loss: 0.0146 - val_dense_4_loss: 0.0527 - val_dense_5_loss: 0.1224 - val_dense_1_accuracy: 0.9813 - val_dense_2_accuracy: 0.9636 - val_dense_3_accuracy: 0.9979 - val_dense_4_accuracy: 0.9905 - val_dense_5_accuracy: 0.9722\n",
      "\n",
      "Epoch 00018: val_loss improved from 0.42837 to 0.42773, saving model to model\\model-ALL-18.hdf5\n",
      "Epoch 19/40\n",
      "782/782 - 295s - loss: 0.4284 - dense_1_loss: 0.0888 - dense_2_loss: 0.1495 - dense_3_loss: 0.0147 - dense_4_loss: 0.0528 - dense_5_loss: 0.1226 - dense_1_accuracy: 0.9813 - dense_2_accuracy: 0.9636 - dense_3_accuracy: 0.9979 - dense_4_accuracy: 0.9905 - dense_5_accuracy: 0.9722 - val_loss: 0.4275 - val_dense_1_loss: 0.0887 - val_dense_2_loss: 0.1491 - val_dense_3_loss: 0.0146 - val_dense_4_loss: 0.0528 - val_dense_5_loss: 0.1223 - val_dense_1_accuracy: 0.9813 - val_dense_2_accuracy: 0.9636 - val_dense_3_accuracy: 0.9979 - val_dense_4_accuracy: 0.9905 - val_dense_5_accuracy: 0.9722\n",
      "\n",
      "Epoch 00019: val_loss improved from 0.42773 to 0.42750, saving model to model\\model-ALL-19.hdf5\n",
      "Epoch 20/40\n",
      "782/782 - 291s - loss: 0.4278 - dense_1_loss: 0.0888 - dense_2_loss: 0.1493 - dense_3_loss: 0.0146 - dense_4_loss: 0.0528 - dense_5_loss: 0.1223 - dense_1_accuracy: 0.9813 - dense_2_accuracy: 0.9636 - dense_3_accuracy: 0.9979 - dense_4_accuracy: 0.9905 - dense_5_accuracy: 0.9722 - val_loss: 0.4272 - val_dense_1_loss: 0.0886 - val_dense_2_loss: 0.1490 - val_dense_3_loss: 0.0146 - val_dense_4_loss: 0.0527 - val_dense_5_loss: 0.1222 - val_dense_1_accuracy: 0.9813 - val_dense_2_accuracy: 0.9636 - val_dense_3_accuracy: 0.9979 - val_dense_4_accuracy: 0.9905 - val_dense_5_accuracy: 0.9722\n",
      "\n",
      "Epoch 00020: val_loss improved from 0.42750 to 0.42719, saving model to model\\model-ALL-20.hdf5\n",
      "Epoch 21/40\n",
      "782/782 - 290s - loss: 0.4274 - dense_1_loss: 0.0886 - dense_2_loss: 0.1490 - dense_3_loss: 0.0146 - dense_4_loss: 0.0528 - dense_5_loss: 0.1223 - dense_1_accuracy: 0.9813 - dense_2_accuracy: 0.9636 - dense_3_accuracy: 0.9979 - dense_4_accuracy: 0.9905 - dense_5_accuracy: 0.9722 - val_loss: 0.4275 - val_dense_1_loss: 0.0887 - val_dense_2_loss: 0.1493 - val_dense_3_loss: 0.0146 - val_dense_4_loss: 0.0527 - val_dense_5_loss: 0.1221 - val_dense_1_accuracy: 0.9813 - val_dense_2_accuracy: 0.9636 - val_dense_3_accuracy: 0.9979 - val_dense_4_accuracy: 0.9905 - val_dense_5_accuracy: 0.9722\n",
      "\n",
      "Epoch 00021: val_loss did not improve from 0.42719\n",
      "Epoch 22/40\n",
      "782/782 - 128847s - loss: 0.4272 - dense_1_loss: 0.0886 - dense_2_loss: 0.1490 - dense_3_loss: 0.0146 - dense_4_loss: 0.0528 - dense_5_loss: 0.1223 - dense_1_accuracy: 0.9813 - dense_2_accuracy: 0.9636 - dense_3_accuracy: 0.9979 - dense_4_accuracy: 0.9905 - dense_5_accuracy: 0.9722 - val_loss: 0.4269 - val_dense_1_loss: 0.0885 - val_dense_2_loss: 0.1490 - val_dense_3_loss: 0.0146 - val_dense_4_loss: 0.0527 - val_dense_5_loss: 0.1221 - val_dense_1_accuracy: 0.9813 - val_dense_2_accuracy: 0.9636 - val_dense_3_accuracy: 0.9979 - val_dense_4_accuracy: 0.9905 - val_dense_5_accuracy: 0.9722\n",
      "\n",
      "Epoch 00022: val_loss improved from 0.42719 to 0.42689, saving model to model\\model-ALL-22.hdf5\n",
      "Epoch 23/40\n",
      "782/782 - 350s - loss: 0.4271 - dense_1_loss: 0.0885 - dense_2_loss: 0.1489 - dense_3_loss: 0.0146 - dense_4_loss: 0.0528 - dense_5_loss: 0.1222 - dense_1_accuracy: 0.9813 - dense_2_accuracy: 0.9636 - dense_3_accuracy: 0.9979 - dense_4_accuracy: 0.9905 - dense_5_accuracy: 0.9722 - val_loss: 0.4263 - val_dense_1_loss: 0.0885 - val_dense_2_loss: 0.1486 - val_dense_3_loss: 0.0146 - val_dense_4_loss: 0.0527 - val_dense_5_loss: 0.1220 - val_dense_1_accuracy: 0.9813 - val_dense_2_accuracy: 0.9636 - val_dense_3_accuracy: 0.9979 - val_dense_4_accuracy: 0.9905 - val_dense_5_accuracy: 0.9722\n",
      "\n",
      "Epoch 00023: val_loss improved from 0.42689 to 0.42633, saving model to model\\model-ALL-23.hdf5\n",
      "Epoch 24/40\n",
      "782/782 - 344s - loss: 0.4268 - dense_1_loss: 0.0884 - dense_2_loss: 0.1488 - dense_3_loss: 0.0146 - dense_4_loss: 0.0528 - dense_5_loss: 0.1221 - dense_1_accuracy: 0.9813 - dense_2_accuracy: 0.9636 - dense_3_accuracy: 0.9979 - dense_4_accuracy: 0.9905 - dense_5_accuracy: 0.9722 - val_loss: 0.4258 - val_dense_1_loss: 0.0883 - val_dense_2_loss: 0.1484 - val_dense_3_loss: 0.0146 - val_dense_4_loss: 0.0527 - val_dense_5_loss: 0.1218 - val_dense_1_accuracy: 0.9813 - val_dense_2_accuracy: 0.9636 - val_dense_3_accuracy: 0.9979 - val_dense_4_accuracy: 0.9905 - val_dense_5_accuracy: 0.9722\n"
     ]
    },
    {
     "name": "stdout",
     "output_type": "stream",
     "text": [
      "\n",
      "Epoch 00024: val_loss improved from 0.42633 to 0.42582, saving model to model\\model-ALL-24.hdf5\n",
      "Epoch 25/40\n",
      "782/782 - 345s - loss: 0.4262 - dense_1_loss: 0.0883 - dense_2_loss: 0.1485 - dense_3_loss: 0.0146 - dense_4_loss: 0.0528 - dense_5_loss: 0.1220 - dense_1_accuracy: 0.9813 - dense_2_accuracy: 0.9636 - dense_3_accuracy: 0.9979 - dense_4_accuracy: 0.9905 - dense_5_accuracy: 0.9722 - val_loss: 0.4254 - val_dense_1_loss: 0.0882 - val_dense_2_loss: 0.1482 - val_dense_3_loss: 0.0146 - val_dense_4_loss: 0.0527 - val_dense_5_loss: 0.1218 - val_dense_1_accuracy: 0.9813 - val_dense_2_accuracy: 0.9636 - val_dense_3_accuracy: 0.9979 - val_dense_4_accuracy: 0.9905 - val_dense_5_accuracy: 0.9722\n",
      "\n",
      "Epoch 00025: val_loss improved from 0.42582 to 0.42543, saving model to model\\model-ALL-25.hdf5\n",
      "Epoch 26/40\n",
      "782/782 - 345s - loss: 0.4257 - dense_1_loss: 0.0882 - dense_2_loss: 0.1483 - dense_3_loss: 0.0146 - dense_4_loss: 0.0527 - dense_5_loss: 0.1220 - dense_1_accuracy: 0.9813 - dense_2_accuracy: 0.9636 - dense_3_accuracy: 0.9979 - dense_4_accuracy: 0.9905 - dense_5_accuracy: 0.9722 - val_loss: 0.4248 - val_dense_1_loss: 0.0881 - val_dense_2_loss: 0.1480 - val_dense_3_loss: 0.0145 - val_dense_4_loss: 0.0527 - val_dense_5_loss: 0.1216 - val_dense_1_accuracy: 0.9813 - val_dense_2_accuracy: 0.9636 - val_dense_3_accuracy: 0.9979 - val_dense_4_accuracy: 0.9905 - val_dense_5_accuracy: 0.9722\n",
      "\n",
      "Epoch 00026: val_loss improved from 0.42543 to 0.42480, saving model to model\\model-ALL-26.hdf5\n",
      "Epoch 27/40\n",
      "782/782 - 345s - loss: 0.4251 - dense_1_loss: 0.0881 - dense_2_loss: 0.1480 - dense_3_loss: 0.0146 - dense_4_loss: 0.0527 - dense_5_loss: 0.1218 - dense_1_accuracy: 0.9813 - dense_2_accuracy: 0.9636 - dense_3_accuracy: 0.9979 - dense_4_accuracy: 0.9905 - dense_5_accuracy: 0.9722 - val_loss: 0.4245 - val_dense_1_loss: 0.0881 - val_dense_2_loss: 0.1477 - val_dense_3_loss: 0.0146 - val_dense_4_loss: 0.0526 - val_dense_5_loss: 0.1214 - val_dense_1_accuracy: 0.9813 - val_dense_2_accuracy: 0.9636 - val_dense_3_accuracy: 0.9979 - val_dense_4_accuracy: 0.9905 - val_dense_5_accuracy: 0.9722\n",
      "\n",
      "Epoch 00027: val_loss improved from 0.42480 to 0.42448, saving model to model\\model-ALL-27.hdf5\n",
      "Epoch 28/40\n",
      "782/782 - 344s - loss: 0.4247 - dense_1_loss: 0.0880 - dense_2_loss: 0.1478 - dense_3_loss: 0.0146 - dense_4_loss: 0.0527 - dense_5_loss: 0.1216 - dense_1_accuracy: 0.9813 - dense_2_accuracy: 0.9636 - dense_3_accuracy: 0.9979 - dense_4_accuracy: 0.9905 - dense_5_accuracy: 0.9722 - val_loss: 0.4237 - val_dense_1_loss: 0.0878 - val_dense_2_loss: 0.1474 - val_dense_3_loss: 0.0145 - val_dense_4_loss: 0.0527 - val_dense_5_loss: 0.1212 - val_dense_1_accuracy: 0.9813 - val_dense_2_accuracy: 0.9636 - val_dense_3_accuracy: 0.9979 - val_dense_4_accuracy: 0.9905 - val_dense_5_accuracy: 0.9722\n",
      "\n",
      "Epoch 00028: val_loss improved from 0.42448 to 0.42369, saving model to model\\model-ALL-28.hdf5\n",
      "Epoch 29/40\n",
      "782/782 - 348s - loss: 0.4238 - dense_1_loss: 0.0878 - dense_2_loss: 0.1475 - dense_3_loss: 0.0145 - dense_4_loss: 0.0527 - dense_5_loss: 0.1213 - dense_1_accuracy: 0.9813 - dense_2_accuracy: 0.9636 - dense_3_accuracy: 0.9979 - dense_4_accuracy: 0.9905 - dense_5_accuracy: 0.9722 - val_loss: 0.4230 - val_dense_1_loss: 0.0877 - val_dense_2_loss: 0.1471 - val_dense_3_loss: 0.0145 - val_dense_4_loss: 0.0526 - val_dense_5_loss: 0.1210 - val_dense_1_accuracy: 0.9813 - val_dense_2_accuracy: 0.9636 - val_dense_3_accuracy: 0.9979 - val_dense_4_accuracy: 0.9905 - val_dense_5_accuracy: 0.9722\n",
      "\n",
      "Epoch 00029: val_loss improved from 0.42369 to 0.42299, saving model to model\\model-ALL-29.hdf5\n",
      "Epoch 30/40\n",
      "782/782 - 348s - loss: 0.4232 - dense_1_loss: 0.0876 - dense_2_loss: 0.1471 - dense_3_loss: 0.0145 - dense_4_loss: 0.0527 - dense_5_loss: 0.1211 - dense_1_accuracy: 0.9813 - dense_2_accuracy: 0.9636 - dense_3_accuracy: 0.9979 - dense_4_accuracy: 0.9905 - dense_5_accuracy: 0.9722 - val_loss: 0.4224 - val_dense_1_loss: 0.0874 - val_dense_2_loss: 0.1469 - val_dense_3_loss: 0.0145 - val_dense_4_loss: 0.0526 - val_dense_5_loss: 0.1209 - val_dense_1_accuracy: 0.9813 - val_dense_2_accuracy: 0.9636 - val_dense_3_accuracy: 0.9979 - val_dense_4_accuracy: 0.9905 - val_dense_5_accuracy: 0.9722\n",
      "\n",
      "Epoch 00030: val_loss improved from 0.42299 to 0.42239, saving model to model\\model-ALL-30.hdf5\n",
      "Epoch 31/40\n",
      "782/782 - 354s - loss: 0.4222 - dense_1_loss: 0.0874 - dense_2_loss: 0.1468 - dense_3_loss: 0.0145 - dense_4_loss: 0.0527 - dense_5_loss: 0.1208 - dense_1_accuracy: 0.9813 - dense_2_accuracy: 0.9636 - dense_3_accuracy: 0.9979 - dense_4_accuracy: 0.9905 - dense_5_accuracy: 0.9722 - val_loss: 0.4210 - val_dense_1_loss: 0.0872 - val_dense_2_loss: 0.1463 - val_dense_3_loss: 0.0144 - val_dense_4_loss: 0.0526 - val_dense_5_loss: 0.1205 - val_dense_1_accuracy: 0.9813 - val_dense_2_accuracy: 0.9636 - val_dense_3_accuracy: 0.9979 - val_dense_4_accuracy: 0.9905 - val_dense_5_accuracy: 0.9722\n",
      "\n",
      "Epoch 00031: val_loss improved from 0.42239 to 0.42101, saving model to model\\model-ALL-31.hdf5\n",
      "Epoch 32/40\n",
      "782/782 - 344s - loss: 0.4209 - dense_1_loss: 0.0872 - dense_2_loss: 0.1462 - dense_3_loss: 0.0145 - dense_4_loss: 0.0526 - dense_5_loss: 0.1205 - dense_1_accuracy: 0.9813 - dense_2_accuracy: 0.9636 - dense_3_accuracy: 0.9979 - dense_4_accuracy: 0.9905 - dense_5_accuracy: 0.9722 - val_loss: 0.4201 - val_dense_1_loss: 0.0870 - val_dense_2_loss: 0.1457 - val_dense_3_loss: 0.0144 - val_dense_4_loss: 0.0526 - val_dense_5_loss: 0.1204 - val_dense_1_accuracy: 0.9813 - val_dense_2_accuracy: 0.9636 - val_dense_3_accuracy: 0.9979 - val_dense_4_accuracy: 0.9905 - val_dense_5_accuracy: 0.9722\n",
      "\n",
      "Epoch 00032: val_loss improved from 0.42101 to 0.42011, saving model to model\\model-ALL-32.hdf5\n",
      "Epoch 33/40\n",
      "782/782 - 337s - loss: 0.4199 - dense_1_loss: 0.0869 - dense_2_loss: 0.1457 - dense_3_loss: 0.0144 - dense_4_loss: 0.0527 - dense_5_loss: 0.1201 - dense_1_accuracy: 0.9813 - dense_2_accuracy: 0.9636 - dense_3_accuracy: 0.9979 - dense_4_accuracy: 0.9905 - dense_5_accuracy: 0.9722 - val_loss: 0.4188 - val_dense_1_loss: 0.0867 - val_dense_2_loss: 0.1452 - val_dense_3_loss: 0.0144 - val_dense_4_loss: 0.0526 - val_dense_5_loss: 0.1200 - val_dense_1_accuracy: 0.9813 - val_dense_2_accuracy: 0.9636 - val_dense_3_accuracy: 0.9979 - val_dense_4_accuracy: 0.9905 - val_dense_5_accuracy: 0.9722\n",
      "\n",
      "Epoch 00033: val_loss improved from 0.42011 to 0.41877, saving model to model\\model-ALL-33.hdf5\n",
      "Epoch 34/40\n",
      "782/782 - 342s - loss: 0.4185 - dense_1_loss: 0.0867 - dense_2_loss: 0.1450 - dense_3_loss: 0.0144 - dense_4_loss: 0.0526 - dense_5_loss: 0.1197 - dense_1_accuracy: 0.9813 - dense_2_accuracy: 0.9636 - dense_3_accuracy: 0.9979 - dense_4_accuracy: 0.9905 - dense_5_accuracy: 0.9722 - val_loss: 0.4169 - val_dense_1_loss: 0.0863 - val_dense_2_loss: 0.1444 - val_dense_3_loss: 0.0143 - val_dense_4_loss: 0.0525 - val_dense_5_loss: 0.1193 - val_dense_1_accuracy: 0.9813 - val_dense_2_accuracy: 0.9636 - val_dense_3_accuracy: 0.9979 - val_dense_4_accuracy: 0.9905 - val_dense_5_accuracy: 0.9722\n",
      "\n",
      "Epoch 00034: val_loss improved from 0.41877 to 0.41688, saving model to model\\model-ALL-34.hdf5\n",
      "Epoch 35/40\n",
      "782/782 - 342s - loss: 0.4166 - dense_1_loss: 0.0862 - dense_2_loss: 0.1442 - dense_3_loss: 0.0143 - dense_4_loss: 0.0526 - dense_5_loss: 0.1192 - dense_1_accuracy: 0.9813 - dense_2_accuracy: 0.9636 - dense_3_accuracy: 0.9979 - dense_4_accuracy: 0.9905 - dense_5_accuracy: 0.9722 - val_loss: 0.4150 - val_dense_1_loss: 0.0858 - val_dense_2_loss: 0.1435 - val_dense_3_loss: 0.0143 - val_dense_4_loss: 0.0525 - val_dense_5_loss: 0.1188 - val_dense_1_accuracy: 0.9813 - val_dense_2_accuracy: 0.9636 - val_dense_3_accuracy: 0.9979 - val_dense_4_accuracy: 0.9905 - val_dense_5_accuracy: 0.9722\n",
      "\n",
      "Epoch 00035: val_loss improved from 0.41688 to 0.41498, saving model to model\\model-ALL-35.hdf5\n",
      "Epoch 36/40\n",
      "782/782 - 342s - loss: 0.4147 - dense_1_loss: 0.0856 - dense_2_loss: 0.1433 - dense_3_loss: 0.0143 - dense_4_loss: 0.0526 - dense_5_loss: 0.1189 - dense_1_accuracy: 0.9813 - dense_2_accuracy: 0.9636 - dense_3_accuracy: 0.9979 - dense_4_accuracy: 0.9905 - dense_5_accuracy: 0.9722 - val_loss: 0.4128 - val_dense_1_loss: 0.0853 - val_dense_2_loss: 0.1426 - val_dense_3_loss: 0.0143 - val_dense_4_loss: 0.0525 - val_dense_5_loss: 0.1182 - val_dense_1_accuracy: 0.9813 - val_dense_2_accuracy: 0.9636 - val_dense_3_accuracy: 0.9979 - val_dense_4_accuracy: 0.9905 - val_dense_5_accuracy: 0.9722\n"
     ]
    },
    {
     "name": "stdout",
     "output_type": "stream",
     "text": [
      "\n",
      "Epoch 00036: val_loss improved from 0.41498 to 0.41281, saving model to model\\model-ALL-36.hdf5\n",
      "Epoch 37/40\n",
      "782/782 - 342s - loss: 0.4121 - dense_1_loss: 0.0851 - dense_2_loss: 0.1422 - dense_3_loss: 0.0142 - dense_4_loss: 0.0526 - dense_5_loss: 0.1180 - dense_1_accuracy: 0.9813 - dense_2_accuracy: 0.9636 - dense_3_accuracy: 0.9979 - dense_4_accuracy: 0.9905 - dense_5_accuracy: 0.9722 - val_loss: 0.4104 - val_dense_1_loss: 0.0847 - val_dense_2_loss: 0.1414 - val_dense_3_loss: 0.0142 - val_dense_4_loss: 0.0525 - val_dense_5_loss: 0.1175 - val_dense_1_accuracy: 0.9813 - val_dense_2_accuracy: 0.9636 - val_dense_3_accuracy: 0.9979 - val_dense_4_accuracy: 0.9905 - val_dense_5_accuracy: 0.9722\n",
      "\n",
      "Epoch 00037: val_loss improved from 0.41281 to 0.41041, saving model to model\\model-ALL-37.hdf5\n",
      "Epoch 38/40\n",
      "782/782 - 338s - loss: 0.4095 - dense_1_loss: 0.0845 - dense_2_loss: 0.1411 - dense_3_loss: 0.0142 - dense_4_loss: 0.0525 - dense_5_loss: 0.1173 - dense_1_accuracy: 0.9813 - dense_2_accuracy: 0.9636 - dense_3_accuracy: 0.9979 - dense_4_accuracy: 0.9905 - dense_5_accuracy: 0.9722 - val_loss: 0.4075 - val_dense_1_loss: 0.0840 - val_dense_2_loss: 0.1402 - val_dense_3_loss: 0.0141 - val_dense_4_loss: 0.0525 - val_dense_5_loss: 0.1167 - val_dense_1_accuracy: 0.9813 - val_dense_2_accuracy: 0.9636 - val_dense_3_accuracy: 0.9979 - val_dense_4_accuracy: 0.9905 - val_dense_5_accuracy: 0.9722\n",
      "\n",
      "Epoch 00038: val_loss improved from 0.41041 to 0.40750, saving model to model\\model-ALL-38.hdf5\n",
      "Epoch 39/40\n",
      "782/782 - 344s - loss: 0.4067 - dense_1_loss: 0.0837 - dense_2_loss: 0.1399 - dense_3_loss: 0.0141 - dense_4_loss: 0.0525 - dense_5_loss: 0.1165 - dense_1_accuracy: 0.9813 - dense_2_accuracy: 0.9636 - dense_3_accuracy: 0.9979 - dense_4_accuracy: 0.9905 - dense_5_accuracy: 0.9722 - val_loss: 0.4047 - val_dense_1_loss: 0.0832 - val_dense_2_loss: 0.1391 - val_dense_3_loss: 0.0140 - val_dense_4_loss: 0.0524 - val_dense_5_loss: 0.1160 - val_dense_1_accuracy: 0.9813 - val_dense_2_accuracy: 0.9636 - val_dense_3_accuracy: 0.9979 - val_dense_4_accuracy: 0.9905 - val_dense_5_accuracy: 0.9722\n",
      "\n",
      "Epoch 00039: val_loss improved from 0.40750 to 0.40474, saving model to model\\model-ALL-39.hdf5\n",
      "Epoch 40/40\n",
      "782/782 - 344s - loss: 0.4037 - dense_1_loss: 0.0829 - dense_2_loss: 0.1385 - dense_3_loss: 0.0140 - dense_4_loss: 0.0525 - dense_5_loss: 0.1158 - dense_1_accuracy: 0.9813 - dense_2_accuracy: 0.9636 - dense_3_accuracy: 0.9979 - dense_4_accuracy: 0.9905 - dense_5_accuracy: 0.9722 - val_loss: 0.4015 - val_dense_1_loss: 0.0823 - val_dense_2_loss: 0.1375 - val_dense_3_loss: 0.0140 - val_dense_4_loss: 0.0525 - val_dense_5_loss: 0.1152 - val_dense_1_accuracy: 0.9813 - val_dense_2_accuracy: 0.9636 - val_dense_3_accuracy: 0.9979 - val_dense_4_accuracy: 0.9905 - val_dense_5_accuracy: 0.9722\n",
      "\n",
      "Epoch 00040: val_loss improved from 0.40474 to 0.40152, saving model to model\\model-ALL-40.hdf5\n"
     ]
    }
   ],
   "source": [
    "# due to lack of time and resources x_train and y_train are limited to 100000\n",
    "# it can be changed as per resource available\n",
    "limitation = 100000\n",
    "\n",
    "# creating checkpoint for each epoch and saving the ones that are improvement from old epochs\n",
    "cp_callback = tf.keras.callbacks.ModelCheckpoint(filepath='model/model-ALL-{epoch:02d}.hdf5',\n",
    "                                                 save_best_only=True, \n",
    "                                                 save_freq='epoch', \n",
    "                                                 verbose=1)\n",
    "\n",
    "# as gpu resources gets maxed out, using tf with CPU is implemented\n",
    "with tf.device(\"CPU:0\"):\n",
    "    history = model.fit(x = x_train[0:limitation],\n",
    "              y = [y_train[0][0:limitation], y_train[1][0:limitation], y_train[2][0:limitation], y_train[3][0:limitation], y_train[4][0:limitation]],\n",
    "              validation_data = (x_validate[0:limitation], [y_validate[0][0:limitation], y_validate[1][0:limitation], y_validate[2][0:limitation], y_validate[3][0:limitation], y_validate[4][0:limitation]]),\n",
    "              epochs = EPOCHS,\n",
    "              batch_size = 128,\n",
    "              verbose =2,\n",
    "              callbacks = cp_callback)\n",
    "\n",
    "with open('history/History-ALL-40EP-CNN', 'wb') as file_pi:\n",
    "    pickle.dump(history.history, file_pi)\n"
   ]
  },
  {
   "cell_type": "markdown",
   "id": "2e5eef52",
   "metadata": {},
   "source": [
    "### Model Evaluation using Testing Set"
   ]
  },
  {
   "cell_type": "code",
   "execution_count": 26,
   "id": "830caf8b",
   "metadata": {},
   "outputs": [],
   "source": [
    "# Load model with the latest and the lowest loss\n",
    "from tensorflow.keras.models import load_model\n",
    "model = load_model('model/model-ALL-40.hdf5')"
   ]
  },
  {
   "cell_type": "code",
   "execution_count": 27,
   "id": "fbdfb194",
   "metadata": {},
   "outputs": [
    {
     "name": "stdout",
     "output_type": "stream",
     "text": [
      "7965/7965 [==============================] - 888s 111ms/step - loss: 0.4037 - dense_1_loss: 0.0831 - dense_2_loss: 0.1402 - dense_3_loss: 0.0135 - dense_4_loss: 0.0528 - dense_5_loss: 0.1142 - dense_1_accuracy: 0.9811 - dense_2_accuracy: 0.9627 - dense_3_accuracy: 0.9979 - dense_4_accuracy: 0.9905 - dense_5_accuracy: 0.9726\n",
      "loss: 0.40371495485305786\n",
      "dense_1_loss: 0.08307576179504395\n",
      "dense_2_loss: 0.140167236328125\n",
      "dense_3_loss: 0.013531497679650784\n",
      "dense_4_loss: 0.05275352671742439\n",
      "dense_5_loss: 0.11418812721967697\n",
      "dense_1_accuracy: 0.9810823202133179\n",
      "dense_2_accuracy: 0.9627071022987366\n",
      "dense_3_accuracy: 0.9979450106620789\n",
      "dense_4_accuracy: 0.9904911518096924\n",
      "dense_5_accuracy: 0.9725750088691711\n"
     ]
    }
   ],
   "source": [
    "# evaluate the model with all the test data available\n",
    "with tf.device(\"CPU:0\"):\n",
    "    results = model.evaluate(x_test, y_test, batch_size=128)\n",
    "    for num in range(0,len(model.metrics_names)):\n",
    "        print(model.metrics_names[num]+': '+str(results[num]))"
   ]
  },
  {
   "cell_type": "markdown",
   "id": "90602b5f",
   "metadata": {},
   "source": [
    "### Check The Evaluation Metrics"
   ]
  },
  {
   "cell_type": "code",
   "execution_count": 28,
   "id": "99501893",
   "metadata": {},
   "outputs": [],
   "source": [
    "# chacking the evaluation metrics with model \n",
    "with tf.device(\"CPU:0\"):\n",
    "    predicted = model.predict(x_test)"
   ]
  },
  {
   "cell_type": "code",
   "execution_count": 29,
   "id": "d8d60134",
   "metadata": {},
   "outputs": [
    {
     "name": "stdout",
     "output_type": "stream",
     "text": [
      "0    1019471\n",
      "dtype: int64\n",
      "0    1019471\n",
      "dtype: int64\n",
      "0    1019471\n",
      "dtype: int64\n",
      "0    1019471\n",
      "dtype: int64\n",
      "0    1019471\n",
      "dtype: int64\n"
     ]
    }
   ],
   "source": [
    "# the result for the prediction metrics\n",
    "pred_test = [[],[],[],[],[]]\n",
    "for col in range(0,len(predicted)):\n",
    "    for row in predicted[col]:\n",
    "        if row[0] >= row[1]:\n",
    "            pred_test[col].append(0)\n",
    "        else:\n",
    "            pred_test[col].append(1)\n",
    "            \n",
    "for col in range(0,len(predicted)):\n",
    "    print(pd.value_counts(pred_test[col]))"
   ]
  },
  {
   "cell_type": "markdown",
   "id": "2fda1c39",
   "metadata": {},
   "source": [
    "### Evaluate on the testing set\n"
   ]
  },
  {
   "cell_type": "code",
   "execution_count": 30,
   "id": "48a03453",
   "metadata": {},
   "outputs": [],
   "source": [
    "'''\n",
    "    CWE-120 - 1\n",
    "    CWE-119 - 2\n",
    "    CWE-469 - 3\n",
    "    CWE-476 - 4\n",
    "    CWE-other - 5\n",
    "    \n",
    "    the range is set from 1-5, but the list evalualtion is n-1 as it follows list type \n",
    "'''\n",
    "label = { 1: \"CWE-120\",\n",
    "    2: \"CWE-119\",\n",
    "    3: \"CWE-469\",\n",
    "    4 : \"CWE-476\",\n",
    "    5: \"CWE-other\"}"
   ]
  },
  {
   "cell_type": "code",
   "execution_count": 31,
   "id": "c2dbe87f",
   "metadata": {
    "scrolled": false
   },
   "outputs": [
    {
     "name": "stdout",
     "output_type": "stream",
     "text": [
      "\n",
      "This is evaluation for column CWE-120\n",
      "\n",
      "TP: 0\n",
      "FP: 0\n",
      "TN: 1000185\n",
      "FN: 19286\n",
      "\n",
      "Accuracy: 0.98108234564789\n"
     ]
    },
    {
     "name": "stderr",
     "output_type": "stream",
     "text": [
      "C:\\Users\\alber\\anaconda3\\envs\\data-latest\\lib\\site-packages\\sklearn\\metrics\\_classification.py:1248: UndefinedMetricWarning: Precision is ill-defined and being set to 0.0 due to no predicted samples. Use `zero_division` parameter to control this behavior.\n",
      "  _warn_prf(average, modifier, msg_start, len(result))\n"
     ]
    },
    {
     "name": "stdout",
     "output_type": "stream",
     "text": [
      "Precision: 0.0\n",
      "Recall: 0.0\n",
      "F-measure: 0.0\n",
      "Precision-Recall AUC: 0.08549876085410314\n",
      "AUC: 0.8017372810866659\n"
     ]
    },
    {
     "name": "stderr",
     "output_type": "stream",
     "text": [
      "C:\\Users\\alber\\anaconda3\\envs\\data-latest\\lib\\site-packages\\sklearn\\metrics\\_classification.py:873: RuntimeWarning: invalid value encountered in double_scalars\n",
      "  mcc = cov_ytyp / np.sqrt(cov_ytyt * cov_ypyp)\n"
     ]
    },
    {
     "name": "stdout",
     "output_type": "stream",
     "text": [
      "MCC: 0.0\n",
      "\n",
      "This is evaluation for column CWE-119\n",
      "\n",
      "TP: 0\n",
      "FP: 0\n",
      "TN: 981452\n",
      "FN: 38019\n",
      "\n",
      "Accuracy: 0.9627071294818588\n"
     ]
    },
    {
     "name": "stderr",
     "output_type": "stream",
     "text": [
      "C:\\Users\\alber\\anaconda3\\envs\\data-latest\\lib\\site-packages\\sklearn\\metrics\\_classification.py:1248: UndefinedMetricWarning: Precision is ill-defined and being set to 0.0 due to no predicted samples. Use `zero_division` parameter to control this behavior.\n",
      "  _warn_prf(average, modifier, msg_start, len(result))\n"
     ]
    },
    {
     "name": "stdout",
     "output_type": "stream",
     "text": [
      "Precision: 0.0\n",
      "Recall: 0.0\n",
      "F-measure: 0.0\n",
      "Precision-Recall AUC: 0.13241721364040254\n",
      "AUC: 0.7859551672541931\n"
     ]
    },
    {
     "name": "stderr",
     "output_type": "stream",
     "text": [
      "C:\\Users\\alber\\anaconda3\\envs\\data-latest\\lib\\site-packages\\sklearn\\metrics\\_classification.py:873: RuntimeWarning: invalid value encountered in double_scalars\n",
      "  mcc = cov_ytyp / np.sqrt(cov_ytyt * cov_ypyp)\n"
     ]
    },
    {
     "name": "stdout",
     "output_type": "stream",
     "text": [
      "MCC: 0.0\n",
      "\n",
      "This is evaluation for column CWE-469\n",
      "\n",
      "TP: 0\n",
      "FP: 0\n",
      "TN: 1017376\n",
      "FN: 2095\n",
      "\n",
      "Accuracy: 0.9979450126585259\n"
     ]
    },
    {
     "name": "stderr",
     "output_type": "stream",
     "text": [
      "C:\\Users\\alber\\anaconda3\\envs\\data-latest\\lib\\site-packages\\sklearn\\metrics\\_classification.py:1248: UndefinedMetricWarning: Precision is ill-defined and being set to 0.0 due to no predicted samples. Use `zero_division` parameter to control this behavior.\n",
      "  _warn_prf(average, modifier, msg_start, len(result))\n"
     ]
    },
    {
     "name": "stdout",
     "output_type": "stream",
     "text": [
      "Precision: 0.0\n",
      "Recall: 0.0\n",
      "F-measure: 0.0\n",
      "Precision-Recall AUC: 0.012982258107381062\n",
      "AUC: 0.8248651972256092\n"
     ]
    },
    {
     "name": "stderr",
     "output_type": "stream",
     "text": [
      "C:\\Users\\alber\\anaconda3\\envs\\data-latest\\lib\\site-packages\\sklearn\\metrics\\_classification.py:873: RuntimeWarning: invalid value encountered in double_scalars\n",
      "  mcc = cov_ytyp / np.sqrt(cov_ytyt * cov_ypyp)\n"
     ]
    },
    {
     "name": "stdout",
     "output_type": "stream",
     "text": [
      "MCC: 0.0\n",
      "\n",
      "This is evaluation for column CWE-476\n",
      "\n",
      "TP: 0\n",
      "FP: 0\n",
      "TN: 1009777\n",
      "FN: 9694\n",
      "\n",
      "Accuracy: 0.9904911468791168\n"
     ]
    },
    {
     "name": "stderr",
     "output_type": "stream",
     "text": [
      "C:\\Users\\alber\\anaconda3\\envs\\data-latest\\lib\\site-packages\\sklearn\\metrics\\_classification.py:1248: UndefinedMetricWarning: Precision is ill-defined and being set to 0.0 due to no predicted samples. Use `zero_division` parameter to control this behavior.\n",
      "  _warn_prf(average, modifier, msg_start, len(result))\n"
     ]
    },
    {
     "name": "stdout",
     "output_type": "stream",
     "text": [
      "Precision: 0.0\n",
      "Recall: 0.0\n",
      "F-measure: 0.0\n",
      "Precision-Recall AUC: 0.015759308785190794\n",
      "AUC: 0.6298502526664349\n"
     ]
    },
    {
     "name": "stderr",
     "output_type": "stream",
     "text": [
      "C:\\Users\\alber\\anaconda3\\envs\\data-latest\\lib\\site-packages\\sklearn\\metrics\\_classification.py:873: RuntimeWarning: invalid value encountered in double_scalars\n",
      "  mcc = cov_ytyp / np.sqrt(cov_ytyt * cov_ypyp)\n"
     ]
    },
    {
     "name": "stdout",
     "output_type": "stream",
     "text": [
      "MCC: 0.0\n",
      "\n",
      "This is evaluation for column CWE-other\n",
      "\n",
      "TP: 0\n",
      "FP: 0\n",
      "TN: 991512\n",
      "FN: 27959\n",
      "\n",
      "Accuracy: 0.9725749923244507\n"
     ]
    },
    {
     "name": "stderr",
     "output_type": "stream",
     "text": [
      "C:\\Users\\alber\\anaconda3\\envs\\data-latest\\lib\\site-packages\\sklearn\\metrics\\_classification.py:1248: UndefinedMetricWarning: Precision is ill-defined and being set to 0.0 due to no predicted samples. Use `zero_division` parameter to control this behavior.\n",
      "  _warn_prf(average, modifier, msg_start, len(result))\n"
     ]
    },
    {
     "name": "stdout",
     "output_type": "stream",
     "text": [
      "Precision: 0.0\n",
      "Recall: 0.0\n",
      "F-measure: 0.0\n",
      "Precision-Recall AUC: 0.09539946663973156\n",
      "AUC: 0.7539895843256882\n",
      "MCC: 0.0\n"
     ]
    },
    {
     "name": "stderr",
     "output_type": "stream",
     "text": [
      "C:\\Users\\alber\\anaconda3\\envs\\data-latest\\lib\\site-packages\\sklearn\\metrics\\_classification.py:873: RuntimeWarning: invalid value encountered in double_scalars\n",
      "  mcc = cov_ytyp / np.sqrt(cov_ytyt * cov_ypyp)\n"
     ]
    }
   ],
   "source": [
    "for col in range(1,6):\n",
    "    confusion = sklearn.metrics.confusion_matrix(y_true=test.iloc[:,col].to_numpy(), y_pred=pred_test[col-1])\n",
    "    tn, fp, fn, tp = confusion.ravel()\n",
    "    print('\\nThis is evaluation for column',label[col])\n",
    "    print('\\nTP:',tp)\n",
    "    print('FP:',fp)\n",
    "    print('TN:',tn)\n",
    "    print('FN:',fn)\n",
    "\n",
    "    ## Performance measure\n",
    "    print('\\nAccuracy: '+ str(sklearn.metrics.accuracy_score(y_true=test.iloc[:,col].to_numpy(), y_pred=pred_test[col-1])))\n",
    "    print('Precision: '+ str(sklearn.metrics.precision_score(y_true=test.iloc[:,col].to_numpy(), y_pred=pred_test[col-1])))\n",
    "    print('Recall: '+ str(sklearn.metrics.recall_score(y_true=test.iloc[:,col].to_numpy(), y_pred=pred_test[col-1])))\n",
    "    print('F-measure: '+ str(sklearn.metrics.f1_score(y_true=test.iloc[:,col].to_numpy(), y_pred=pred_test[col-1])))\n",
    "    print('Precision-Recall AUC: '+ str(sklearn.metrics.average_precision_score(y_true=test.iloc[:,col].to_numpy(), y_score=predicted[col-1][:,1])))\n",
    "    print('AUC: '+ str(sklearn.metrics.roc_auc_score(y_true=test.iloc[:,col].to_numpy(), y_score=predicted[col-1][:,1])))\n",
    "    print('MCC: '+ str(sklearn.metrics.matthews_corrcoef(y_true=test.iloc[:,col].to_numpy(), y_pred=pred_test[col-1])))\n",
    "    \n",
    "    "
   ]
  },
  {
   "cell_type": "code",
   "execution_count": 32,
   "id": "dd0c5260",
   "metadata": {
    "scrolled": false
   },
   "outputs": [
    {
     "data": {
      "image/png": "[encoded data removed]",
      "text/plain": [
       "<Figure size 1440x720 with 10 Axes>"
      ]
     },
     "metadata": {
      "needs_background": "light"
     },
     "output_type": "display_data"
    }
   ],
   "source": [
    "# confusion matrix for each category\n",
    "i,j=0,0\n",
    "PLOTS_PER_ROW = 3\n",
    "fig, axs = plt.subplots(math.ceil(5/PLOTS_PER_ROW),PLOTS_PER_ROW, figsize=(20, 10))    \n",
    "fig.suptitle(\"Confusion matrix\")\n",
    "for col in range(1,6):\n",
    "    confusion = sklearn.metrics.confusion_matrix(y_true=test.iloc[:,col].to_numpy(), y_pred=pred_test[col-1])\n",
    "    tn, fp, fn, tp = confusion.ravel()\n",
    "    cm = np.array([[tn,fp], [fn,tp]])\n",
    "    ls = [\"Negative\", \"Positive\"] # your y labels\n",
    "    disp = ConfusionMatrixDisplay(confusion_matrix=cm, display_labels=ls)\n",
    "    disp.plot(ax=axs[i,j]) \n",
    "    axs[i, j].set_title(label[col])\n",
    "    j+=1\n",
    "    if j%PLOTS_PER_ROW==0:\n",
    "        i+=1\n",
    "        j=0\n",
    "        \n",
    "fig.delaxes(axs[1,2])\n",
    "fig.tight_layout()\n",
    "plt.show()\n",
    "    "
   ]
  },
  {
   "cell_type": "code",
   "execution_count": 33,
   "id": "029703c7",
   "metadata": {},
   "outputs": [],
   "source": [
    "history = None\n",
    "with open('history/History-ALL-40EP-CNN', 'rb') as file_pi:\n",
    "    history = pickle.load(file_pi)\n",
    "#     pickle.dump(history.history, file_pi)"
   ]
  },
  {
   "cell_type": "markdown",
   "id": "d3d19d27",
   "metadata": {},
   "source": [
    "### Plot The Model's Training History"
   ]
  },
  {
   "cell_type": "code",
   "execution_count": 34,
   "id": "e8d34a23",
   "metadata": {
    "scrolled": false
   },
   "outputs": [
    {
     "name": "stderr",
     "output_type": "stream",
     "text": [
      "C:\\Users\\alber\\AppData\\Local\\Temp/ipykernel_13244/3866507951.py:6: UserWarning: color is redundantly defined by the 'color' keyword argument and the fmt string \"b\" (-> color=(0.0, 0.0, 1.0, 1)). The keyword argument will take precedence.\n",
      "  axs[0,0].plot(epochs_range, history['val_%s'%(model.metrics_names[6])], 'b', label='CWE-119', color='green')\n",
      "C:\\Users\\alber\\AppData\\Local\\Temp/ipykernel_13244/3866507951.py:7: UserWarning: color is redundantly defined by the 'color' keyword argument and the fmt string \"b\" (-> color=(0.0, 0.0, 1.0, 1)). The keyword argument will take precedence.\n",
      "  axs[0,0].plot(epochs_range, history['val_%s'%(model.metrics_names[7])], 'b', label='CWE-120', color='blue')\n",
      "C:\\Users\\alber\\AppData\\Local\\Temp/ipykernel_13244/3866507951.py:8: UserWarning: color is redundantly defined by the 'color' keyword argument and the fmt string \"b\" (-> color=(0.0, 0.0, 1.0, 1)). The keyword argument will take precedence.\n",
      "  axs[0,0].plot(epochs_range, history['val_%s'%(model.metrics_names[8])], 'b', label='CWE-469', color='red')\n",
      "C:\\Users\\alber\\AppData\\Local\\Temp/ipykernel_13244/3866507951.py:9: UserWarning: color is redundantly defined by the 'color' keyword argument and the fmt string \"b\" (-> color=(0.0, 0.0, 1.0, 1)). The keyword argument will take precedence.\n",
      "  axs[0,0].plot(epochs_range, history['val_%s'%(model.metrics_names[9])], 'b', label='CWE-479', color='purple')\n",
      "C:\\Users\\alber\\AppData\\Local\\Temp/ipykernel_13244/3866507951.py:10: UserWarning: color is redundantly defined by the 'color' keyword argument and the fmt string \"b\" (-> color=(0.0, 0.0, 1.0, 1)). The keyword argument will take precedence.\n",
      "  axs[0,0].plot(epochs_range, history['val_%s'%(model.metrics_names[10])], 'b', label='CWE-Other', color='orange')\n",
      "C:\\Users\\alber\\AppData\\Local\\Temp/ipykernel_13244/3866507951.py:15: UserWarning: color is redundantly defined by the 'color' keyword argument and the fmt string \"b\" (-> color=(0.0, 0.0, 1.0, 1)). The keyword argument will take precedence.\n",
      "  axs[0,1].plot(epochs_range, history['val_%s'%(model.metrics_names[1])], 'b', label='CWE-119', color='green')\n",
      "C:\\Users\\alber\\AppData\\Local\\Temp/ipykernel_13244/3866507951.py:16: UserWarning: color is redundantly defined by the 'color' keyword argument and the fmt string \"b\" (-> color=(0.0, 0.0, 1.0, 1)). The keyword argument will take precedence.\n",
      "  axs[0,1].plot(epochs_range, history['val_%s'%(model.metrics_names[2])], 'b', label='CWE-120', color='blue')\n",
      "C:\\Users\\alber\\AppData\\Local\\Temp/ipykernel_13244/3866507951.py:17: UserWarning: color is redundantly defined by the 'color' keyword argument and the fmt string \"b\" (-> color=(0.0, 0.0, 1.0, 1)). The keyword argument will take precedence.\n",
      "  axs[0,1].plot(epochs_range, history['val_%s'%(model.metrics_names[3])], 'b', label='CWE-469', color='red')\n",
      "C:\\Users\\alber\\AppData\\Local\\Temp/ipykernel_13244/3866507951.py:18: UserWarning: color is redundantly defined by the 'color' keyword argument and the fmt string \"b\" (-> color=(0.0, 0.0, 1.0, 1)). The keyword argument will take precedence.\n",
      "  axs[0,1].plot(epochs_range, history['val_%s'%(model.metrics_names[4])], 'b', label='CWE-479', color='purple')\n",
      "C:\\Users\\alber\\AppData\\Local\\Temp/ipykernel_13244/3866507951.py:19: UserWarning: color is redundantly defined by the 'color' keyword argument and the fmt string \"b\" (-> color=(0.0, 0.0, 1.0, 1)). The keyword argument will take precedence.\n",
      "  axs[0,1].plot(epochs_range, history['val_%s'%(model.metrics_names[5])], 'b', label='CWE-Other', color='orange')\n",
      "C:\\Users\\alber\\AppData\\Local\\Temp/ipykernel_13244/3866507951.py:23: UserWarning: color is redundantly defined by the 'color' keyword argument and the fmt string \"b\" (-> color=(0.0, 0.0, 1.0, 1)). The keyword argument will take precedence.\n",
      "  axs[1,0].plot(epochs_range, history[model.metrics_names[6]], 'b', label='CWE-119', color='green')\n",
      "C:\\Users\\alber\\AppData\\Local\\Temp/ipykernel_13244/3866507951.py:24: UserWarning: color is redundantly defined by the 'color' keyword argument and the fmt string \"b\" (-> color=(0.0, 0.0, 1.0, 1)). The keyword argument will take precedence.\n",
      "  axs[1,0].plot(epochs_range, history[model.metrics_names[7]], 'b', label='CWE-120', color='blue')\n",
      "C:\\Users\\alber\\AppData\\Local\\Temp/ipykernel_13244/3866507951.py:25: UserWarning: color is redundantly defined by the 'color' keyword argument and the fmt string \"b\" (-> color=(0.0, 0.0, 1.0, 1)). The keyword argument will take precedence.\n",
      "  axs[1,0].plot(epochs_range, history[model.metrics_names[8]], 'b', label='CWE-469', color='red')\n",
      "C:\\Users\\alber\\AppData\\Local\\Temp/ipykernel_13244/3866507951.py:26: UserWarning: color is redundantly defined by the 'color' keyword argument and the fmt string \"b\" (-> color=(0.0, 0.0, 1.0, 1)). The keyword argument will take precedence.\n",
      "  axs[1,0].plot(epochs_range, history[model.metrics_names[9]], 'b', label='CWE-479', color='purple')\n",
      "C:\\Users\\alber\\AppData\\Local\\Temp/ipykernel_13244/3866507951.py:27: UserWarning: color is redundantly defined by the 'color' keyword argument and the fmt string \"b\" (-> color=(0.0, 0.0, 1.0, 1)). The keyword argument will take precedence.\n",
      "  axs[1,0].plot(epochs_range, history[model.metrics_names[10]], 'b', label='CWE-Other', color='orange')\n",
      "C:\\Users\\alber\\AppData\\Local\\Temp/ipykernel_13244/3866507951.py:32: UserWarning: color is redundantly defined by the 'color' keyword argument and the fmt string \"b\" (-> color=(0.0, 0.0, 1.0, 1)). The keyword argument will take precedence.\n",
      "  axs[1,1].plot(epochs_range, history[model.metrics_names[1]], 'b', label='CWE-119', color='green')\n",
      "C:\\Users\\alber\\AppData\\Local\\Temp/ipykernel_13244/3866507951.py:33: UserWarning: color is redundantly defined by the 'color' keyword argument and the fmt string \"b\" (-> color=(0.0, 0.0, 1.0, 1)). The keyword argument will take precedence.\n",
      "  axs[1,1].plot(epochs_range, history[model.metrics_names[2]], 'b', label='CWE-120', color='blue')\n",
      "C:\\Users\\alber\\AppData\\Local\\Temp/ipykernel_13244/3866507951.py:34: UserWarning: color is redundantly defined by the 'color' keyword argument and the fmt string \"b\" (-> color=(0.0, 0.0, 1.0, 1)). The keyword argument will take precedence.\n",
      "  axs[1,1].plot(epochs_range, history[model.metrics_names[3]], 'b', label='CWE-469', color='red')\n",
      "C:\\Users\\alber\\AppData\\Local\\Temp/ipykernel_13244/3866507951.py:35: UserWarning: color is redundantly defined by the 'color' keyword argument and the fmt string \"b\" (-> color=(0.0, 0.0, 1.0, 1)). The keyword argument will take precedence.\n",
      "  axs[1,1].plot(epochs_range, history[model.metrics_names[4]], 'b', label='CWE-479', color='purple')\n",
      "C:\\Users\\alber\\AppData\\Local\\Temp/ipykernel_13244/3866507951.py:36: UserWarning: color is redundantly defined by the 'color' keyword argument and the fmt string \"b\" (-> color=(0.0, 0.0, 1.0, 1)). The keyword argument will take precedence.\n",
      "  axs[1,1].plot(epochs_range, history[model.metrics_names[5]], 'b', label='CWE-Other', color='orange')\n"
     ]
    },
    {
     "data": {
      "text/plain": [
       "<matplotlib.legend.Legend at 0x15fc6f1d4c0>"
      ]
     },
     "execution_count": 34,
     "metadata": {},
     "output_type": "execute_result"
    },
    {
     "data": {
      "image/png": "[encoded data removed]",
      "text/plain": [
       "<Figure size 1440x1080 with 4 Axes>"
      ]
     },
     "metadata": {
      "needs_background": "light"
     },
     "output_type": "display_data"
    }
   ],
   "source": [
    "epochs_range = range(len(history[model.metrics_names[1]]))\n",
    "\n",
    "fig, axs = plt.subplots(2, 2, figsize=(20,15))\n",
    "fig.suptitle('CNN with 10 Epochs')\n",
    "\n",
    "axs[0,0].plot(epochs_range, history['val_%s'%(model.metrics_names[6])], 'b', label='CWE-119', color='green')\n",
    "axs[0,0].plot(epochs_range, history['val_%s'%(model.metrics_names[7])], 'b', label='CWE-120', color='blue')\n",
    "axs[0,0].plot(epochs_range, history['val_%s'%(model.metrics_names[8])], 'b', label='CWE-469', color='red')\n",
    "axs[0,0].plot(epochs_range, history['val_%s'%(model.metrics_names[9])], 'b', label='CWE-479', color='purple')\n",
    "axs[0,0].plot(epochs_range, history['val_%s'%(model.metrics_names[10])], 'b', label='CWE-Other', color='orange')\n",
    "axs[0,0].set_title('Training accuracy')\n",
    "axs[0,0].legend()\n",
    "\n",
    "\n",
    "axs[0,1].plot(epochs_range, history['val_%s'%(model.metrics_names[1])], 'b', label='CWE-119', color='green')\n",
    "axs[0,1].plot(epochs_range, history['val_%s'%(model.metrics_names[2])], 'b', label='CWE-120', color='blue')\n",
    "axs[0,1].plot(epochs_range, history['val_%s'%(model.metrics_names[3])], 'b', label='CWE-469', color='red')\n",
    "axs[0,1].plot(epochs_range, history['val_%s'%(model.metrics_names[4])], 'b', label='CWE-479', color='purple')\n",
    "axs[0,1].plot(epochs_range, history['val_%s'%(model.metrics_names[5])], 'b', label='CWE-Other', color='orange')\n",
    "axs[0,1].set_title('Training Loss')\n",
    "axs[0,1].legend()\n",
    "\n",
    "axs[1,0].plot(epochs_range, history[model.metrics_names[6]], 'b', label='CWE-119', color='green')\n",
    "axs[1,0].plot(epochs_range, history[model.metrics_names[7]], 'b', label='CWE-120', color='blue')\n",
    "axs[1,0].plot(epochs_range, history[model.metrics_names[8]], 'b', label='CWE-469', color='red')\n",
    "axs[1,0].plot(epochs_range, history[model.metrics_names[9]], 'b', label='CWE-479', color='purple')\n",
    "axs[1,0].plot(epochs_range, history[model.metrics_names[10]], 'b', label='CWE-Other', color='orange')\n",
    "axs[1,0].set_title('Validation accuracy')\n",
    "axs[1,0].legend()\n",
    "\n",
    "\n",
    "axs[1,1].plot(epochs_range, history[model.metrics_names[1]], 'b', label='CWE-119', color='green')\n",
    "axs[1,1].plot(epochs_range, history[model.metrics_names[2]], 'b', label='CWE-120', color='blue')\n",
    "axs[1,1].plot(epochs_range, history[model.metrics_names[3]], 'b', label='CWE-469', color='red')\n",
    "axs[1,1].plot(epochs_range, history[model.metrics_names[4]], 'b', label='CWE-479', color='purple')\n",
    "axs[1,1].plot(epochs_range, history[model.metrics_names[5]], 'b', label='CWE-Other', color='orange')\n",
    "axs[1,1].set_title('Validation Loss')\n",
    "axs[1,1].legend()\n"
   ]
  }
 ],
 "metadata": {
  "kernelspec": {
   "display_name": "Python 3 (ipykernel)",
   "language": "python",
   "name": "python3"
  },
  "language_info": {
   "codemirror_mode": {
    "name": "ipython",
    "version": 3
   },
   "file_extension": ".py",
   "mimetype": "text/x-python",
   "name": "python",
   "nbconvert_exporter": "python",
   "pygments_lexer": "ipython3",
   "version": "3.9.7"
  }
 },
 "nbformat": 4,
 "nbformat_minor": 5
}
