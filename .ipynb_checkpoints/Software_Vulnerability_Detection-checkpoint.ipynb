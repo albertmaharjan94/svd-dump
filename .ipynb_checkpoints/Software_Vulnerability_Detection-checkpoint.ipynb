{
 "cells": [
  {
   "cell_type": "markdown",
   "id": "228db9cf",
   "metadata": {
    "slideshow": {
     "slide_type": "slide"
    }
   },
   "source": [
    "# Vulnerability Detection in Source Code using deep learning algorithm"
   ]
  },
  {
   "cell_type": "markdown",
   "id": "dba1a026",
   "metadata": {
    "slideshow": {
     "slide_type": "-"
    }
   },
   "source": [
    "- Datasets are available at https://osf.io/d45bw/.\n",
    "- Distribution of datasets: Training (80%), Validation ( 10%), and Testing ( 10%).\n",
    "- The dataset contains the source code of 1.27 million functions extracted from open source software and    labelled for possible vulnerabilities using static analysis. \n",
    "- Starting with the function name, the raw source code for each function is kept as a variable-length UTF-8 string.Each function has five binary 'vulnerability' labels, one for each of the four most prominent CWEs in our data plus all others:\n",
    "    - CWE-120 (3.7% of functions)\n",
    "    - CWE-119 (1.9% of functions)\n",
    "    - CWE-469 (0.95% of functions)\n",
    "    - CWE-476 (0.21% of functions)\n",
    "    - CWE-other (2.7% of functions)\n",
    "- Each function may have several labelled CWEs."
   ]
  },
  {
   "cell_type": "markdown",
   "id": "83d13a71",
   "metadata": {
    "slideshow": {
     "slide_type": "-"
    }
   },
   "source": [
    "## Data Pre-processing"
   ]
  },
  {
   "cell_type": "markdown",
   "id": "7f0c2c52",
   "metadata": {
    "slideshow": {
     "slide_type": "-"
    }
   },
   "source": [
    "Converting HDF5 files to python pickle"
   ]
  },
  {
   "cell_type": "code",
   "execution_count": 1,
   "id": "10441827",
   "metadata": {},
   "outputs": [],
   "source": [
    "import h5py\n",
    "import pandas as pd"
   ]
  },
  {
   "cell_type": "markdown",
   "id": "59764713",
   "metadata": {
    "slideshow": {
     "slide_type": "-"
    }
   },
   "source": [
    "Opening HDF5 file where the data is provided in three HDF5 files corresponding to an 80:10:10 train/validate/test split"
   ]
  },
  {
   "cell_type": "code",
   "execution_count": 2,
   "id": "6e4418e4",
   "metadata": {
    "slideshow": {
     "slide_type": "-"
    }
   },
   "outputs": [],
   "source": [
    "data = h5py.File(\"Draper_VDISC_Dataset/VDISC_train.hdf5\",'r') #train dataset \n",
    "#data = h5py.File(\"Draper_VDISC_Dataset/VDISC_validate.hdf5\",'r') #validation dataset\n",
    "#data = h5py.File(\"Draper_VDISC_Dataset/VDISC_test.hdf5\",'r') #test dataset"
   ]
  },
  {
   "cell_type": "code",
   "execution_count": 3,
   "id": "35254eea",
   "metadata": {},
   "outputs": [
    {
     "name": "stdout",
     "output_type": "stream",
     "text": [
      "<class 'h5py._hl.files.File'>\n"
     ]
    }
   ],
   "source": [
    "print(type(data))"
   ]
  },
  {
   "cell_type": "code",
   "execution_count": 4,
   "id": "3254cca8",
   "metadata": {},
   "outputs": [
    {
     "name": "stdout",
     "output_type": "stream",
     "text": [
      "<KeysViewHDF5 ['CWE-119', 'CWE-120', 'CWE-469', 'CWE-476', 'CWE-other', 'functionSource']>\n"
     ]
    }
   ],
   "source": [
    "#printing labeled datasets\n",
    "print(data.keys())"
   ]
  },
  {
   "cell_type": "code",
   "execution_count": 5,
   "id": "7983033b",
   "metadata": {
    "slideshow": {
     "slide_type": "-"
    }
   },
   "outputs": [
    {
     "name": "stdout",
     "output_type": "stream",
     "text": [
      "CWE-119\n",
      "CWE-120\n",
      "CWE-469\n",
      "CWE-476\n",
      "CWE-other\n",
      "functionSource\n"
     ]
    }
   ],
   "source": [
    "# List all groups\n",
    "data.visit(print)"
   ]
  },
  {
   "cell_type": "markdown",
   "id": "d46cd6cd",
   "metadata": {
    "slideshow": {
     "slide_type": "-"
    }
   },
   "source": [
    "Generating a new dataframe from the HDF5 file"
   ]
  },
  {
   "cell_type": "code",
   "execution_count": 6,
   "id": "9f94cbe3",
   "metadata": {
    "slideshow": {
     "slide_type": "-"
    }
   },
   "outputs": [],
   "source": [
    "data_frame = pd.DataFrame(list(data['functionSource']))"
   ]
  },
  {
   "cell_type": "code",
   "execution_count": 7,
   "id": "d94a8aff",
   "metadata": {
    "slideshow": {
     "slide_type": "-"
    }
   },
   "outputs": [
    {
     "name": "stdout",
     "output_type": "stream",
     "text": [
      "                                                         0\n",
      "0        b'clear_area(int startx, int starty, int xsize...\n",
      "1        b'ReconstructDuList(Statement* head)\\n{\\n    S...\n",
      "2        b'free_speaker(void)\\n{\\n   if(Lengths)\\n     ...\n",
      "3        b'mlx4_register_device(struct mlx4_dev *dev)\\n...\n",
      "4        b'Parse_Env_Var(void)\\n{\\n  char *p = getenv(\"...\n",
      "...                                                    ...\n",
      "1019466  b'visitICmpInst(ICmpInst &I) {\\n  // We must c...\n",
      "1019467  b'path_node_delete_chain(path_node * head)\\n{\\...\n",
      "1019468  b'addrconf6_start (NMDevice *self)\\n{\\n\\tNMDev...\n",
      "1019469  b'Next(const SQObjectPtr &refpos, SQObjectPtr ...\n",
      "1019470  b'EffectHealMaxHealth(SpellEffectIndex /*eff_i...\n",
      "\n",
      "[1019471 rows x 1 columns]\n"
     ]
    }
   ],
   "source": [
    "print(data_frame)"
   ]
  },
  {
   "cell_type": "code",
   "execution_count": 8,
   "id": "d2924be9",
   "metadata": {
    "slideshow": {
     "slide_type": "-"
    }
   },
   "outputs": [],
   "source": [
    "data_frame['CWE-119']=list(data['CWE-119'])"
   ]
  },
  {
   "cell_type": "code",
   "execution_count": 9,
   "id": "74435f79",
   "metadata": {
    "slideshow": {
     "slide_type": "-"
    }
   },
   "outputs": [
    {
     "name": "stdout",
     "output_type": "stream",
     "text": [
      "0          False\n",
      "1          False\n",
      "2          False\n",
      "3          False\n",
      "4           True\n",
      "           ...  \n",
      "1019466    False\n",
      "1019467    False\n",
      "1019468    False\n",
      "1019469    False\n",
      "1019470    False\n",
      "Name: CWE-119, Length: 1019471, dtype: bool\n"
     ]
    }
   ],
   "source": [
    "print(data_frame['CWE-119'])"
   ]
  },
  {
   "cell_type": "code",
   "execution_count": 10,
   "id": "b1497a26",
   "metadata": {
    "slideshow": {
     "slide_type": "-"
    }
   },
   "outputs": [],
   "source": [
    "data_frame['CWE-120']=list(data['CWE-120'])"
   ]
  },
  {
   "cell_type": "code",
   "execution_count": 11,
   "id": "a2ea8a25",
   "metadata": {
    "slideshow": {
     "slide_type": "-"
    }
   },
   "outputs": [
    {
     "name": "stdout",
     "output_type": "stream",
     "text": [
      "0          False\n",
      "1          False\n",
      "2          False\n",
      "3          False\n",
      "4           True\n",
      "           ...  \n",
      "1019466    False\n",
      "1019467    False\n",
      "1019468    False\n",
      "1019469    False\n",
      "1019470    False\n",
      "Name: CWE-120, Length: 1019471, dtype: bool\n"
     ]
    }
   ],
   "source": [
    "print(data_frame['CWE-120'])"
   ]
  },
  {
   "cell_type": "code",
   "execution_count": 12,
   "id": "a4ae0e3b",
   "metadata": {
    "slideshow": {
     "slide_type": "-"
    }
   },
   "outputs": [],
   "source": [
    "data_frame['CWE-469']=list(data['CWE-469'])"
   ]
  },
  {
   "cell_type": "code",
   "execution_count": 13,
   "id": "b93c67f4",
   "metadata": {
    "slideshow": {
     "slide_type": "-"
    }
   },
   "outputs": [
    {
     "name": "stdout",
     "output_type": "stream",
     "text": [
      "0          False\n",
      "1          False\n",
      "2          False\n",
      "3          False\n",
      "4          False\n",
      "           ...  \n",
      "1019466    False\n",
      "1019467    False\n",
      "1019468    False\n",
      "1019469    False\n",
      "1019470    False\n",
      "Name: CWE-469, Length: 1019471, dtype: bool\n"
     ]
    }
   ],
   "source": [
    "print(data_frame['CWE-469'])"
   ]
  },
  {
   "cell_type": "code",
   "execution_count": 14,
   "id": "ae18d377",
   "metadata": {
    "slideshow": {
     "slide_type": "-"
    }
   },
   "outputs": [],
   "source": [
    "data_frame['CWE-476']=list(data['CWE-476']) "
   ]
  },
  {
   "cell_type": "code",
   "execution_count": 15,
   "id": "31c35575",
   "metadata": {
    "slideshow": {
     "slide_type": "-"
    }
   },
   "outputs": [
    {
     "name": "stdout",
     "output_type": "stream",
     "text": [
      "0          False\n",
      "1          False\n",
      "2          False\n",
      "3          False\n",
      "4          False\n",
      "           ...  \n",
      "1019466    False\n",
      "1019467    False\n",
      "1019468    False\n",
      "1019469    False\n",
      "1019470    False\n",
      "Name: CWE-476, Length: 1019471, dtype: bool\n"
     ]
    }
   ],
   "source": [
    "print(data_frame['CWE-476'])"
   ]
  },
  {
   "cell_type": "code",
   "execution_count": 16,
   "id": "ffc41cd5",
   "metadata": {},
   "outputs": [],
   "source": [
    "data_frame['CWE-other']=list(data['CWE-other']) "
   ]
  },
  {
   "cell_type": "code",
   "execution_count": 17,
   "id": "706ec3aa",
   "metadata": {},
   "outputs": [
    {
     "name": "stdout",
     "output_type": "stream",
     "text": [
      "0          False\n",
      "1          False\n",
      "2          False\n",
      "3          False\n",
      "4           True\n",
      "           ...  \n",
      "1019466    False\n",
      "1019467    False\n",
      "1019468    False\n",
      "1019469    False\n",
      "1019470    False\n",
      "Name: CWE-other, Length: 1019471, dtype: bool\n"
     ]
    }
   ],
   "source": [
    "print(data_frame['CWE-other'])"
   ]
  },
  {
   "cell_type": "code",
   "execution_count": 18,
   "id": "cd59eee4",
   "metadata": {
    "slideshow": {
     "slide_type": "-"
    }
   },
   "outputs": [],
   "source": [
    "data_frame.rename(columns={0:'functionSource'},inplace=True)"
   ]
  },
  {
   "cell_type": "code",
   "execution_count": 19,
   "id": "ba5a87d8",
   "metadata": {
    "slideshow": {
     "slide_type": "-"
    }
   },
   "outputs": [
    {
     "data": {
      "text/html": [
       "<div>\n",
       "<style scoped>\n",
       "    .dataframe tbody tr th:only-of-type {\n",
       "        vertical-align: middle;\n",
       "    }\n",
       "\n",
       "    .dataframe tbody tr th {\n",
       "        vertical-align: top;\n",
       "    }\n",
       "\n",
       "    .dataframe thead th {\n",
       "        text-align: right;\n",
       "    }\n",
       "</style>\n",
       "<table border=\"1\" class=\"dataframe\">\n",
       "  <thead>\n",
       "    <tr style=\"text-align: right;\">\n",
       "      <th></th>\n",
       "      <th>functionSource</th>\n",
       "      <th>CWE-119</th>\n",
       "      <th>CWE-120</th>\n",
       "      <th>CWE-469</th>\n",
       "      <th>CWE-476</th>\n",
       "      <th>CWE-other</th>\n",
       "    </tr>\n",
       "  </thead>\n",
       "  <tbody>\n",
       "    <tr>\n",
       "      <th>0</th>\n",
       "      <td>b'clear_area(int startx, int starty, int xsize...</td>\n",
       "      <td>False</td>\n",
       "      <td>False</td>\n",
       "      <td>False</td>\n",
       "      <td>False</td>\n",
       "      <td>False</td>\n",
       "    </tr>\n",
       "    <tr>\n",
       "      <th>1</th>\n",
       "      <td>b'ReconstructDuList(Statement* head)\\n{\\n    S...</td>\n",
       "      <td>False</td>\n",
       "      <td>False</td>\n",
       "      <td>False</td>\n",
       "      <td>False</td>\n",
       "      <td>False</td>\n",
       "    </tr>\n",
       "    <tr>\n",
       "      <th>2</th>\n",
       "      <td>b'free_speaker(void)\\n{\\n   if(Lengths)\\n     ...</td>\n",
       "      <td>False</td>\n",
       "      <td>False</td>\n",
       "      <td>False</td>\n",
       "      <td>False</td>\n",
       "      <td>False</td>\n",
       "    </tr>\n",
       "    <tr>\n",
       "      <th>3</th>\n",
       "      <td>b'mlx4_register_device(struct mlx4_dev *dev)\\n...</td>\n",
       "      <td>False</td>\n",
       "      <td>False</td>\n",
       "      <td>False</td>\n",
       "      <td>False</td>\n",
       "      <td>False</td>\n",
       "    </tr>\n",
       "    <tr>\n",
       "      <th>4</th>\n",
       "      <td>b'Parse_Env_Var(void)\\n{\\n  char *p = getenv(\"...</td>\n",
       "      <td>True</td>\n",
       "      <td>True</td>\n",
       "      <td>False</td>\n",
       "      <td>False</td>\n",
       "      <td>True</td>\n",
       "    </tr>\n",
       "  </tbody>\n",
       "</table>\n",
       "</div>"
      ],
      "text/plain": [
       "                                      functionSource  CWE-119  CWE-120  \\\n",
       "0  b'clear_area(int startx, int starty, int xsize...    False    False   \n",
       "1  b'ReconstructDuList(Statement* head)\\n{\\n    S...    False    False   \n",
       "2  b'free_speaker(void)\\n{\\n   if(Lengths)\\n     ...    False    False   \n",
       "3  b'mlx4_register_device(struct mlx4_dev *dev)\\n...    False    False   \n",
       "4  b'Parse_Env_Var(void)\\n{\\n  char *p = getenv(\"...     True     True   \n",
       "\n",
       "   CWE-469  CWE-476  CWE-other  \n",
       "0    False    False      False  \n",
       "1    False    False      False  \n",
       "2    False    False      False  \n",
       "3    False    False      False  \n",
       "4    False    False       True  "
      ]
     },
     "execution_count": 19,
     "metadata": {},
     "output_type": "execute_result"
    }
   ],
   "source": [
    "data_frame.iloc[0:5,0:]"
   ]
  },
  {
   "cell_type": "code",
   "execution_count": 20,
   "id": "206bc7ae",
   "metadata": {
    "slideshow": {
     "slide_type": "-"
    }
   },
   "outputs": [],
   "source": [
    "data_frame.to_pickle(\"VDISC_train.pickle\")\n",
    "data_frame.to_pickle(\"VDISC_validate.pickle\")\n",
    "data_frame.to_pickle(\"VDISC_test.pickle\")"
   ]
  },
  {
   "cell_type": "code",
   "execution_count": 22,
   "id": "b0105fe9",
   "metadata": {},
   "outputs": [
    {
     "name": "stdout",
     "output_type": "stream",
     "text": [
      "Collecting matplotlib\n",
      "  Downloading matplotlib-3.3.4-cp36-cp36m-win_amd64.whl (8.5 MB)\n",
      "Requirement already satisfied: pyparsing!=2.0.4,!=2.1.2,!=2.1.6,>=2.0.3 in c:\\users\\softwarica\\anaconda3\\envs\\data-science\\lib\\site-packages (from matplotlib) (2.4.7)\n",
      "Requirement already satisfied: python-dateutil>=2.1 in c:\\users\\softwarica\\anaconda3\\envs\\data-science\\lib\\site-packages (from matplotlib) (2.8.2)\n",
      "Requirement already satisfied: numpy>=1.15 in c:\\users\\softwarica\\anaconda3\\envs\\data-science\\lib\\site-packages (from matplotlib) (1.19.2)\n",
      "Collecting kiwisolver>=1.0.1\n",
      "  Downloading kiwisolver-1.3.1-cp36-cp36m-win_amd64.whl (51 kB)\n",
      "Collecting pillow>=6.2.0\n",
      "  Downloading Pillow-8.3.2-cp36-cp36m-win_amd64.whl (3.2 MB)\n",
      "Collecting cycler>=0.10\n",
      "  Downloading cycler-0.10.0-py2.py3-none-any.whl (6.5 kB)\n",
      "Requirement already satisfied: six in c:\\users\\softwarica\\anaconda3\\envs\\data-science\\lib\\site-packages (from cycler>=0.10->matplotlib) (1.16.0)\n",
      "Installing collected packages: pillow, kiwisolver, cycler, matplotlib\n",
      "Successfully installed cycler-0.10.0 kiwisolver-1.3.1 matplotlib-3.3.4 pillow-8.3.2\n"
     ]
    }
   ],
   "source": [
    "!pip install matplotlib"
   ]
  },
  {
   "cell_type": "markdown",
   "id": "e63123da",
   "metadata": {
    "slideshow": {
     "slide_type": "-"
    }
   },
   "source": [
    "## Exploratory Data Analysis"
   ]
  },
  {
   "cell_type": "markdown",
   "id": "b2c10528",
   "metadata": {},
   "source": [
    "## Learning Phase"
   ]
  },
  {
   "cell_type": "markdown",
   "id": "22ccc8e0",
   "metadata": {},
   "source": [
    "### Importing libraries"
   ]
  },
  {
   "cell_type": "code",
   "execution_count": 2,
   "id": "1c0c4902",
   "metadata": {
    "scrolled": true
   },
   "outputs": [
    {
     "name": "stdout",
     "output_type": "stream",
     "text": [
      "Tensorlfow version:  2.1.0\n",
      "Eager mode:  True\n",
      "GPU is NOT AVAILABLE\n"
     ]
    }
   ],
   "source": [
    "import tensorflow as tf\n",
    "import numpy as np\n",
    "import pandas as pd\n",
    "import matplotlib.pyplot as plt\n",
    "import sklearn.metrics\n",
    "from sklearn.utils import class_weight\n",
    "import pickle\n",
    "\n",
    "print(\"Tensorlfow version: \", tf.__version__)\n",
    "print(\"Eager mode: \", tf.executing_eagerly())\n",
    "print(\"GPU is\", \"available\" if tf.config.list_physical_devices('GPU') else \"NOT AVAILABLE\")"
   ]
  },
  {
   "cell_type": "markdown",
   "id": "3313058a",
   "metadata": {},
   "source": [
    "### Setting global variable"
   ]
  },
  {
   "cell_type": "code",
   "execution_count": 7,
   "id": "a7a0c373",
   "metadata": {},
   "outputs": [],
   "source": [
    "# Set the global value\n",
    "WORDS_SIZE=10000\n",
    "INPUT_SIZE=500\n",
    "NUM_CLASSES=2\n",
    "MODEL_NUM=0\n",
    "EPOCHS=10"
   ]
  },
  {
   "cell_type": "markdown",
   "id": "6cc683cc",
   "metadata": {
    "slideshow": {
     "slide_type": "slide"
    }
   },
   "source": [
    "### Importing processed datasets"
   ]
  },
  {
   "cell_type": "code",
   "execution_count": 8,
   "id": "58a1aee3",
   "metadata": {
    "slideshow": {
     "slide_type": "fragment"
    }
   },
   "outputs": [],
   "source": [
    "train=pd.read_pickle(\"VDISC_train.pickle\")\n",
    "validate=pd.read_pickle(\"VDISC_validate.pickle\")\n",
    "test=pd.read_pickle(\"VDISC_test.pickle\")\n",
    "for dataset in [train,validate,test]:\n",
    "    for col in range(1,6):\n",
    "        dataset.iloc[:,col] = dataset.iloc[:,col].map({False: 0, True: 1})\n",
    "\n",
    "# Create source code sdata for tokenization\n",
    "x_all = train['functionSource']\n",
    "#x_all = x_all.append(validate['functionSource'])\n",
    "#x_all = x_all.append(test['functionSource'])"
   ]
  },
  {
   "cell_type": "code",
   "execution_count": 26,
   "id": "6bde0156",
   "metadata": {
    "slideshow": {
     "slide_type": "fragment"
    }
   },
   "outputs": [
    {
     "data": {
      "text/html": [
       "<div>\n",
       "<style scoped>\n",
       "    .dataframe tbody tr th:only-of-type {\n",
       "        vertical-align: middle;\n",
       "    }\n",
       "\n",
       "    .dataframe tbody tr th {\n",
       "        vertical-align: top;\n",
       "    }\n",
       "\n",
       "    .dataframe thead th {\n",
       "        text-align: right;\n",
       "    }\n",
       "</style>\n",
       "<table border=\"1\" class=\"dataframe\">\n",
       "  <thead>\n",
       "    <tr style=\"text-align: right;\">\n",
       "      <th></th>\n",
       "      <th>functionSource</th>\n",
       "      <th>CWE-119</th>\n",
       "      <th>CWE-120</th>\n",
       "      <th>CWE-469</th>\n",
       "      <th>CWE-476</th>\n",
       "      <th>CWE-other</th>\n",
       "    </tr>\n",
       "  </thead>\n",
       "  <tbody>\n",
       "    <tr>\n",
       "      <th>0</th>\n",
       "      <td>b'clear_area(int startx, int starty, int xsize...</td>\n",
       "      <td>0</td>\n",
       "      <td>0</td>\n",
       "      <td>0</td>\n",
       "      <td>0</td>\n",
       "      <td>0</td>\n",
       "    </tr>\n",
       "    <tr>\n",
       "      <th>1</th>\n",
       "      <td>b'ReconstructDuList(Statement* head)\\n{\\n    S...</td>\n",
       "      <td>0</td>\n",
       "      <td>0</td>\n",
       "      <td>0</td>\n",
       "      <td>0</td>\n",
       "      <td>0</td>\n",
       "    </tr>\n",
       "    <tr>\n",
       "      <th>2</th>\n",
       "      <td>b'free_speaker(void)\\n{\\n   if(Lengths)\\n     ...</td>\n",
       "      <td>0</td>\n",
       "      <td>0</td>\n",
       "      <td>0</td>\n",
       "      <td>0</td>\n",
       "      <td>0</td>\n",
       "    </tr>\n",
       "    <tr>\n",
       "      <th>3</th>\n",
       "      <td>b'mlx4_register_device(struct mlx4_dev *dev)\\n...</td>\n",
       "      <td>0</td>\n",
       "      <td>0</td>\n",
       "      <td>0</td>\n",
       "      <td>0</td>\n",
       "      <td>0</td>\n",
       "    </tr>\n",
       "    <tr>\n",
       "      <th>4</th>\n",
       "      <td>b'Parse_Env_Var(void)\\n{\\n  char *p = getenv(\"...</td>\n",
       "      <td>1</td>\n",
       "      <td>1</td>\n",
       "      <td>0</td>\n",
       "      <td>0</td>\n",
       "      <td>1</td>\n",
       "    </tr>\n",
       "  </tbody>\n",
       "</table>\n",
       "</div>"
      ],
      "text/plain": [
       "                                      functionSource  CWE-119  CWE-120  \\\n",
       "0  b'clear_area(int startx, int starty, int xsize...        0        0   \n",
       "1  b'ReconstructDuList(Statement* head)\\n{\\n    S...        0        0   \n",
       "2  b'free_speaker(void)\\n{\\n   if(Lengths)\\n     ...        0        0   \n",
       "3  b'mlx4_register_device(struct mlx4_dev *dev)\\n...        0        0   \n",
       "4  b'Parse_Env_Var(void)\\n{\\n  char *p = getenv(\"...        1        1   \n",
       "\n",
       "   CWE-469  CWE-476  CWE-other  \n",
       "0        0        0          0  \n",
       "1        0        0          0  \n",
       "2        0        0          0  \n",
       "3        0        0          0  \n",
       "4        0        0          1  "
      ]
     },
     "execution_count": 26,
     "metadata": {},
     "output_type": "execute_result"
    }
   ],
   "source": [
    "# Overview of the datasets\n",
    "train.head()"
   ]
  },
  {
   "cell_type": "markdown",
   "id": "f39b6f32",
   "metadata": {
    "slideshow": {
     "slide_type": "slide"
    }
   },
   "source": [
    "### Tokenizing the source codes"
   ]
  },
  {
   "cell_type": "code",
   "execution_count": 9,
   "id": "9696f331",
   "metadata": {
    "slideshow": {
     "slide_type": "fragment"
    }
   },
   "outputs": [
    {
     "name": "stdout",
     "output_type": "stream",
     "text": [
      "Number of tokens:  1094129\n"
     ]
    }
   ],
   "source": [
    "# Tokenizer with word-level\n",
    "tokenizer = tf.keras.preprocessing.text.Tokenizer(char_level=False)\n",
    "#tokenizer.fit_on_texts(list(x_all))\n",
    "tokenizer.fit_on_texts([x.decode('utf-8') for x in list(x_all)])\n",
    "del(x_all)\n",
    "print('Number of tokens: ',len(tokenizer.word_counts))\n"
   ]
  },
  {
   "cell_type": "code",
   "execution_count": 10,
   "id": "9aed60b3",
   "metadata": {
    "slideshow": {
     "slide_type": "fragment"
    }
   },
   "outputs": [],
   "source": [
    "# Reducing to top N words\n",
    "tokenizer.num_words = WORDS_SIZE"
   ]
  },
  {
   "cell_type": "code",
   "execution_count": 11,
   "id": "100d1f43",
   "metadata": {
    "slideshow": {
     "slide_type": "fragment"
    }
   },
   "outputs": [
    {
     "data": {
      "text/plain": [
       "[('if', 3126441),\n",
       " ('0', 2106459),\n",
       " ('return', 1745333),\n",
       " ('i', 1375259),\n",
       " ('1', 1186857),\n",
       " ('int', 1016932),\n",
       " ('null', 975347),\n",
       " ('the', 791897),\n",
       " ('t', 733766),\n",
       " ('n', 716010)]"
      ]
     },
     "execution_count": 11,
     "metadata": {},
     "output_type": "execute_result"
    }
   ],
   "source": [
    "# Top 10 words\n",
    "sorted(tokenizer.word_counts.items(), key=lambda x:x[1], reverse=True)[0:10]"
   ]
  },
  {
   "cell_type": "markdown",
   "id": "95b9d7a6",
   "metadata": {
    "slideshow": {
     "slide_type": "slide"
    }
   },
   "source": [
    "### Create sequence files from the tokens"
   ]
  },
  {
   "cell_type": "code",
   "execution_count": 30,
   "id": "5ab5081b",
   "metadata": {
    "slideshow": {
     "slide_type": "fragment"
    }
   },
   "outputs": [],
   "source": [
    "## Tokkenizing train data and create matrix\n",
    "# list_tokenized_train = tokenizer.texts_to_sequences(train['functionSource'])\n",
    "list_tokenized_train = tokenizer.texts_to_sequences([x.decode('utf-8') for x in train['functionSource']])\n",
    "x_train = tf.keras.preprocessing.sequence.pad_sequences(list_tokenized_train, \n",
    "                                  maxlen=INPUT_SIZE,\n",
    "                                  padding='post')\n",
    "x_train = x_train.astype(np.int64)"
   ]
  },
  {
   "cell_type": "code",
   "execution_count": 12,
   "id": "fb77e05e",
   "metadata": {
    "slideshow": {
     "slide_type": "fragment"
    }
   },
   "outputs": [],
   "source": [
    "## Tokkenizing test data and create matrix\n",
    "list_tokenized_test = tokenizer.texts_to_sequences([x.decode('utf-8') for x in test['functionSource']])\n",
    "x_test = tf.keras.preprocessing.sequence.pad_sequences(list_tokenized_test, \n",
    "                                 maxlen=INPUT_SIZE,\n",
    "                                 padding='post')\n",
    "x_test = x_test.astype(np.int64)"
   ]
  },
  {
   "cell_type": "code",
   "execution_count": 32,
   "id": "41736cf1",
   "metadata": {
    "slideshow": {
     "slide_type": "fragment"
    }
   },
   "outputs": [],
   "source": [
    "## Tokkenizing validate data and create matrix\n",
    "list_tokenized_validate = tokenizer.texts_to_sequences([x.decode('utf-8') for x in validate['functionSource']])\n",
    "x_validate = tf.keras.preprocessing.sequence.pad_sequences(list_tokenized_validate, \n",
    "                                 maxlen=INPUT_SIZE,\n",
    "                                 padding='post')\n",
    "x_validate = x_validate.astype(np.int64)"
   ]
  },
  {
   "cell_type": "code",
   "execution_count": 33,
   "id": "ef19b04f",
   "metadata": {
    "slideshow": {
     "slide_type": "fragment"
    }
   },
   "outputs": [
    {
     "data": {
      "text/html": [
       "<div>\n",
       "<style scoped>\n",
       "    .dataframe tbody tr th:only-of-type {\n",
       "        vertical-align: middle;\n",
       "    }\n",
       "\n",
       "    .dataframe tbody tr th {\n",
       "        vertical-align: top;\n",
       "    }\n",
       "\n",
       "    .dataframe thead th {\n",
       "        text-align: right;\n",
       "    }\n",
       "</style>\n",
       "<table border=\"1\" class=\"dataframe\">\n",
       "  <thead>\n",
       "    <tr style=\"text-align: right;\">\n",
       "      <th></th>\n",
       "      <th>CWE-119</th>\n",
       "      <th>CWE-120</th>\n",
       "      <th>CWE-469</th>\n",
       "      <th>CWE-476</th>\n",
       "      <th>CWE-other</th>\n",
       "    </tr>\n",
       "  </thead>\n",
       "  <tbody>\n",
       "    <tr>\n",
       "      <th>0</th>\n",
       "      <td>0</td>\n",
       "      <td>0</td>\n",
       "      <td>0</td>\n",
       "      <td>0</td>\n",
       "      <td>0</td>\n",
       "    </tr>\n",
       "    <tr>\n",
       "      <th>1</th>\n",
       "      <td>0</td>\n",
       "      <td>0</td>\n",
       "      <td>0</td>\n",
       "      <td>0</td>\n",
       "      <td>0</td>\n",
       "    </tr>\n",
       "    <tr>\n",
       "      <th>2</th>\n",
       "      <td>0</td>\n",
       "      <td>0</td>\n",
       "      <td>0</td>\n",
       "      <td>0</td>\n",
       "      <td>0</td>\n",
       "    </tr>\n",
       "    <tr>\n",
       "      <th>3</th>\n",
       "      <td>0</td>\n",
       "      <td>0</td>\n",
       "      <td>0</td>\n",
       "      <td>0</td>\n",
       "      <td>0</td>\n",
       "    </tr>\n",
       "    <tr>\n",
       "      <th>4</th>\n",
       "      <td>1</td>\n",
       "      <td>1</td>\n",
       "      <td>0</td>\n",
       "      <td>0</td>\n",
       "      <td>1</td>\n",
       "    </tr>\n",
       "  </tbody>\n",
       "</table>\n",
       "</div>"
      ],
      "text/plain": [
       "   CWE-119  CWE-120  CWE-469  CWE-476  CWE-other\n",
       "0        0        0        0        0          0\n",
       "1        0        0        0        0          0\n",
       "2        0        0        0        0          0\n",
       "3        0        0        0        0          0\n",
       "4        1        1        0        0          1"
      ]
     },
     "execution_count": 33,
     "metadata": {},
     "output_type": "execute_result"
    }
   ],
   "source": [
    "# Example data\n",
    "test.iloc[0:5,1:6]"
   ]
  },
  {
   "cell_type": "markdown",
   "id": "f594c18a",
   "metadata": {
    "slideshow": {
     "slide_type": "slide"
    }
   },
   "source": [
    "### One-Hot-Enconding (OHE) on the datasets"
   ]
  },
  {
   "cell_type": "code",
   "execution_count": 14,
   "id": "24bfaf84",
   "metadata": {
    "slideshow": {
     "slide_type": "fragment"
    }
   },
   "outputs": [],
   "source": [
    "y_train=[]\n",
    "y_test=[] \n",
    "y_validate=[]\n",
    "\n",
    "for col in range(1,6):\n",
    "    y_train.append(tf.keras.utils.to_categorical(train.iloc[:,col], num_classes=NUM_CLASSES).astype(np.int64))\n",
    "    y_test.append(tf.keras.utils.to_categorical(test.iloc[:,col], num_classes=NUM_CLASSES).astype(np.int64))\n",
    "    y_validate.append(tf.keras.utils.to_categorical(validate.iloc[:,col], num_classes=NUM_CLASSES).astype(np.int64))"
   ]
  },
  {
   "cell_type": "code",
   "execution_count": 35,
   "id": "5575493b",
   "metadata": {
    "slideshow": {
     "slide_type": "fragment"
    }
   },
   "outputs": [
    {
     "data": {
      "text/plain": [
       "array([[1, 0],\n",
       "       [1, 0],\n",
       "       [1, 0],\n",
       "       [0, 1],\n",
       "       [1, 0],\n",
       "       [1, 0],\n",
       "       [1, 0],\n",
       "       [1, 0],\n",
       "       [1, 0]], dtype=int64)"
      ]
     },
     "execution_count": 35,
     "metadata": {},
     "output_type": "execute_result"
    }
   ],
   "source": [
    "# Example data\n",
    "y_test[0][1:10]"
   ]
  },
  {
   "cell_type": "markdown",
   "id": "874acae1",
   "metadata": {
    "slideshow": {
     "slide_type": "slide"
    }
   },
   "source": [
    "### Model Definition (CNN with Gaussian Noise and 5 Output Splits)\n"
   ]
  },
  {
   "cell_type": "code",
   "execution_count": 36,
   "id": "71d2e62b",
   "metadata": {
    "slideshow": {
     "slide_type": "fragment"
    }
   },
   "outputs": [],
   "source": [
    "# Create a random weights matrix\n",
    "\n",
    "random_weights = np.random.normal(size=(WORDS_SIZE, 13),scale=0.01)"
   ]
  },
  {
   "cell_type": "code",
   "execution_count": 37,
   "id": "9dac6bb5",
   "metadata": {
    "scrolled": false,
    "slideshow": {
     "slide_type": "fragment"
    }
   },
   "outputs": [
    {
     "name": "stdout",
     "output_type": "stream",
     "text": [
      "CNN model built: \n",
      "Model: \"model\"\n",
      "__________________________________________________________________________________________________\n",
      "Layer (type)                    Output Shape         Param #     Connected to                     \n",
      "==================================================================================================\n",
      "input_1 (InputLayer)            [(None, 500)]        0                                            \n",
      "__________________________________________________________________________________________________\n",
      "embedding (Embedding)           (None, 500, 13)      130000      input_1[0][0]                    \n",
      "__________________________________________________________________________________________________\n",
      "conv1d (Conv1D)                 (None, 500, 512)     60416       embedding[0][0]                  \n",
      "__________________________________________________________________________________________________\n",
      "max_pooling1d (MaxPooling1D)    (None, 100, 512)     0           conv1d[0][0]                     \n",
      "__________________________________________________________________________________________________\n",
      "dropout (Dropout)               (None, 100, 512)     0           max_pooling1d[0][0]              \n",
      "__________________________________________________________________________________________________\n",
      "flatten (Flatten)               (None, 51200)        0           dropout[0][0]                    \n",
      "__________________________________________________________________________________________________\n",
      "dense (Dense)                   (None, 64)           3276864     flatten[0][0]                    \n",
      "__________________________________________________________________________________________________\n",
      "dense_1 (Dense)                 (None, 16)           1040        dense[0][0]                      \n",
      "__________________________________________________________________________________________________\n",
      "dense_2 (Dense)                 (None, 2)            34          dense_1[0][0]                    \n",
      "__________________________________________________________________________________________________\n",
      "dense_3 (Dense)                 (None, 2)            34          dense_1[0][0]                    \n",
      "__________________________________________________________________________________________________\n",
      "dense_4 (Dense)                 (None, 2)            34          dense_1[0][0]                    \n",
      "__________________________________________________________________________________________________\n",
      "dense_5 (Dense)                 (None, 2)            34          dense_1[0][0]                    \n",
      "__________________________________________________________________________________________________\n",
      "dense_6 (Dense)                 (None, 2)            34          dense_1[0][0]                    \n",
      "==================================================================================================\n",
      "Total params: 3,468,490\n",
      "Trainable params: 3,468,490\n",
      "Non-trainable params: 0\n",
      "__________________________________________________________________________________________________\n"
     ]
    }
   ],
   "source": [
    "# Must use non-sequential model building to create branches in the output layer\n",
    "inp_layer = tf.keras.layers.Input(shape=(INPUT_SIZE,))\n",
    "mid_layers = tf.keras.layers.Embedding(input_dim = WORDS_SIZE,\n",
    "                                    output_dim = 13,\n",
    "                                    weights=[random_weights],\n",
    "                                    input_length = INPUT_SIZE)(inp_layer)\n",
    "mid_layers = tf.keras.layers.Convolution1D(filters=512, kernel_size=(9), padding='same', activation='relu')(mid_layers)\n",
    "mid_layers = tf.keras.layers.MaxPool1D(pool_size=5)(mid_layers)\n",
    "mid_layers = tf.keras.layers.Dropout(0.5)(mid_layers)\n",
    "mid_layers = tf.keras.layers.Flatten()(mid_layers)\n",
    "mid_layers = tf.keras.layers.Dense(64, activation='relu')(mid_layers)\n",
    "mid_layers = tf.keras.layers.Dense(16, activation='relu')(mid_layers)\n",
    "output1 = tf.keras.layers.Dense(2, activation='softmax')(mid_layers)\n",
    "output2 = tf.keras.layers.Dense(2, activation='softmax')(mid_layers)\n",
    "output3 = tf.keras.layers.Dense(2, activation='softmax')(mid_layers)\n",
    "output4 =tf.keras.layers.Dense(2, activation='softmax')(mid_layers)\n",
    "output5 = tf.keras.layers.Dense(2, activation='softmax')(mid_layers)\n",
    "model = tf.keras.Model(inp_layer,[output1,output2,output3,output4,output5])\n",
    "\n",
    "# Define custom optimizers\n",
    "adam = tf.keras.optimizers.Adam(lr=0.005, beta_1=0.9, beta_2=0.999, epsilon=1, decay=0.0, amsgrad=False)\n",
    "\n",
    "## Compile model with metrics\n",
    "model.compile(optimizer=adam, loss='categorical_crossentropy', metrics=['accuracy'])\n",
    "print(\"CNN model built: \")\n",
    "model.summary()"
   ]
  },
  {
   "cell_type": "markdown",
   "id": "8425388d",
   "metadata": {},
   "source": [
    "### Tensorboard Callbacks"
   ]
  },
  {
   "cell_type": "code",
   "execution_count": 38,
   "id": "8b439592",
   "metadata": {},
   "outputs": [],
   "source": [
    "## Create TensorBoard callbacks\n",
    "\n",
    "callbackdir= 'C:\\\\dump'\n",
    "\n",
    "tbCallback = tf.keras.callbacks.TensorBoard(log_dir=callbackdir, \n",
    "                         histogram_freq=1,\n",
    "                         embeddings_freq=1,\n",
    "                         write_graph=True, \n",
    "                         write_images=True)\n",
    "\n",
    "tbCallback.set_model(model)\n",
    "mld = 'model/model-ALL-{epoch:02d}.hdf5'\n",
    "\n",
    "## Create best model callback\n",
    "mcp = tf.keras.callbacks.ModelCheckpoint(filepath=mld, \n",
    "                                         monitor=\"val_loss\",\n",
    "                                         save_best_only=True, \n",
    "                                         mode='auto', \n",
    "                                         save_freq='epoch', \n",
    "                                         verbose=1)"
   ]
  },
  {
   "cell_type": "code",
   "execution_count": null,
   "id": "73c8cbe7",
   "metadata": {},
   "outputs": [],
   "source": [
    "# for tensorflow above 2.1 the following was expiremented but failed, can further study\n",
    "# def weighted_categorical_crossentropy(y_true, y_pred, weights):\n",
    "#     nb_cl = len(weights)\n",
    "#     final_mask = K.zeros_like(y_pred[:, 0])\n",
    "#     y_pred_max = K.max(y_pred, axis=1)\n",
    "#     y_pred_max = K.reshape(y_pred_max, (K.shape(y_pred)[0], 1))\n",
    "#     y_pred_max_mat = K.cast(K.equal(y_pred, y_pred_max), K.floatx())\n",
    "#     for c_p, c_t in product(range(nb_cl), range(nb_cl)):\n",
    "#         final_mask += (weights[c_t, c_p] * y_pred_max_mat[:, c_p] * y_true[:, c_t])\n",
    "#     return K.categorical_crossentropy(y_pred, y_true) * final_mask"
   ]
  },
  {
   "cell_type": "code",
   "execution_count": null,
   "id": "7d20b787",
   "metadata": {},
   "outputs": [],
   "source": [
    "# from functools import partial\n",
    "# w1 = np.ones((2, 2))\n",
    "# w1[1, 0] = 1.\n",
    "# w1[1, 1] = 5.\n",
    "\n",
    "\n",
    "# loss1 = partial(weighted_categorical_crossentropy, weights=w1)\n",
    "# loss2 = partial(weighted_categorical_crossentropy, weights=w1)\n",
    "# loss3 = partial(weighted_categorical_crossentropy, weights=w1)\n",
    "# loss4 = partial(weighted_categorical_crossentropy, weights=w1)\n",
    "# loss5 = partial(weighted_categorical_crossentropy, weights=w1)\n",
    "\n",
    "# loss_dict = {'dense_2': loss1, 'dense_3': loss2, 'dense_4': loss3, 'dense_5': loss4, 'dense_6': loss5}\n",
    "# model.compile(loss=loss_dict, optimizer='adam')"
   ]
  },
  {
   "cell_type": "markdown",
   "id": "848f6559",
   "metadata": {},
   "source": [
    "### Model Training"
   ]
  },
  {
   "cell_type": "code",
   "execution_count": 44,
   "id": "9091de93",
   "metadata": {
    "scrolled": false
   },
   "outputs": [
    {
     "name": "stdout",
     "output_type": "stream",
     "text": [
      "Train on 100000 samples, validate on 100000 samples\n",
      "Epoch 1/40\n",
      "\n",
      "Epoch 00001: val_loss did not improve from 1.02900\n",
      "100000/100000 - 347s - loss: 1.0559 - dense_2_loss: 0.2019 - dense_3_loss: 0.2950 - dense_4_loss: 0.0442 - dense_5_loss: 0.1832 - dense_6_loss: 0.3314 - dense_2_accuracy: 0.9702 - dense_3_accuracy: 0.9243 - dense_4_accuracy: 0.9979 - dense_5_accuracy: 0.9905 - dense_6_accuracy: 0.9649 - val_loss: 1.0347 - val_dense_2_loss: 0.1954 - val_dense_3_loss: 0.2862 - val_dense_4_loss: 0.0434 - val_dense_5_loss: 0.1827 - val_dense_6_loss: 0.3270 - val_dense_2_accuracy: 0.9707 - val_dense_3_accuracy: 0.9284 - val_dense_4_accuracy: 0.9979 - val_dense_5_accuracy: 0.9905 - val_dense_6_accuracy: 0.9649\n",
      "Epoch 2/40\n",
      "\n",
      "Epoch 00002: val_loss did not improve from 1.02900\n",
      "100000/100000 - 346s - loss: 1.0433 - dense_2_loss: 0.1987 - dense_3_loss: 0.2901 - dense_4_loss: 0.0435 - dense_5_loss: 0.1831 - dense_6_loss: 0.3277 - dense_2_accuracy: 0.9695 - dense_3_accuracy: 0.9244 - dense_4_accuracy: 0.9979 - dense_5_accuracy: 0.9905 - dense_6_accuracy: 0.9645 - val_loss: 1.0301 - val_dense_2_loss: 0.1949 - val_dense_3_loss: 0.2842 - val_dense_4_loss: 0.0434 - val_dense_5_loss: 0.1819 - val_dense_6_loss: 0.3257 - val_dense_2_accuracy: 0.9676 - val_dense_3_accuracy: 0.9203 - val_dense_4_accuracy: 0.9979 - val_dense_5_accuracy: 0.9905 - val_dense_6_accuracy: 0.9631\n",
      "Epoch 3/40\n",
      "\n",
      "Epoch 00003: val_loss improved from 1.02900 to 1.01425, saving model to model/model-ALL-03.hdf5\n",
      "100000/100000 - 341s - loss: 1.0344 - dense_2_loss: 0.1957 - dense_3_loss: 0.2861 - dense_4_loss: 0.0435 - dense_5_loss: 0.1830 - dense_6_loss: 0.3258 - dense_2_accuracy: 0.9698 - dense_3_accuracy: 0.9237 - dense_4_accuracy: 0.9979 - dense_5_accuracy: 0.9905 - dense_6_accuracy: 0.9656 - val_loss: 1.0143 - val_dense_2_loss: 0.1921 - val_dense_3_loss: 0.2774 - val_dense_4_loss: 0.0428 - val_dense_5_loss: 0.1817 - val_dense_6_loss: 0.3204 - val_dense_2_accuracy: 0.9713 - val_dense_3_accuracy: 0.9213 - val_dense_4_accuracy: 0.9979 - val_dense_5_accuracy: 0.9905 - val_dense_6_accuracy: 0.9624\n",
      "Epoch 4/40\n",
      "\n",
      "Epoch 00004: val_loss improved from 1.01425 to 1.00604, saving model to model/model-ALL-04.hdf5\n",
      "100000/100000 - 343s - loss: 1.0265 - dense_2_loss: 0.1954 - dense_3_loss: 0.2827 - dense_4_loss: 0.0429 - dense_5_loss: 0.1818 - dense_6_loss: 0.3235 - dense_2_accuracy: 0.9708 - dense_3_accuracy: 0.9218 - dense_4_accuracy: 0.9979 - dense_5_accuracy: 0.9905 - dense_6_accuracy: 0.9651 - val_loss: 1.0060 - val_dense_2_loss: 0.1891 - val_dense_3_loss: 0.2743 - val_dense_4_loss: 0.0424 - val_dense_5_loss: 0.1812 - val_dense_6_loss: 0.3191 - val_dense_2_accuracy: 0.9666 - val_dense_3_accuracy: 0.9203 - val_dense_4_accuracy: 0.9979 - val_dense_5_accuracy: 0.9905 - val_dense_6_accuracy: 0.9639\n",
      "Epoch 5/40\n",
      "\n",
      "Epoch 00005: val_loss improved from 1.00604 to 0.99758, saving model to model/model-ALL-05.hdf5\n",
      "100000/100000 - 340s - loss: 1.0179 - dense_2_loss: 0.1922 - dense_3_loss: 0.2790 - dense_4_loss: 0.0435 - dense_5_loss: 0.1823 - dense_6_loss: 0.3213 - dense_2_accuracy: 0.9691 - dense_3_accuracy: 0.9222 - dense_4_accuracy: 0.9979 - dense_5_accuracy: 0.9905 - dense_6_accuracy: 0.9630 - val_loss: 0.9976 - val_dense_2_loss: 0.1876 - val_dense_3_loss: 0.2710 - val_dense_4_loss: 0.0424 - val_dense_5_loss: 0.1805 - val_dense_6_loss: 0.3160 - val_dense_2_accuracy: 0.9663 - val_dense_3_accuracy: 0.9154 - val_dense_4_accuracy: 0.9979 - val_dense_5_accuracy: 0.9905 - val_dense_6_accuracy: 0.9653\n",
      "Epoch 6/40\n",
      "\n",
      "Epoch 00006: val_loss improved from 0.99758 to 0.98581, saving model to model/model-ALL-06.hdf5\n",
      "100000/100000 - 340s - loss: 1.0110 - dense_2_loss: 0.1921 - dense_3_loss: 0.2768 - dense_4_loss: 0.0425 - dense_5_loss: 0.1819 - dense_6_loss: 0.3194 - dense_2_accuracy: 0.9697 - dense_3_accuracy: 0.9214 - dense_4_accuracy: 0.9979 - dense_5_accuracy: 0.9905 - dense_6_accuracy: 0.9640 - val_loss: 0.9858 - val_dense_2_loss: 0.1832 - val_dense_3_loss: 0.2659 - val_dense_4_loss: 0.0417 - val_dense_5_loss: 0.1804 - val_dense_6_loss: 0.3147 - val_dense_2_accuracy: 0.9681 - val_dense_3_accuracy: 0.9226 - val_dense_4_accuracy: 0.9979 - val_dense_5_accuracy: 0.9905 - val_dense_6_accuracy: 0.9660\n",
      "Epoch 7/40\n",
      "\n",
      "Epoch 00007: val_loss did not improve from 0.98581\n",
      "100000/100000 - 345s - loss: 1.0020 - dense_2_loss: 0.1881 - dense_3_loss: 0.2721 - dense_4_loss: 0.0427 - dense_5_loss: 0.1816 - dense_6_loss: 0.3177 - dense_2_accuracy: 0.9694 - dense_3_accuracy: 0.9205 - dense_4_accuracy: 0.9979 - dense_5_accuracy: 0.9905 - dense_6_accuracy: 0.9638 - val_loss: 0.9892 - val_dense_2_loss: 0.1839 - val_dense_3_loss: 0.2635 - val_dense_4_loss: 0.0423 - val_dense_5_loss: 0.1829 - val_dense_6_loss: 0.3165 - val_dense_2_accuracy: 0.9723 - val_dense_3_accuracy: 0.9294 - val_dense_4_accuracy: 0.9979 - val_dense_5_accuracy: 0.9905 - val_dense_6_accuracy: 0.9692\n",
      "Epoch 8/40\n",
      "\n",
      "Epoch 00008: val_loss improved from 0.98581 to 0.97062, saving model to model/model-ALL-08.hdf5\n",
      "100000/100000 - 341s - loss: 0.9958 - dense_2_loss: 0.1871 - dense_3_loss: 0.2704 - dense_4_loss: 0.0420 - dense_5_loss: 0.1803 - dense_6_loss: 0.3161 - dense_2_accuracy: 0.9693 - dense_3_accuracy: 0.9208 - dense_4_accuracy: 0.9979 - dense_5_accuracy: 0.9905 - dense_6_accuracy: 0.9628 - val_loss: 0.9706 - val_dense_2_loss: 0.1793 - val_dense_3_loss: 0.2586 - val_dense_4_loss: 0.0413 - val_dense_5_loss: 0.1796 - val_dense_6_loss: 0.3118 - val_dense_2_accuracy: 0.9691 - val_dense_3_accuracy: 0.9227 - val_dense_4_accuracy: 0.9979 - val_dense_5_accuracy: 0.9905 - val_dense_6_accuracy: 0.9688\n",
      "Epoch 9/40\n",
      "\n",
      "Epoch 00009: val_loss improved from 0.97062 to 0.96689, saving model to model/model-ALL-09.hdf5\n",
      "100000/100000 - 343s - loss: 0.9872 - dense_2_loss: 0.1840 - dense_3_loss: 0.2666 - dense_4_loss: 0.0423 - dense_5_loss: 0.1810 - dense_6_loss: 0.3139 - dense_2_accuracy: 0.9691 - dense_3_accuracy: 0.9200 - dense_4_accuracy: 0.9979 - dense_5_accuracy: 0.9905 - dense_6_accuracy: 0.9630 - val_loss: 0.9669 - val_dense_2_loss: 0.1786 - val_dense_3_loss: 0.2569 - val_dense_4_loss: 0.0410 - val_dense_5_loss: 0.1789 - val_dense_6_loss: 0.3114 - val_dense_2_accuracy: 0.9710 - val_dense_3_accuracy: 0.9274 - val_dense_4_accuracy: 0.9979 - val_dense_5_accuracy: 0.9905 - val_dense_6_accuracy: 0.9680\n",
      "Epoch 10/40\n",
      "\n",
      "Epoch 00010: val_loss did not improve from 0.96689\n",
      "100000/100000 - 342s - loss: 0.9811 - dense_2_loss: 0.1844 - dense_3_loss: 0.2654 - dense_4_loss: 0.0414 - dense_5_loss: 0.1794 - dense_6_loss: 0.3127 - dense_2_accuracy: 0.9690 - dense_3_accuracy: 0.9198 - dense_4_accuracy: 0.9979 - dense_5_accuracy: 0.9905 - dense_6_accuracy: 0.9622 - val_loss: 0.9729 - val_dense_2_loss: 0.1810 - val_dense_3_loss: 0.2609 - val_dense_4_loss: 0.0426 - val_dense_5_loss: 0.1808 - val_dense_6_loss: 0.3076 - val_dense_2_accuracy: 0.9676 - val_dense_3_accuracy: 0.9090 - val_dense_4_accuracy: 0.9979 - val_dense_5_accuracy: 0.9905 - val_dense_6_accuracy: 0.9665\n",
      "Epoch 11/40\n",
      "\n",
      "Epoch 00011: val_loss did not improve from 0.96689\n",
      "100000/100000 - 341s - loss: 0.9737 - dense_2_loss: 0.1805 - dense_3_loss: 0.2613 - dense_4_loss: 0.0415 - dense_5_loss: 0.1799 - dense_6_loss: 0.3111 - dense_2_accuracy: 0.9696 - dense_3_accuracy: 0.9192 - dense_4_accuracy: 0.9979 - dense_5_accuracy: 0.9905 - dense_6_accuracy: 0.9632 - val_loss: 1.0132 - val_dense_2_loss: 0.1922 - val_dense_3_loss: 0.2731 - val_dense_4_loss: 0.0418 - val_dense_5_loss: 0.1793 - val_dense_6_loss: 0.3266 - val_dense_2_accuracy: 0.9759 - val_dense_3_accuracy: 0.9382 - val_dense_4_accuracy: 0.9979 - val_dense_5_accuracy: 0.9905 - val_dense_6_accuracy: 0.9704\n",
      "Epoch 12/40\n",
      "\n",
      "Epoch 00012: val_loss improved from 0.96689 to 0.93799, saving model to model/model-ALL-12.hdf5\n",
      "100000/100000 - 343s - loss: 0.9670 - dense_2_loss: 0.1792 - dense_3_loss: 0.2588 - dense_4_loss: 0.0412 - dense_5_loss: 0.1785 - dense_6_loss: 0.3086 - dense_2_accuracy: 0.9683 - dense_3_accuracy: 0.9192 - dense_4_accuracy: 0.9979 - dense_5_accuracy: 0.9905 - dense_6_accuracy: 0.9625 - val_loss: 0.9380 - val_dense_2_loss: 0.1720 - val_dense_3_loss: 0.2468 - val_dense_4_loss: 0.0404 - val_dense_5_loss: 0.1773 - val_dense_6_loss: 0.3015 - val_dense_2_accuracy: 0.9732 - val_dense_3_accuracy: 0.9255 - val_dense_4_accuracy: 0.9979 - val_dense_5_accuracy: 0.9905 - val_dense_6_accuracy: 0.9592\n"
     ]
    },
    {
     "name": "stdout",
     "output_type": "stream",
     "text": [
      "Epoch 13/40\n",
      "\n",
      "Epoch 00013: val_loss improved from 0.93799 to 0.93220, saving model to model/model-ALL-13.hdf5\n",
      "100000/100000 - 342s - loss: 0.9620 - dense_2_loss: 0.1776 - dense_3_loss: 0.2569 - dense_4_loss: 0.0413 - dense_5_loss: 0.1789 - dense_6_loss: 0.3076 - dense_2_accuracy: 0.9694 - dense_3_accuracy: 0.9196 - dense_4_accuracy: 0.9979 - dense_5_accuracy: 0.9905 - dense_6_accuracy: 0.9608 - val_loss: 0.9322 - val_dense_2_loss: 0.1700 - val_dense_3_loss: 0.2438 - val_dense_4_loss: 0.0402 - val_dense_5_loss: 0.1777 - val_dense_6_loss: 0.3005 - val_dense_2_accuracy: 0.9714 - val_dense_3_accuracy: 0.9233 - val_dense_4_accuracy: 0.9979 - val_dense_5_accuracy: 0.9905 - val_dense_6_accuracy: 0.9629\n",
      "Epoch 14/40\n",
      "\n",
      "Epoch 00014: val_loss improved from 0.93220 to 0.92560, saving model to model/model-ALL-14.hdf5\n",
      "100000/100000 - 342s - loss: 0.9537 - dense_2_loss: 0.1756 - dense_3_loss: 0.2532 - dense_4_loss: 0.0409 - dense_5_loss: 0.1779 - dense_6_loss: 0.3061 - dense_2_accuracy: 0.9684 - dense_3_accuracy: 0.9188 - dense_4_accuracy: 0.9979 - dense_5_accuracy: 0.9905 - dense_6_accuracy: 0.9600 - val_loss: 0.9256 - val_dense_2_loss: 0.1674 - val_dense_3_loss: 0.2407 - val_dense_4_loss: 0.0402 - val_dense_5_loss: 0.1772 - val_dense_6_loss: 0.3001 - val_dense_2_accuracy: 0.9735 - val_dense_3_accuracy: 0.9241 - val_dense_4_accuracy: 0.9979 - val_dense_5_accuracy: 0.9905 - val_dense_6_accuracy: 0.9636\n",
      "Epoch 15/40\n",
      "\n",
      "Epoch 00015: val_loss improved from 0.92560 to 0.92079, saving model to model/model-ALL-15.hdf5\n",
      "100000/100000 - 343s - loss: 0.9495 - dense_2_loss: 0.1747 - dense_3_loss: 0.2511 - dense_4_loss: 0.0409 - dense_5_loss: 0.1779 - dense_6_loss: 0.3052 - dense_2_accuracy: 0.9693 - dense_3_accuracy: 0.9187 - dense_4_accuracy: 0.9979 - dense_5_accuracy: 0.9905 - dense_6_accuracy: 0.9597 - val_loss: 0.9208 - val_dense_2_loss: 0.1659 - val_dense_3_loss: 0.2404 - val_dense_4_loss: 0.0400 - val_dense_5_loss: 0.1767 - val_dense_6_loss: 0.2977 - val_dense_2_accuracy: 0.9691 - val_dense_3_accuracy: 0.9167 - val_dense_4_accuracy: 0.9979 - val_dense_5_accuracy: 0.9905 - val_dense_6_accuracy: 0.9651\n",
      "Epoch 16/40\n",
      "\n",
      "Epoch 00016: val_loss improved from 0.92079 to 0.91199, saving model to model/model-ALL-16.hdf5\n",
      "100000/100000 - 342s - loss: 0.9418 - dense_2_loss: 0.1718 - dense_3_loss: 0.2490 - dense_4_loss: 0.0402 - dense_5_loss: 0.1772 - dense_6_loss: 0.3030 - dense_2_accuracy: 0.9689 - dense_3_accuracy: 0.9183 - dense_4_accuracy: 0.9979 - dense_5_accuracy: 0.9905 - dense_6_accuracy: 0.9594 - val_loss: 0.9120 - val_dense_2_loss: 0.1649 - val_dense_3_loss: 0.2375 - val_dense_4_loss: 0.0397 - val_dense_5_loss: 0.1756 - val_dense_6_loss: 0.2944 - val_dense_2_accuracy: 0.9672 - val_dense_3_accuracy: 0.9215 - val_dense_4_accuracy: 0.9979 - val_dense_5_accuracy: 0.9905 - val_dense_6_accuracy: 0.9605\n",
      "Epoch 17/40\n",
      "\n",
      "Epoch 00017: val_loss improved from 0.91199 to 0.90636, saving model to model/model-ALL-17.hdf5\n",
      "100000/100000 - 344s - loss: 0.9362 - dense_2_loss: 0.1713 - dense_3_loss: 0.2467 - dense_4_loss: 0.0403 - dense_5_loss: 0.1769 - dense_6_loss: 0.3005 - dense_2_accuracy: 0.9668 - dense_3_accuracy: 0.9189 - dense_4_accuracy: 0.9979 - dense_5_accuracy: 0.9905 - dense_6_accuracy: 0.9580 - val_loss: 0.9064 - val_dense_2_loss: 0.1629 - val_dense_3_loss: 0.2349 - val_dense_4_loss: 0.0395 - val_dense_5_loss: 0.1749 - val_dense_6_loss: 0.2941 - val_dense_2_accuracy: 0.9668 - val_dense_3_accuracy: 0.9176 - val_dense_4_accuracy: 0.9979 - val_dense_5_accuracy: 0.9905 - val_dense_6_accuracy: 0.9565\n",
      "Epoch 18/40\n",
      "\n",
      "Epoch 00018: val_loss improved from 0.90636 to 0.90517, saving model to model/model-ALL-18.hdf5\n",
      "100000/100000 - 347s - loss: 0.9286 - dense_2_loss: 0.1693 - dense_3_loss: 0.2439 - dense_4_loss: 0.0402 - dense_5_loss: 0.1761 - dense_6_loss: 0.2991 - dense_2_accuracy: 0.9670 - dense_3_accuracy: 0.9182 - dense_4_accuracy: 0.9979 - dense_5_accuracy: 0.9905 - dense_6_accuracy: 0.9566 - val_loss: 0.9052 - val_dense_2_loss: 0.1626 - val_dense_3_loss: 0.2341 - val_dense_4_loss: 0.0390 - val_dense_5_loss: 0.1751 - val_dense_6_loss: 0.2944 - val_dense_2_accuracy: 0.9722 - val_dense_3_accuracy: 0.9258 - val_dense_4_accuracy: 0.9979 - val_dense_5_accuracy: 0.9905 - val_dense_6_accuracy: 0.9649\n",
      "Epoch 19/40\n",
      "\n",
      "Epoch 00019: val_loss improved from 0.90517 to 0.89592, saving model to model/model-ALL-19.hdf5\n",
      "100000/100000 - 348s - loss: 0.9294 - dense_2_loss: 0.1690 - dense_3_loss: 0.2443 - dense_4_loss: 0.0404 - dense_5_loss: 0.1757 - dense_6_loss: 0.2994 - dense_2_accuracy: 0.9675 - dense_3_accuracy: 0.9171 - dense_4_accuracy: 0.9979 - dense_5_accuracy: 0.9905 - dense_6_accuracy: 0.9561 - val_loss: 0.8959 - val_dense_2_loss: 0.1598 - val_dense_3_loss: 0.2306 - val_dense_4_loss: 0.0392 - val_dense_5_loss: 0.1742 - val_dense_6_loss: 0.2921 - val_dense_2_accuracy: 0.9700 - val_dense_3_accuracy: 0.9249 - val_dense_4_accuracy: 0.9979 - val_dense_5_accuracy: 0.9905 - val_dense_6_accuracy: 0.9618\n",
      "Epoch 20/40\n",
      "\n",
      "Epoch 00020: val_loss improved from 0.89592 to 0.88967, saving model to model/model-ALL-20.hdf5\n",
      "100000/100000 - 346s - loss: 0.9213 - dense_2_loss: 0.1672 - dense_3_loss: 0.2413 - dense_4_loss: 0.0402 - dense_5_loss: 0.1760 - dense_6_loss: 0.2968 - dense_2_accuracy: 0.9671 - dense_3_accuracy: 0.9173 - dense_4_accuracy: 0.9979 - dense_5_accuracy: 0.9905 - dense_6_accuracy: 0.9571 - val_loss: 0.8897 - val_dense_2_loss: 0.1586 - val_dense_3_loss: 0.2289 - val_dense_4_loss: 0.0390 - val_dense_5_loss: 0.1737 - val_dense_6_loss: 0.2894 - val_dense_2_accuracy: 0.9681 - val_dense_3_accuracy: 0.9197 - val_dense_4_accuracy: 0.9979 - val_dense_5_accuracy: 0.9905 - val_dense_6_accuracy: 0.9589\n",
      "Epoch 21/40\n",
      "\n",
      "Epoch 00021: val_loss improved from 0.88967 to 0.88909, saving model to model/model-ALL-21.hdf5\n",
      "100000/100000 - 347s - loss: 0.9163 - dense_2_loss: 0.1667 - dense_3_loss: 0.2396 - dense_4_loss: 0.0398 - dense_5_loss: 0.1742 - dense_6_loss: 0.2956 - dense_2_accuracy: 0.9661 - dense_3_accuracy: 0.9166 - dense_4_accuracy: 0.9979 - dense_5_accuracy: 0.9905 - dense_6_accuracy: 0.9549 - val_loss: 0.8891 - val_dense_2_loss: 0.1583 - val_dense_3_loss: 0.2273 - val_dense_4_loss: 0.0391 - val_dense_5_loss: 0.1762 - val_dense_6_loss: 0.2882 - val_dense_2_accuracy: 0.9686 - val_dense_3_accuracy: 0.9235 - val_dense_4_accuracy: 0.9979 - val_dense_5_accuracy: 0.9905 - val_dense_6_accuracy: 0.9602\n",
      "Epoch 22/40\n",
      "\n",
      "Epoch 00022: val_loss improved from 0.88909 to 0.88388, saving model to model/model-ALL-22.hdf5\n",
      "100000/100000 - 348s - loss: 0.9093 - dense_2_loss: 0.1645 - dense_3_loss: 0.2376 - dense_4_loss: 0.0392 - dense_5_loss: 0.1739 - dense_6_loss: 0.2941 - dense_2_accuracy: 0.9660 - dense_3_accuracy: 0.9168 - dense_4_accuracy: 0.9979 - dense_5_accuracy: 0.9905 - dense_6_accuracy: 0.9551 - val_loss: 0.8839 - val_dense_2_loss: 0.1565 - val_dense_3_loss: 0.2266 - val_dense_4_loss: 0.0392 - val_dense_5_loss: 0.1737 - val_dense_6_loss: 0.2878 - val_dense_2_accuracy: 0.9638 - val_dense_3_accuracy: 0.9219 - val_dense_4_accuracy: 0.9979 - val_dense_5_accuracy: 0.9905 - val_dense_6_accuracy: 0.9497\n",
      "Epoch 23/40\n",
      "\n",
      "Epoch 00023: val_loss did not improve from 0.88388\n",
      "100000/100000 - 348s - loss: 0.9084 - dense_2_loss: 0.1640 - dense_3_loss: 0.2366 - dense_4_loss: 0.0397 - dense_5_loss: 0.1736 - dense_6_loss: 0.2941 - dense_2_accuracy: 0.9653 - dense_3_accuracy: 0.9172 - dense_4_accuracy: 0.9979 - dense_5_accuracy: 0.9905 - dense_6_accuracy: 0.9534 - val_loss: 0.8969 - val_dense_2_loss: 0.1607 - val_dense_3_loss: 0.2303 - val_dense_4_loss: 0.0381 - val_dense_5_loss: 0.1729 - val_dense_6_loss: 0.2950 - val_dense_2_accuracy: 0.9714 - val_dense_3_accuracy: 0.9287 - val_dense_4_accuracy: 0.9979 - val_dense_5_accuracy: 0.9905 - val_dense_6_accuracy: 0.9670\n",
      "Epoch 24/40\n",
      "\n",
      "Epoch 00024: val_loss improved from 0.88388 to 0.87022, saving model to model/model-ALL-24.hdf5\n",
      "100000/100000 - 346s - loss: 0.9041 - dense_2_loss: 0.1651 - dense_3_loss: 0.2359 - dense_4_loss: 0.0389 - dense_5_loss: 0.1734 - dense_6_loss: 0.2911 - dense_2_accuracy: 0.9646 - dense_3_accuracy: 0.9170 - dense_4_accuracy: 0.9979 - dense_5_accuracy: 0.9905 - dense_6_accuracy: 0.9534 - val_loss: 0.8702 - val_dense_2_loss: 0.1547 - val_dense_3_loss: 0.2221 - val_dense_4_loss: 0.0381 - val_dense_5_loss: 0.1718 - val_dense_6_loss: 0.2836 - val_dense_2_accuracy: 0.9711 - val_dense_3_accuracy: 0.9243 - val_dense_4_accuracy: 0.9979 - val_dense_5_accuracy: 0.9905 - val_dense_6_accuracy: 0.9619\n"
     ]
    },
    {
     "name": "stdout",
     "output_type": "stream",
     "text": [
      "Epoch 25/40\n",
      "\n",
      "Epoch 00025: val_loss did not improve from 0.87022\n",
      "100000/100000 - 346s - loss: 0.8979 - dense_2_loss: 0.1620 - dense_3_loss: 0.2346 - dense_4_loss: 0.0391 - dense_5_loss: 0.1726 - dense_6_loss: 0.2896 - dense_2_accuracy: 0.9651 - dense_3_accuracy: 0.9182 - dense_4_accuracy: 0.9979 - dense_5_accuracy: 0.9905 - dense_6_accuracy: 0.9525 - val_loss: 0.8722 - val_dense_2_loss: 0.1557 - val_dense_3_loss: 0.2250 - val_dense_4_loss: 0.0383 - val_dense_5_loss: 0.1709 - val_dense_6_loss: 0.2824 - val_dense_2_accuracy: 0.9615 - val_dense_3_accuracy: 0.9161 - val_dense_4_accuracy: 0.9979 - val_dense_5_accuracy: 0.9905 - val_dense_6_accuracy: 0.9566\n",
      "Epoch 26/40\n",
      "\n",
      "Epoch 00026: val_loss improved from 0.87022 to 0.86022, saving model to model/model-ALL-26.hdf5\n",
      "100000/100000 - 346s - loss: 0.8920 - dense_2_loss: 0.1609 - dense_3_loss: 0.2312 - dense_4_loss: 0.0392 - dense_5_loss: 0.1715 - dense_6_loss: 0.2888 - dense_2_accuracy: 0.9639 - dense_3_accuracy: 0.9187 - dense_4_accuracy: 0.9979 - dense_5_accuracy: 0.9905 - dense_6_accuracy: 0.9518 - val_loss: 0.8602 - val_dense_2_loss: 0.1510 - val_dense_3_loss: 0.2194 - val_dense_4_loss: 0.0381 - val_dense_5_loss: 0.1708 - val_dense_6_loss: 0.2810 - val_dense_2_accuracy: 0.9626 - val_dense_3_accuracy: 0.9211 - val_dense_4_accuracy: 0.9979 - val_dense_5_accuracy: 0.9905 - val_dense_6_accuracy: 0.9520\n",
      "Epoch 27/40\n",
      "\n",
      "Epoch 00027: val_loss did not improve from 0.86022\n",
      "100000/100000 - 344s - loss: 0.8862 - dense_2_loss: 0.1596 - dense_3_loss: 0.2298 - dense_4_loss: 0.0386 - dense_5_loss: 0.1719 - dense_6_loss: 0.2862 - dense_2_accuracy: 0.9630 - dense_3_accuracy: 0.9194 - dense_4_accuracy: 0.9979 - dense_5_accuracy: 0.9905 - dense_6_accuracy: 0.9513 - val_loss: 0.9008 - val_dense_2_loss: 0.1657 - val_dense_3_loss: 0.2334 - val_dense_4_loss: 0.0392 - val_dense_5_loss: 0.1702 - val_dense_6_loss: 0.2922 - val_dense_2_accuracy: 0.9747 - val_dense_3_accuracy: 0.9347 - val_dense_4_accuracy: 0.9979 - val_dense_5_accuracy: 0.9905 - val_dense_6_accuracy: 0.9652\n",
      "Epoch 28/40\n",
      "\n",
      "Epoch 00028: val_loss improved from 0.86022 to 0.85216, saving model to model/model-ALL-28.hdf5\n",
      "100000/100000 - 342s - loss: 0.8821 - dense_2_loss: 0.1581 - dense_3_loss: 0.2285 - dense_4_loss: 0.0391 - dense_5_loss: 0.1706 - dense_6_loss: 0.2855 - dense_2_accuracy: 0.9633 - dense_3_accuracy: 0.9185 - dense_4_accuracy: 0.9979 - dense_5_accuracy: 0.9905 - dense_6_accuracy: 0.9513 - val_loss: 0.8522 - val_dense_2_loss: 0.1491 - val_dense_3_loss: 0.2163 - val_dense_4_loss: 0.0375 - val_dense_5_loss: 0.1695 - val_dense_6_loss: 0.2799 - val_dense_2_accuracy: 0.9669 - val_dense_3_accuracy: 0.9233 - val_dense_4_accuracy: 0.9979 - val_dense_5_accuracy: 0.9905 - val_dense_6_accuracy: 0.9620\n",
      "Epoch 29/40\n",
      "\n",
      "Epoch 00029: val_loss improved from 0.85216 to 0.84831, saving model to model/model-ALL-29.hdf5\n",
      "100000/100000 - 348s - loss: 0.8766 - dense_2_loss: 0.1564 - dense_3_loss: 0.2276 - dense_4_loss: 0.0384 - dense_5_loss: 0.1697 - dense_6_loss: 0.2842 - dense_2_accuracy: 0.9628 - dense_3_accuracy: 0.9202 - dense_4_accuracy: 0.9979 - dense_5_accuracy: 0.9905 - dense_6_accuracy: 0.9514 - val_loss: 0.8483 - val_dense_2_loss: 0.1490 - val_dense_3_loss: 0.2160 - val_dense_4_loss: 0.0372 - val_dense_5_loss: 0.1691 - val_dense_6_loss: 0.2770 - val_dense_2_accuracy: 0.9657 - val_dense_3_accuracy: 0.9273 - val_dense_4_accuracy: 0.9979 - val_dense_5_accuracy: 0.9905 - val_dense_6_accuracy: 0.9587\n",
      "Epoch 30/40\n",
      "\n",
      "Epoch 00030: val_loss did not improve from 0.84831\n",
      "100000/100000 - 348s - loss: 0.8748 - dense_2_loss: 0.1570 - dense_3_loss: 0.2280 - dense_4_loss: 0.0381 - dense_5_loss: 0.1687 - dense_6_loss: 0.2831 - dense_2_accuracy: 0.9628 - dense_3_accuracy: 0.9189 - dense_4_accuracy: 0.9979 - dense_5_accuracy: 0.9905 - dense_6_accuracy: 0.9505 - val_loss: 0.8547 - val_dense_2_loss: 0.1523 - val_dense_3_loss: 0.2192 - val_dense_4_loss: 0.0388 - val_dense_5_loss: 0.1682 - val_dense_6_loss: 0.2762 - val_dense_2_accuracy: 0.9557 - val_dense_3_accuracy: 0.9151 - val_dense_4_accuracy: 0.9979 - val_dense_5_accuracy: 0.9905 - val_dense_6_accuracy: 0.9483\n",
      "Epoch 31/40\n",
      "\n",
      "Epoch 00031: val_loss improved from 0.84831 to 0.83697, saving model to model/model-ALL-31.hdf5\n",
      "100000/100000 - 347s - loss: 0.8666 - dense_2_loss: 0.1549 - dense_3_loss: 0.2246 - dense_4_loss: 0.0382 - dense_5_loss: 0.1685 - dense_6_loss: 0.2805 - dense_2_accuracy: 0.9620 - dense_3_accuracy: 0.9197 - dense_4_accuracy: 0.9979 - dense_5_accuracy: 0.9905 - dense_6_accuracy: 0.9513 - val_loss: 0.8370 - val_dense_2_loss: 0.1473 - val_dense_3_loss: 0.2114 - val_dense_4_loss: 0.0372 - val_dense_5_loss: 0.1668 - val_dense_6_loss: 0.2743 - val_dense_2_accuracy: 0.9618 - val_dense_3_accuracy: 0.9259 - val_dense_4_accuracy: 0.9979 - val_dense_5_accuracy: 0.9905 - val_dense_6_accuracy: 0.9555\n",
      "Epoch 32/40\n",
      "\n",
      "Epoch 00032: val_loss did not improve from 0.83697\n",
      "100000/100000 - 345s - loss: 0.8626 - dense_2_loss: 0.1535 - dense_3_loss: 0.2221 - dense_4_loss: 0.0383 - dense_5_loss: 0.1676 - dense_6_loss: 0.2806 - dense_2_accuracy: 0.9608 - dense_3_accuracy: 0.9197 - dense_4_accuracy: 0.9979 - dense_5_accuracy: 0.9905 - dense_6_accuracy: 0.9497 - val_loss: 0.8442 - val_dense_2_loss: 0.1490 - val_dense_3_loss: 0.2176 - val_dense_4_loss: 0.0375 - val_dense_5_loss: 0.1660 - val_dense_6_loss: 0.2743 - val_dense_2_accuracy: 0.9624 - val_dense_3_accuracy: 0.9151 - val_dense_4_accuracy: 0.9979 - val_dense_5_accuracy: 0.9905 - val_dense_6_accuracy: 0.9498\n",
      "Epoch 33/40\n",
      "\n",
      "Epoch 00033: val_loss improved from 0.83697 to 0.82620, saving model to model/model-ALL-33.hdf5\n",
      "100000/100000 - 347s - loss: 0.8599 - dense_2_loss: 0.1535 - dense_3_loss: 0.2217 - dense_4_loss: 0.0377 - dense_5_loss: 0.1670 - dense_6_loss: 0.2805 - dense_2_accuracy: 0.9606 - dense_3_accuracy: 0.9206 - dense_4_accuracy: 0.9979 - dense_5_accuracy: 0.9905 - dense_6_accuracy: 0.9498 - val_loss: 0.8262 - val_dense_2_loss: 0.1441 - val_dense_3_loss: 0.2094 - val_dense_4_loss: 0.0373 - val_dense_5_loss: 0.1648 - val_dense_6_loss: 0.2706 - val_dense_2_accuracy: 0.9641 - val_dense_3_accuracy: 0.9218 - val_dense_4_accuracy: 0.9979 - val_dense_5_accuracy: 0.9905 - val_dense_6_accuracy: 0.9549\n",
      "Epoch 34/40\n",
      "\n",
      "Epoch 00034: val_loss improved from 0.82620 to 0.82211, saving model to model/model-ALL-34.hdf5\n",
      "100000/100000 - 346s - loss: 0.8512 - dense_2_loss: 0.1513 - dense_3_loss: 0.2192 - dense_4_loss: 0.0378 - dense_5_loss: 0.1662 - dense_6_loss: 0.2775 - dense_2_accuracy: 0.9614 - dense_3_accuracy: 0.9203 - dense_4_accuracy: 0.9979 - dense_5_accuracy: 0.9905 - dense_6_accuracy: 0.9497 - val_loss: 0.8221 - val_dense_2_loss: 0.1445 - val_dense_3_loss: 0.2083 - val_dense_4_loss: 0.0368 - val_dense_5_loss: 0.1647 - val_dense_6_loss: 0.2679 - val_dense_2_accuracy: 0.9626 - val_dense_3_accuracy: 0.9228 - val_dense_4_accuracy: 0.9979 - val_dense_5_accuracy: 0.9905 - val_dense_6_accuracy: 0.9573\n",
      "Epoch 35/40\n",
      "\n",
      "Epoch 00035: val_loss did not improve from 0.82211\n",
      "100000/100000 - 347s - loss: 0.8510 - dense_2_loss: 0.1526 - dense_3_loss: 0.2205 - dense_4_loss: 0.0376 - dense_5_loss: 0.1653 - dense_6_loss: 0.2760 - dense_2_accuracy: 0.9605 - dense_3_accuracy: 0.9198 - dense_4_accuracy: 0.9979 - dense_5_accuracy: 0.9905 - dense_6_accuracy: 0.9503 - val_loss: 0.8324 - val_dense_2_loss: 0.1452 - val_dense_3_loss: 0.2103 - val_dense_4_loss: 0.0367 - val_dense_5_loss: 0.1656 - val_dense_6_loss: 0.2747 - val_dense_2_accuracy: 0.9685 - val_dense_3_accuracy: 0.9294 - val_dense_4_accuracy: 0.9979 - val_dense_5_accuracy: 0.9905 - val_dense_6_accuracy: 0.9614\n",
      "Epoch 36/40\n",
      "\n",
      "Epoch 00036: val_loss improved from 0.82211 to 0.81623, saving model to model/model-ALL-36.hdf5\n",
      "100000/100000 - 343s - loss: 0.8467 - dense_2_loss: 0.1507 - dense_3_loss: 0.2181 - dense_4_loss: 0.0374 - dense_5_loss: 0.1656 - dense_6_loss: 0.2752 - dense_2_accuracy: 0.9607 - dense_3_accuracy: 0.9196 - dense_4_accuracy: 0.9979 - dense_5_accuracy: 0.9905 - dense_6_accuracy: 0.9492 - val_loss: 0.8162 - val_dense_2_loss: 0.1432 - val_dense_3_loss: 0.2072 - val_dense_4_loss: 0.0366 - val_dense_5_loss: 0.1638 - val_dense_6_loss: 0.2655 - val_dense_2_accuracy: 0.9588 - val_dense_3_accuracy: 0.9229 - val_dense_4_accuracy: 0.9979 - val_dense_5_accuracy: 0.9905 - val_dense_6_accuracy: 0.9443\n"
     ]
    },
    {
     "name": "stdout",
     "output_type": "stream",
     "text": [
      "Epoch 37/40\n",
      "\n",
      "Epoch 00037: val_loss improved from 0.81623 to 0.80821, saving model to model/model-ALL-37.hdf5\n",
      "100000/100000 - 343s - loss: 0.8418 - dense_2_loss: 0.1498 - dense_3_loss: 0.2168 - dense_4_loss: 0.0370 - dense_5_loss: 0.1642 - dense_6_loss: 0.2740 - dense_2_accuracy: 0.9609 - dense_3_accuracy: 0.9209 - dense_4_accuracy: 0.9979 - dense_5_accuracy: 0.9905 - dense_6_accuracy: 0.9487 - val_loss: 0.8082 - val_dense_2_loss: 0.1411 - val_dense_3_loss: 0.2035 - val_dense_4_loss: 0.0365 - val_dense_5_loss: 0.1627 - val_dense_6_loss: 0.2643 - val_dense_2_accuracy: 0.9647 - val_dense_3_accuracy: 0.9249 - val_dense_4_accuracy: 0.9979 - val_dense_5_accuracy: 0.9905 - val_dense_6_accuracy: 0.9570\n",
      "Epoch 38/40\n",
      "\n",
      "Epoch 00038: val_loss improved from 0.80821 to 0.80268, saving model to model/model-ALL-38.hdf5\n",
      "100000/100000 - 343s - loss: 0.8363 - dense_2_loss: 0.1488 - dense_3_loss: 0.2159 - dense_4_loss: 0.0374 - dense_5_loss: 0.1630 - dense_6_loss: 0.2714 - dense_2_accuracy: 0.9610 - dense_3_accuracy: 0.9203 - dense_4_accuracy: 0.9979 - dense_5_accuracy: 0.9905 - dense_6_accuracy: 0.9497 - val_loss: 0.8027 - val_dense_2_loss: 0.1414 - val_dense_3_loss: 0.2023 - val_dense_4_loss: 0.0359 - val_dense_5_loss: 0.1609 - val_dense_6_loss: 0.2622 - val_dense_2_accuracy: 0.9648 - val_dense_3_accuracy: 0.9263 - val_dense_4_accuracy: 0.9979 - val_dense_5_accuracy: 0.9905 - val_dense_6_accuracy: 0.9564\n",
      "Epoch 39/40\n",
      "\n",
      "Epoch 00039: val_loss did not improve from 0.80268\n",
      "100000/100000 - 343s - loss: 0.8291 - dense_2_loss: 0.1474 - dense_3_loss: 0.2133 - dense_4_loss: 0.0373 - dense_5_loss: 0.1618 - dense_6_loss: 0.2697 - dense_2_accuracy: 0.9596 - dense_3_accuracy: 0.9215 - dense_4_accuracy: 0.9979 - dense_5_accuracy: 0.9905 - dense_6_accuracy: 0.9496 - val_loss: 0.8069 - val_dense_2_loss: 0.1412 - val_dense_3_loss: 0.2018 - val_dense_4_loss: 0.0363 - val_dense_5_loss: 0.1603 - val_dense_6_loss: 0.2674 - val_dense_2_accuracy: 0.9680 - val_dense_3_accuracy: 0.9286 - val_dense_4_accuracy: 0.9979 - val_dense_5_accuracy: 0.9905 - val_dense_6_accuracy: 0.9607\n",
      "Epoch 40/40\n",
      "\n",
      "Epoch 00040: val_loss did not improve from 0.80268\n",
      "100000/100000 - 352s - loss: 0.8278 - dense_2_loss: 0.1474 - dense_3_loss: 0.2121 - dense_4_loss: 0.0370 - dense_5_loss: 0.1614 - dense_6_loss: 0.2697 - dense_2_accuracy: 0.9605 - dense_3_accuracy: 0.9211 - dense_4_accuracy: 0.9979 - dense_5_accuracy: 0.9905 - dense_6_accuracy: 0.9495 - val_loss: 0.8189 - val_dense_2_loss: 0.1458 - val_dense_3_loss: 0.2107 - val_dense_4_loss: 0.0376 - val_dense_5_loss: 0.1599 - val_dense_6_loss: 0.2649 - val_dense_2_accuracy: 0.9534 - val_dense_3_accuracy: 0.9130 - val_dense_4_accuracy: 0.9979 - val_dense_5_accuracy: 0.9905 - val_dense_6_accuracy: 0.9461\n"
     ]
    }
   ],
   "source": [
    "# to run this without list or set key issues, change tensorflow to 2.1.0 with python 3.7\n",
    "# due to lack of time and resources x_train and y_train are limited to 100000\n",
    "\n",
    "class_weights = [{0: 1., 1: 5.},{0: 1., 1: 5.},{0: 1., 1: 5.},{0: 1., 1: 5.},{0: 1., 1: 5.}]\n",
    "\n",
    "#class_weights = { 'output1': {0: 1., 1: 5.} , 'output2': {0: 1., 1: 5.},  'output3': {0: 1., 1: 5.}, 'output4': {0: 1., 1: 5.},  'output5': {0: 1., 1: 5.}}\n",
    "\n",
    "history = model.fit(x = x_train[0:100000],\n",
    "          y = [y_train[0][0:100000], y_train[1][0:100000], y_train[2][0:100000], y_train[3][0:100000], y_train[4][0:100000]],\n",
    "          validation_data = (x_validate[0:100000], [y_validate[0][0:100000], y_validate[1][0:100000], y_validate[2][0:100000], y_validate[3][0:100000], y_validate[4][0:100000]]),\n",
    "          epochs = 40,\n",
    "          batch_size = 128,\n",
    "          verbose =2,\n",
    "          class_weight= class_weights,\n",
    "          callbacks=[mcp,tbCallback])\n",
    "\n",
    "with open('history/History-ALL-40EP-CNN', 'wb') as file_pi:\n",
    "    pickle.dump(history.history, file_pi)\n"
   ]
  },
  {
   "cell_type": "code",
   "execution_count": 3,
   "id": "bf1d9c24",
   "metadata": {},
   "outputs": [],
   "source": [
    "#!pip install h5py==2.10.0 --force-reinstall --user"
   ]
  },
  {
   "cell_type": "code",
   "execution_count": 25,
   "id": "fdfbd068",
   "metadata": {},
   "outputs": [
    {
     "name": "stdout",
     "output_type": "stream",
     "text": [
      "import h5py\n",
      "import pandas as pd\n",
      "import tensorflow as tf\n",
      "import numpy as np\n",
      "import pandas as pd\n",
      "import matplotlib.pyplot as plt\n",
      "import sklearn.metrics\n",
      "from sklearn.utils import class_weight\n",
      "import pickle\n",
      "\n",
      "print(\"Tensorlfow version: \", tf.__version__)\n",
      "print(\"Eager mode: \", tf.executing_eagerly())\n",
      "print(\"GPU is\", \"available\" if tf.config.list_physical_devices('GPU') else \"NOT AVAILABLE\")\n",
      "#!pip install h5py==2.10.0 --force-reinstall --user\n",
      "import h5py\n",
      "# Load model with the lowest loss\n",
      "from tensorflow.keras.models import load_model\n",
      "model = load_model('model/model-ALL-38.hdf5')\n",
      "# model = tf.keras.models.load_model(\"model/model-ALL-38.hdf5\")\n",
      "results = model.evaluate(x_test, y_test, batch_size=128)\n",
      "for num in range(0,len(model.metrics_names)):\n",
      "    print(model.metrics_names[num]+': '+str(results[num]))\n",
      "# Set the global value\n",
      "WORDS_SIZE=10000\n",
      "INPUT_SIZE=500\n",
      "NUM_CLASSES=2\n",
      "MODEL_NUM=0\n",
      "EPOCHS=10\n",
      "train=pd.read_pickle(\"VDISC_train.pickle\")\n",
      "validate=pd.read_pickle(\"VDISC_validate.pickle\")\n",
      "test=pd.read_pickle(\"VDISC_test.pickle\")\n",
      "for dataset in [train,validate,test]:\n",
      "    for col in range(1,6):\n",
      "        dataset.iloc[:,col] = dataset.iloc[:,col].map({False: 0, True: 1})\n",
      "\n",
      "# Create source code sdata for tokenization\n",
      "x_all = train['functionSource']\n",
      "#x_all = x_all.append(validate['functionSource'])\n",
      "#x_all = x_all.append(test['functionSource'])\n",
      "# Tokenizer with word-level\n",
      "tokenizer = tf.keras.preprocessing.text.Tokenizer(char_level=False)\n",
      "#tokenizer.fit_on_texts(list(x_all))\n",
      "tokenizer.fit_on_texts([x.decode('utf-8') for x in list(x_all)])\n",
      "del(x_all)\n",
      "print('Number of tokens: ',len(tokenizer.word_counts))\n",
      "# Reducing to top N words\n",
      "tokenizer.num_words = WORDS_SIZE\n",
      "# Top 10 words\n",
      "sorted(tokenizer.word_counts.items(), key=lambda x:x[1], reverse=True)[0:10]\n",
      "## Tokkenizing test data and create matrix\n",
      "list_tokenized_test = tokenizer.texts_to_sequences([x.decode('utf-8') for x in test['functionSource']])\n",
      "x_test = tf.keras.preprocessing.sequence.pad_sequences(list_tokenized_test, \n",
      "                                 maxlen=INPUT_SIZE,\n",
      "                                 padding='post')\n",
      "x_test = x_test.astype(np.int64)\n",
      "results = model.evaluate(x_test[0:100000], y_test[0:100000], batch_size=128)\n",
      "for num in range(0,len(model.metrics_names)):\n",
      "    print(model.metrics_names[num]+': '+str(results[num]))\n",
      "y_train=[]\n",
      "y_test=[] \n",
      "y_validate=[]\n",
      "\n",
      "for col in range(1,6):\n",
      "    y_train.append(tf.keras.utils.to_categorical(train.iloc[:,col], num_classes=NUM_CLASSES).astype(np.int64))\n",
      "    y_test.append(tf.keras.utils.to_categorical(test.iloc[:,col], num_classes=NUM_CLASSES).astype(np.int64))\n",
      "    y_validate.append(tf.keras.utils.to_categorical(validate.iloc[:,col], num_classes=NUM_CLASSES).astype(np.int64))\n",
      "results = model.evaluate(x_test[0:100000], y_test[0:100000], batch_size=128)\n",
      "for num in range(0,len(model.metrics_names)):\n",
      "    print(model.metrics_names[num]+': '+str(results[num]))\n",
      "results = model.evaluate(x_test, y_test, batch_size=128)\n",
      "for num in range(0,len(model.metrics_names)):\n",
      "    print(model.metrics_names[num]+': '+str(results[num]))\n",
      "predicted = model.predict(x_test[0:100000])\n",
      "pred_test = [[],[],[],[],[]]\n",
      "\n",
      "for col in range(0,len(predicted)):\n",
      "    for row in predicted[col]:\n",
      "        if row[0] >= row[1]:\n",
      "            pred_test[col].append(0)\n",
      "        else:\n",
      "            pred_test[col].append(1)\n",
      "            \n",
      "for col in range(0,len(predicted)):\n",
      "    print(pd.value_counts(pred_test[col]))\n",
      "for col in range(1,6):\n",
      "    print('\\nThis is evaluation for column',col)\n",
      "    confusion = sklearn.metrics.confusion_matrix(y_true=test.iloc[:,col].to_numpy(), y_pred=pred_test[col-1])\n",
      "    print(confusion)\n",
      "    tn, fp, fn, tp = confusion.ravel()\n",
      "    print('\\nTP:',tp)\n",
      "    print('FP:',fp)\n",
      "    print('TN:',tn)\n",
      "    print('FN:',fn)\n",
      "\n",
      "    ## Performance measure\n",
      "    print('\\nAccuracy: '+ str(sklearn.metrics.accuracy_score(y_true=test.iloc[:,col].to_numpy(), y_pred=pred_test[col-1])))\n",
      "    print('Precision: '+ str(sklearn.metrics.precision_score(y_true=test.iloc[:,col].to_numpy(), y_pred=pred_test[col-1])))\n",
      "    print('Recall: '+ str(sklearn.metrics.recall_score(y_true=test.iloc[:,col].to_numpy(), y_pred=pred_test[col-1])))\n",
      "    print('F-measure: '+ str(sklearn.metrics.f1_score(y_true=test.iloc[:,col].to_numpy(), y_pred=pred_test[col-1])))\n",
      "    print('Precision-Recall AUC: '+ str(sklearn.metrics.average_precision_score(y_true=test.iloc[:,col].to_numpy(), y_score=predicted[col-1][:,1])))\n",
      "    print('AUC: '+ str(sklearn.metrics.roc_auc_score(y_true=test.iloc[:,col].to_numpy(), y_score=predicted[col-1][:,1])))\n",
      "    print('MCC: '+ str(sklearn.metrics.matthews_corrcoef(y_true=test.iloc[:,col].to_numpy(), y_pred=pred_test[col-1])))\n",
      "predicted = model.predict(x_test)\n",
      "pred_test = [[],[],[],[],[]]\n",
      "\n",
      "for col in range(0,len(predicted)):\n",
      "    for row in predicted[col]:\n",
      "        if row[0] >= row[1]:\n",
      "            pred_test[col].append(0)\n",
      "        else:\n",
      "            pred_test[col].append(1)\n",
      "            \n",
      "for col in range(0,len(predicted)):\n",
      "    print(pd.value_counts(pred_test[col]))\n",
      "for col in range(1,6):\n",
      "    print('\\nThis is evaluation for column',col)\n",
      "    confusion = sklearn.metrics.confusion_matrix(y_true=test.iloc[:,col].to_numpy(), y_pred=pred_test[col-1])\n",
      "    print(confusion)\n",
      "    tn, fp, fn, tp = confusion.ravel()\n",
      "    print('\\nTP:',tp)\n",
      "    print('FP:',fp)\n",
      "    print('TN:',tn)\n",
      "    print('FN:',fn)\n",
      "\n",
      "    ## Performance measure\n",
      "    print('\\nAccuracy: '+ str(sklearn.metrics.accuracy_score(y_true=test.iloc[:,col].to_numpy(), y_pred=pred_test[col-1])))\n",
      "    print('Precision: '+ str(sklearn.metrics.precision_score(y_true=test.iloc[:,col].to_numpy(), y_pred=pred_test[col-1])))\n",
      "    print('Recall: '+ str(sklearn.metrics.recall_score(y_true=test.iloc[:,col].to_numpy(), y_pred=pred_test[col-1])))\n",
      "    print('F-measure: '+ str(sklearn.metrics.f1_score(y_true=test.iloc[:,col].to_numpy(), y_pred=pred_test[col-1])))\n",
      "    print('Precision-Recall AUC: '+ str(sklearn.metrics.average_precision_score(y_true=test.iloc[:,col].to_numpy(), y_score=predicted[col-1][:,1])))\n",
      "    print('AUC: '+ str(sklearn.metrics.roc_auc_score(y_true=test.iloc[:,col].to_numpy(), y_score=predicted[col-1][:,1])))\n",
      "    print('MCC: '+ str(sklearn.metrics.matthews_corrcoef(y_true=test.iloc[:,col].to_numpy(), y_pred=pred_test[col-1])))\n",
      "epochs_range = range(len(history.history[model.metrics_names[1]]))\n",
      "\n",
      "fig, axs = plt.subplots(2, 2, figsize=(20,15))\n",
      "fig.suptitle('CNN with 10 Epochs')\n",
      "\n",
      "axs[0,0].plot(epochs_range, history.history['val_%s'%(model.metrics_names[6])], 'b', label='CWE-119', color='green')\n",
      "axs[0,0].plot(epochs_range, history.history['val_%s'%(model.metrics_names[7])], 'b', label='CWE-120', color='blue')\n",
      "axs[0,0].plot(epochs_range, history.history['val_%s'%(model.metrics_names[8])], 'b', label='CWE-469', color='red')\n",
      "axs[0,0].plot(epochs_range, history.history['val_%s'%(model.metrics_names[9])], 'b', label='CWE-479', color='purple')\n",
      "axs[0,0].plot(epochs_range, history.history['val_%s'%(model.metrics_names[10])], 'b', label='CWE-Other', color='orange')\n",
      "axs[0,0].set_title('Training accuracy')\n",
      "axs[0,0].legend()\n",
      "\n",
      "\n",
      "axs[0,1].plot(epochs_range, history.history['val_%s'%(model.metrics_names[1])], 'b', label='CWE-119', color='green')\n",
      "axs[0,1].plot(epochs_range, history.history['val_%s'%(model.metrics_names[2])], 'b', label='CWE-120', color='blue')\n",
      "axs[0,1].plot(epochs_range, history.history['val_%s'%(model.metrics_names[3])], 'b', label='CWE-469', color='red')\n",
      "axs[0,1].plot(epochs_range, history.history['val_%s'%(model.metrics_names[4])], 'b', label='CWE-479', color='purple')\n",
      "axs[0,1].plot(epochs_range, history.history['val_%s'%(model.metrics_names[5])], 'b', label='CWE-Other', color='orange')\n",
      "axs[0,1].set_title('Training Loss')\n",
      "axs[0,1].legend()\n",
      "\n",
      "axs[1,0].plot(epochs_range, history.history[model.metrics_names[6]], 'b', label='CWE-119', color='green')\n",
      "axs[1,0].plot(epochs_range, history.history[model.metrics_names[7]], 'b', label='CWE-120', color='blue')\n",
      "axs[1,0].plot(epochs_range, history.history[model.metrics_names[8]], 'b', label='CWE-469', color='red')\n",
      "axs[1,0].plot(epochs_range, history.history[model.metrics_names[9]], 'b', label='CWE-479', color='purple')\n",
      "axs[1,0].plot(epochs_range, history.history[model.metrics_names[10]], 'b', label='CWE-Other', color='orange')\n",
      "axs[1,0].set_title('Validation accuracy')\n",
      "axs[1,0].legend()\n",
      "\n",
      "\n",
      "axs[1,1].plot(epochs_range, history.history[model.metrics_names[1]], 'b', label='CWE-119', color='green')\n",
      "axs[1,1].plot(epochs_range, history.history[model.metrics_names[2]], 'b', label='CWE-120', color='blue')\n",
      "axs[1,1].plot(epochs_range, history.history[model.metrics_names[3]], 'b', label='CWE-469', color='red')\n",
      "axs[1,1].plot(epochs_range, history.history[model.metrics_names[4]], 'b', label='CWE-479', color='purple')\n",
      "axs[1,1].plot(epochs_range, history.history[model.metrics_names[5]], 'b', label='CWE-Other', color='orange')\n",
      "axs[1,1].set_title('Validation Loss')\n",
      "axs[1,1].legend()\n",
      "epochs_range = range(len(history.history[model.metrics_names[1]]))\n",
      "\n",
      "fig, axs = plt.subplots(2, 2, figsize=(20,15))\n",
      "fig.suptitle('CNN with 10 Epochs')\n",
      "\n",
      "axs[0,0].plot(epochs_range, history.history['val_%s'%(model.metrics_names[6])], 'b', label='CWE-119', color='green')\n",
      "axs[0,0].plot(epochs_range, history.history['val_%s'%(model.metrics_names[7])], 'b', label='CWE-120', color='blue')\n",
      "axs[0,0].plot(epochs_range, history.history['val_%s'%(model.metrics_names[8])], 'b', label='CWE-469', color='red')\n",
      "axs[0,0].plot(epochs_range, history.history['val_%s'%(model.metrics_names[9])], 'b', label='CWE-479', color='purple')\n",
      "axs[0,0].plot(epochs_range, history.history['val_%s'%(model.metrics_names[10])], 'b', label='CWE-Other', color='orange')\n",
      "axs[0,0].set_title('Training accuracy')\n",
      "axs[0,0].legend()\n",
      "\n",
      "\n",
      "axs[0,1].plot(epochs_range, history.history['val_%s'%(model.metrics_names[1])], 'b', label='CWE-119', color='green')\n",
      "axs[0,1].plot(epochs_range, history.history['val_%s'%(model.metrics_names[2])], 'b', label='CWE-120', color='blue')\n",
      "axs[0,1].plot(epochs_range, history.history['val_%s'%(model.metrics_names[3])], 'b', label='CWE-469', color='red')\n",
      "axs[0,1].plot(epochs_range, history.history['val_%s'%(model.metrics_names[4])], 'b', label='CWE-479', color='purple')\n",
      "axs[0,1].plot(epochs_range, history.history['val_%s'%(model.metrics_names[5])], 'b', label='CWE-Other', color='orange')\n",
      "axs[0,1].set_title('Training Loss')\n",
      "axs[0,1].legend()\n",
      "\n",
      "axs[1,0].plot(epochs_range, history.history[model.metrics_names[6]], 'b', label='CWE-119', color='green')\n",
      "axs[1,0].plot(epochs_range, history.history[model.metrics_names[7]], 'b', label='CWE-120', color='blue')\n",
      "axs[1,0].plot(epochs_range, history.history[model.metrics_names[8]], 'b', label='CWE-469', color='red')\n",
      "axs[1,0].plot(epochs_range, history.history[model.metrics_names[9]], 'b', label='CWE-479', color='purple')\n",
      "axs[1,0].plot(epochs_range, history.history[model.metrics_names[10]], 'b', label='CWE-Other', color='orange')\n",
      "axs[1,0].set_title('Validation accuracy')\n",
      "axs[1,0].legend()\n",
      "\n",
      "\n",
      "axs[1,1].plot(epochs_range, history.history[model.metrics_names[1]], 'b', label='CWE-119', color='green')\n",
      "axs[1,1].plot(epochs_range, history.history[model.metrics_names[2]], 'b', label='CWE-120', color='blue')\n",
      "axs[1,1].plot(epochs_range, history.history[model.metrics_names[3]], 'b', label='CWE-469', color='red')\n",
      "axs[1,1].plot(epochs_range, history.history[model.metrics_names[4]], 'b', label='CWE-479', color='purple')\n",
      "axs[1,1].plot(epochs_range, history.history[model.metrics_names[5]], 'b', label='CWE-Other', color='orange')\n",
      "axs[1,1].set_title('Validation Loss')\n",
      "axs[1,1].legend()\n",
      "history\n"
     ]
    }
   ],
   "source": [
    "history"
   ]
  },
  {
   "cell_type": "code",
   "execution_count": 4,
   "id": "58d8f182",
   "metadata": {},
   "outputs": [],
   "source": [
    "# import h5py==2.10.0 \n",
    "# 1 . uninstall h5py from pip and conda\n",
    "# 2. pip install h5py==2.10.0 \n",
    "import h5py"
   ]
  },
  {
   "cell_type": "markdown",
   "id": "2e5eef52",
   "metadata": {},
   "source": [
    "### Model Evaluation using Testing Set"
   ]
  },
  {
   "cell_type": "code",
   "execution_count": 5,
   "id": "830caf8b",
   "metadata": {},
   "outputs": [],
   "source": [
    "# Load model with the lowest loss\n",
    "from tensorflow.keras.models import load_model\n",
    "model = load_model('model/model-ALL-38.hdf5')\n",
    "# model = tf.keras.models.load_model(\"model/model-ALL-38.hdf5\")"
   ]
  },
  {
   "cell_type": "code",
   "execution_count": 16,
   "id": "fbdfb194",
   "metadata": {},
   "outputs": [
    {
     "name": "stdout",
     "output_type": "stream",
     "text": [
      "1019471/1019471 [==============================] - 732s 718us/sample - loss: 0.4851 - dense_2_loss: 0.1007 - dense_3_loss: 0.1548 - dense_4_loss: 0.0163 - dense_5_loss: 0.0680 - dense_6_loss: 0.1452 - dense_2_accuracy: 0.9614 - dense_3_accuracy: 0.9147 - dense_4_accuracy: 0.9979 - dense_5_accuracy: 0.9905 - dense_6_accuracy: 0.9516\n",
      "loss: 0.4851082016180739\n",
      "dense_2_loss: 0.100678734\n",
      "dense_3_loss: 0.15483238\n",
      "dense_4_loss: 0.016344808\n",
      "dense_5_loss: 0.06801847\n",
      "dense_6_loss: 0.14523205\n",
      "dense_2_accuracy: 0.96143585\n",
      "dense_3_accuracy: 0.9146685\n",
      "dense_4_accuracy: 0.997945\n",
      "dense_5_accuracy: 0.99049115\n",
      "dense_6_accuracy: 0.9515876\n"
     ]
    }
   ],
   "source": [
    "results = model.evaluate(x_test, y_test, batch_size=128)\n",
    "for num in range(0,len(model.metrics_names)):\n",
    "    print(model.metrics_names[num]+': '+str(results[num]))"
   ]
  },
  {
   "cell_type": "markdown",
   "id": "90602b5f",
   "metadata": {},
   "source": [
    "### Check The Evaluation Metrics"
   ]
  },
  {
   "cell_type": "code",
   "execution_count": 20,
   "id": "99501893",
   "metadata": {},
   "outputs": [],
   "source": [
    "predicted = model.predict(x_test)"
   ]
  },
  {
   "cell_type": "code",
   "execution_count": 21,
   "id": "d8d60134",
   "metadata": {},
   "outputs": [
    {
     "name": "stdout",
     "output_type": "stream",
     "text": [
      "0    987034\n",
      "1     32437\n",
      "dtype: int64\n",
      "0    918259\n",
      "1    101212\n",
      "dtype: int64\n",
      "0    1019471\n",
      "dtype: int64\n",
      "0    1019471\n",
      "dtype: int64\n",
      "0    984919\n",
      "1     34552\n",
      "dtype: int64\n"
     ]
    }
   ],
   "source": [
    "pred_test = [[],[],[],[],[]]\n",
    "\n",
    "for col in range(0,len(predicted)):\n",
    "    for row in predicted[col]:\n",
    "        if row[0] >= row[1]:\n",
    "            pred_test[col].append(0)\n",
    "        else:\n",
    "            pred_test[col].append(1)\n",
    "            \n",
    "for col in range(0,len(predicted)):\n",
    "    print(pd.value_counts(pred_test[col]))"
   ]
  },
  {
   "cell_type": "markdown",
   "id": "2fda1c39",
   "metadata": {},
   "source": [
    "### Evaluate on the testing set\n"
   ]
  },
  {
   "cell_type": "code",
   "execution_count": 22,
   "id": "dd0c5260",
   "metadata": {},
   "outputs": [
    {
     "name": "stdout",
     "output_type": "stream",
     "text": [
      "\n",
      "This is evaluation for column 1\n",
      "[[973952  26233]\n",
      " [ 13082   6204]]\n",
      "\n",
      "TP: 6204\n",
      "FP: 26233\n",
      "TN: 973952\n",
      "FN: 13082\n",
      "\n",
      "Accuracy: 0.9614358819426938\n",
      "Precision: 0.1912630637851836\n",
      "Recall: 0.32168412319817485\n",
      "F-measure: 0.23989327765210838\n",
      "Precision-Recall AUC: 0.15171493190560434\n",
      "AUC: 0.8840041769240439\n",
      "MCC: 0.22933356942226207\n",
      "\n",
      "This is evaluation for column 2\n",
      "[[906359  75093]\n",
      " [ 11900  26119]]\n",
      "\n",
      "TP: 26119\n",
      "FP: 75093\n",
      "TN: 906359\n",
      "FN: 11900\n",
      "\n",
      "Accuracy: 0.9146684898344337\n",
      "Precision: 0.25806228510453305\n",
      "Recall: 0.6869986059601778\n",
      "F-measure: 0.37518943338767946\n",
      "Precision-Recall AUC: 0.2765334098052342\n",
      "AUC: 0.8990997846784375\n",
      "MCC: 0.38682302064193913\n",
      "\n",
      "This is evaluation for column 3\n",
      "[[1017376       0]\n",
      " [   2095       0]]\n",
      "\n",
      "TP: 0\n",
      "FP: 0\n",
      "TN: 1017376\n",
      "FN: 2095\n",
      "\n",
      "Accuracy: 0.9979450126585259\n"
     ]
    },
    {
     "name": "stderr",
     "output_type": "stream",
     "text": [
      "C:\\Users\\Softwarica\\anaconda3\\envs\\data-science\\lib\\site-packages\\sklearn\\metrics\\_classification.py:1248: UndefinedMetricWarning: Precision is ill-defined and being set to 0.0 due to no predicted samples. Use `zero_division` parameter to control this behavior.\n",
      "  _warn_prf(average, modifier, msg_start, len(result))\n"
     ]
    },
    {
     "name": "stdout",
     "output_type": "stream",
     "text": [
      "Precision: 0.0\n",
      "Recall: 0.0\n",
      "F-measure: 0.0\n",
      "Precision-Recall AUC: 0.019367233400595735\n",
      "AUC: 0.8914119423193755\n"
     ]
    },
    {
     "name": "stderr",
     "output_type": "stream",
     "text": [
      "C:\\Users\\Softwarica\\anaconda3\\envs\\data-science\\lib\\site-packages\\sklearn\\metrics\\_classification.py:873: RuntimeWarning: invalid value encountered in double_scalars\n",
      "  mcc = cov_ytyp / np.sqrt(cov_ytyt * cov_ypyp)\n"
     ]
    },
    {
     "name": "stdout",
     "output_type": "stream",
     "text": [
      "MCC: 0.0\n",
      "\n",
      "This is evaluation for column 4\n",
      "[[1009777       0]\n",
      " [   9694       0]]\n",
      "\n",
      "TP: 0\n",
      "FP: 0\n",
      "TN: 1009777\n",
      "FN: 9694\n",
      "\n",
      "Accuracy: 0.9904911468791168\n"
     ]
    },
    {
     "name": "stderr",
     "output_type": "stream",
     "text": [
      "C:\\Users\\Softwarica\\anaconda3\\envs\\data-science\\lib\\site-packages\\sklearn\\metrics\\_classification.py:1248: UndefinedMetricWarning: Precision is ill-defined and being set to 0.0 due to no predicted samples. Use `zero_division` parameter to control this behavior.\n",
      "  _warn_prf(average, modifier, msg_start, len(result))\n"
     ]
    },
    {
     "name": "stdout",
     "output_type": "stream",
     "text": [
      "Precision: 0.0\n",
      "Recall: 0.0\n",
      "F-measure: 0.0\n",
      "Precision-Recall AUC: 0.040432200334937704\n",
      "AUC: 0.7137282645119415\n"
     ]
    },
    {
     "name": "stderr",
     "output_type": "stream",
     "text": [
      "C:\\Users\\Softwarica\\anaconda3\\envs\\data-science\\lib\\site-packages\\sklearn\\metrics\\_classification.py:873: RuntimeWarning: invalid value encountered in double_scalars\n",
      "  mcc = cov_ytyp / np.sqrt(cov_ytyt * cov_ypyp)\n"
     ]
    },
    {
     "name": "stdout",
     "output_type": "stream",
     "text": [
      "MCC: 0.0\n",
      "\n",
      "This is evaluation for column 5\n",
      "[[963538  27974]\n",
      " [ 21381   6578]]\n",
      "\n",
      "TP: 6578\n",
      "FP: 27974\n",
      "TN: 963538\n",
      "FN: 21381\n",
      "\n",
      "Accuracy: 0.9515876371176816\n",
      "Precision: 0.19037971752720537\n",
      "Recall: 0.2352730784362817\n",
      "F-measure: 0.21045895922317673\n",
      "Precision-Recall AUC: 0.13294576682947157\n",
      "AUC: 0.8163891744624491\n",
      "MCC: 0.18688236737576294\n"
     ]
    }
   ],
   "source": [
    "for col in range(1,6):\n",
    "    print('\\nThis is evaluation for column',col)\n",
    "    confusion = sklearn.metrics.confusion_matrix(y_true=test.iloc[:,col].to_numpy(), y_pred=pred_test[col-1])\n",
    "    print(confusion)\n",
    "    tn, fp, fn, tp = confusion.ravel()\n",
    "    print('\\nTP:',tp)\n",
    "    print('FP:',fp)\n",
    "    print('TN:',tn)\n",
    "    print('FN:',fn)\n",
    "\n",
    "    ## Performance measure\n",
    "    print('\\nAccuracy: '+ str(sklearn.metrics.accuracy_score(y_true=test.iloc[:,col].to_numpy(), y_pred=pred_test[col-1])))\n",
    "    print('Precision: '+ str(sklearn.metrics.precision_score(y_true=test.iloc[:,col].to_numpy(), y_pred=pred_test[col-1])))\n",
    "    print('Recall: '+ str(sklearn.metrics.recall_score(y_true=test.iloc[:,col].to_numpy(), y_pred=pred_test[col-1])))\n",
    "    print('F-measure: '+ str(sklearn.metrics.f1_score(y_true=test.iloc[:,col].to_numpy(), y_pred=pred_test[col-1])))\n",
    "    print('Precision-Recall AUC: '+ str(sklearn.metrics.average_precision_score(y_true=test.iloc[:,col].to_numpy(), y_score=predicted[col-1][:,1])))\n",
    "    print('AUC: '+ str(sklearn.metrics.roc_auc_score(y_true=test.iloc[:,col].to_numpy(), y_score=predicted[col-1][:,1])))\n",
    "    print('MCC: '+ str(sklearn.metrics.matthews_corrcoef(y_true=test.iloc[:,col].to_numpy(), y_pred=pred_test[col-1])))\n",
    "    \n",
    "    "
   ]
  },
  {
   "cell_type": "code",
   "execution_count": 26,
   "id": "029703c7",
   "metadata": {},
   "outputs": [],
   "source": [
    "history = None\n",
    "with open('history/History-ALL-40EP-CNN', 'rb') as file_pi:\n",
    "    history = pickle.load(file_pi)\n",
    "#     pickle.dump(history.history, file_pi)"
   ]
  },
  {
   "cell_type": "code",
   "execution_count": null,
   "id": "96556e57",
   "metadata": {},
   "outputs": [],
   "source": []
  },
  {
   "cell_type": "code",
   "execution_count": 29,
   "id": "ad3a88ec",
   "metadata": {},
   "outputs": [
    {
     "data": {
      "text/plain": [
       "{'loss': [1.0558950090408326,\n",
       "  1.0433028445434571,\n",
       "  1.0344393500900269,\n",
       "  1.0264688175582886,\n",
       "  1.017920872001648,\n",
       "  1.0110375351333618,\n",
       "  1.0019966765594484,\n",
       "  0.9958105267715454,\n",
       "  0.9872454652404785,\n",
       "  0.9811242122268676,\n",
       "  0.973685107460022,\n",
       "  0.9670024846458435,\n",
       "  0.962037550201416,\n",
       "  0.9537234657287598,\n",
       "  0.9494602445220948,\n",
       "  0.9417812334442138,\n",
       "  0.9362472374725341,\n",
       "  0.9286172380256653,\n",
       "  0.9294122354888916,\n",
       "  0.9212997193908692,\n",
       "  0.9163294126319885,\n",
       "  0.9092585697555542,\n",
       "  0.9084133329677582,\n",
       "  0.9040580097389221,\n",
       "  0.8978834182929992,\n",
       "  0.8919960156822204,\n",
       "  0.8861664566230774,\n",
       "  0.8820902045059205,\n",
       "  0.8766052731895447,\n",
       "  0.8747816087341309,\n",
       "  0.8666291966629028,\n",
       "  0.8625807343006134,\n",
       "  0.8599031951522828,\n",
       "  0.8512396741867065,\n",
       "  0.8509906742095947,\n",
       "  0.8466699579238891,\n",
       "  0.8417702181625366,\n",
       "  0.8362872507858277,\n",
       "  0.8291499658966065,\n",
       "  0.8278373700523376],\n",
       " 'dense_2_loss': [0.20188747,\n",
       "  0.19872847,\n",
       "  0.19572273,\n",
       "  0.19544628,\n",
       "  0.19224891,\n",
       "  0.19214632,\n",
       "  0.18809018,\n",
       "  0.18712494,\n",
       "  0.18404686,\n",
       "  0.18437402,\n",
       "  0.1804778,\n",
       "  0.17918344,\n",
       "  0.17760853,\n",
       "  0.17559354,\n",
       "  0.17465413,\n",
       "  0.17184305,\n",
       "  0.17134508,\n",
       "  0.1692528,\n",
       "  0.16903628,\n",
       "  0.1671751,\n",
       "  0.1666882,\n",
       "  0.16450776,\n",
       "  0.16400437,\n",
       "  0.16508445,\n",
       "  0.16198505,\n",
       "  0.16086842,\n",
       "  0.15963759,\n",
       "  0.15808699,\n",
       "  0.15635246,\n",
       "  0.1569591,\n",
       "  0.15492007,\n",
       "  0.15345505,\n",
       "  0.15354003,\n",
       "  0.15134963,\n",
       "  0.15261959,\n",
       "  0.15067865,\n",
       "  0.14983638,\n",
       "  0.14880519,\n",
       "  0.14740562,\n",
       "  0.14741054],\n",
       " 'dense_3_loss': [0.29504666,\n",
       "  0.29009712,\n",
       "  0.28608382,\n",
       "  0.28271544,\n",
       "  0.2790257,\n",
       "  0.2767582,\n",
       "  0.27207157,\n",
       "  0.27041185,\n",
       "  0.26655173,\n",
       "  0.2654055,\n",
       "  0.26126784,\n",
       "  0.2588476,\n",
       "  0.25691488,\n",
       "  0.25316975,\n",
       "  0.2511367,\n",
       "  0.24899696,\n",
       "  0.24671039,\n",
       "  0.24393664,\n",
       "  0.24429332,\n",
       "  0.24131209,\n",
       "  0.23957984,\n",
       "  0.23764348,\n",
       "  0.2365872,\n",
       "  0.23589733,\n",
       "  0.23460947,\n",
       "  0.23120894,\n",
       "  0.22983135,\n",
       "  0.22852798,\n",
       "  0.22758377,\n",
       "  0.22800529,\n",
       "  0.22460438,\n",
       "  0.22210364,\n",
       "  0.22173674,\n",
       "  0.21918054,\n",
       "  0.22050808,\n",
       "  0.21813914,\n",
       "  0.21683758,\n",
       "  0.21589302,\n",
       "  0.2132687,\n",
       "  0.21214429],\n",
       " 'dense_4_loss': [0.044219498,\n",
       "  0.04354445,\n",
       "  0.043459743,\n",
       "  0.04289571,\n",
       "  0.043478426,\n",
       "  0.042511724,\n",
       "  0.042674612,\n",
       "  0.04198192,\n",
       "  0.042279635,\n",
       "  0.041354015,\n",
       "  0.041465554,\n",
       "  0.041230116,\n",
       "  0.04133082,\n",
       "  0.040864978,\n",
       "  0.040935453,\n",
       "  0.040191233,\n",
       "  0.040293578,\n",
       "  0.040161446,\n",
       "  0.04036772,\n",
       "  0.040177103,\n",
       "  0.039800778,\n",
       "  0.039228592,\n",
       "  0.039716445,\n",
       "  0.038928982,\n",
       "  0.03909305,\n",
       "  0.039202347,\n",
       "  0.038628526,\n",
       "  0.03907904,\n",
       "  0.038368005,\n",
       "  0.038062558,\n",
       "  0.038201097,\n",
       "  0.03834332,\n",
       "  0.03774151,\n",
       "  0.0377927,\n",
       "  0.03755278,\n",
       "  0.037362337,\n",
       "  0.03703631,\n",
       "  0.037352577,\n",
       "  0.03728948,\n",
       "  0.03700825],\n",
       " 'dense_5_loss': [0.18319,\n",
       "  0.18309066,\n",
       "  0.18296425,\n",
       "  0.18178113,\n",
       "  0.18229134,\n",
       "  0.18190505,\n",
       "  0.18156055,\n",
       "  0.1803446,\n",
       "  0.18098848,\n",
       "  0.17944501,\n",
       "  0.17992182,\n",
       "  0.17853534,\n",
       "  0.17892237,\n",
       "  0.17789681,\n",
       "  0.17787223,\n",
       "  0.17721948,\n",
       "  0.17689447,\n",
       "  0.17611983,\n",
       "  0.17565186,\n",
       "  0.17600554,\n",
       "  0.17418078,\n",
       "  0.17392656,\n",
       "  0.17361628,\n",
       "  0.17335853,\n",
       "  0.17255339,\n",
       "  0.1715363,\n",
       "  0.17194544,\n",
       "  0.17055614,\n",
       "  0.16970468,\n",
       "  0.16865072,\n",
       "  0.16845077,\n",
       "  0.16755942,\n",
       "  0.16697428,\n",
       "  0.1661959,\n",
       "  0.16525772,\n",
       "  0.16564319,\n",
       "  0.16416949,\n",
       "  0.1629789,\n",
       "  0.16177441,\n",
       "  0.1613616],\n",
       " 'dense_6_loss': [0.33136052,\n",
       "  0.3276867,\n",
       "  0.32580632,\n",
       "  0.323491,\n",
       "  0.3213244,\n",
       "  0.31939808,\n",
       "  0.3176528,\n",
       "  0.31611216,\n",
       "  0.31388807,\n",
       "  0.312697,\n",
       "  0.31105313,\n",
       "  0.3086362,\n",
       "  0.3075644,\n",
       "  0.3061326,\n",
       "  0.30524233,\n",
       "  0.30301115,\n",
       "  0.300457,\n",
       "  0.2991344,\n",
       "  0.29941282,\n",
       "  0.2967989,\n",
       "  0.29559293,\n",
       "  0.29414755,\n",
       "  0.2940543,\n",
       "  0.29105562,\n",
       "  0.2896288,\n",
       "  0.2888194,\n",
       "  0.28619173,\n",
       "  0.28547496,\n",
       "  0.28422093,\n",
       "  0.28312662,\n",
       "  0.2805439,\n",
       "  0.2805839,\n",
       "  0.28052256,\n",
       "  0.27747306,\n",
       "  0.27596128,\n",
       "  0.27519888,\n",
       "  0.2740453,\n",
       "  0.27139777,\n",
       "  0.26967427,\n",
       "  0.26973385],\n",
       " 'dense_2_accuracy': [0.97017,\n",
       "  0.96947,\n",
       "  0.96976,\n",
       "  0.97078,\n",
       "  0.9691,\n",
       "  0.96975,\n",
       "  0.96944,\n",
       "  0.96934,\n",
       "  0.96911,\n",
       "  0.96904,\n",
       "  0.96958,\n",
       "  0.96831,\n",
       "  0.96944,\n",
       "  0.96844,\n",
       "  0.96931,\n",
       "  0.96887,\n",
       "  0.96675,\n",
       "  0.96697,\n",
       "  0.96748,\n",
       "  0.96712,\n",
       "  0.96608,\n",
       "  0.96597,\n",
       "  0.96534,\n",
       "  0.96464,\n",
       "  0.96507,\n",
       "  0.96389,\n",
       "  0.96299,\n",
       "  0.96328,\n",
       "  0.9628,\n",
       "  0.96282,\n",
       "  0.96199,\n",
       "  0.96076,\n",
       "  0.96063,\n",
       "  0.96135,\n",
       "  0.96052,\n",
       "  0.96072,\n",
       "  0.9609,\n",
       "  0.96101,\n",
       "  0.95965,\n",
       "  0.96048],\n",
       " 'dense_3_accuracy': [0.92425,\n",
       "  0.92437,\n",
       "  0.92373,\n",
       "  0.92179,\n",
       "  0.92223,\n",
       "  0.92136,\n",
       "  0.92054,\n",
       "  0.92081,\n",
       "  0.92004,\n",
       "  0.91978,\n",
       "  0.91918,\n",
       "  0.91923,\n",
       "  0.91958,\n",
       "  0.91876,\n",
       "  0.91869,\n",
       "  0.91825,\n",
       "  0.91893,\n",
       "  0.9182,\n",
       "  0.91711,\n",
       "  0.91727,\n",
       "  0.91661,\n",
       "  0.91678,\n",
       "  0.91724,\n",
       "  0.917,\n",
       "  0.91823,\n",
       "  0.91867,\n",
       "  0.91941,\n",
       "  0.91851,\n",
       "  0.9202,\n",
       "  0.91887,\n",
       "  0.91974,\n",
       "  0.91966,\n",
       "  0.92056,\n",
       "  0.92026,\n",
       "  0.9198,\n",
       "  0.9196,\n",
       "  0.92091,\n",
       "  0.92026,\n",
       "  0.92147,\n",
       "  0.9211],\n",
       " 'dense_4_accuracy': [0.99788,\n",
       "  0.99788,\n",
       "  0.99788,\n",
       "  0.99788,\n",
       "  0.99788,\n",
       "  0.99788,\n",
       "  0.99788,\n",
       "  0.99788,\n",
       "  0.99788,\n",
       "  0.99788,\n",
       "  0.99788,\n",
       "  0.99788,\n",
       "  0.99788,\n",
       "  0.99788,\n",
       "  0.99788,\n",
       "  0.99788,\n",
       "  0.99788,\n",
       "  0.99788,\n",
       "  0.99788,\n",
       "  0.99788,\n",
       "  0.99788,\n",
       "  0.99788,\n",
       "  0.99788,\n",
       "  0.99788,\n",
       "  0.99788,\n",
       "  0.99788,\n",
       "  0.99788,\n",
       "  0.99788,\n",
       "  0.99788,\n",
       "  0.99788,\n",
       "  0.99788,\n",
       "  0.99788,\n",
       "  0.99788,\n",
       "  0.99788,\n",
       "  0.99788,\n",
       "  0.99788,\n",
       "  0.99788,\n",
       "  0.99788,\n",
       "  0.99788,\n",
       "  0.99788],\n",
       " 'dense_5_accuracy': [0.9905,\n",
       "  0.9905,\n",
       "  0.9905,\n",
       "  0.9905,\n",
       "  0.9905,\n",
       "  0.9905,\n",
       "  0.9905,\n",
       "  0.9905,\n",
       "  0.9905,\n",
       "  0.9905,\n",
       "  0.9905,\n",
       "  0.9905,\n",
       "  0.9905,\n",
       "  0.9905,\n",
       "  0.9905,\n",
       "  0.9905,\n",
       "  0.9905,\n",
       "  0.9905,\n",
       "  0.9905,\n",
       "  0.9905,\n",
       "  0.9905,\n",
       "  0.9905,\n",
       "  0.9905,\n",
       "  0.9905,\n",
       "  0.9905,\n",
       "  0.9905,\n",
       "  0.9905,\n",
       "  0.9905,\n",
       "  0.9905,\n",
       "  0.9905,\n",
       "  0.9905,\n",
       "  0.9905,\n",
       "  0.9905,\n",
       "  0.9905,\n",
       "  0.9905,\n",
       "  0.9905,\n",
       "  0.9905,\n",
       "  0.9905,\n",
       "  0.9905,\n",
       "  0.9905],\n",
       " 'dense_6_accuracy': [0.96486,\n",
       "  0.96448,\n",
       "  0.96564,\n",
       "  0.96513,\n",
       "  0.96303,\n",
       "  0.964,\n",
       "  0.96377,\n",
       "  0.96278,\n",
       "  0.96303,\n",
       "  0.96223,\n",
       "  0.96322,\n",
       "  0.96254,\n",
       "  0.96082,\n",
       "  0.95999,\n",
       "  0.9597,\n",
       "  0.95942,\n",
       "  0.95799,\n",
       "  0.95656,\n",
       "  0.95615,\n",
       "  0.95709,\n",
       "  0.95487,\n",
       "  0.95512,\n",
       "  0.95335,\n",
       "  0.95338,\n",
       "  0.95248,\n",
       "  0.95176,\n",
       "  0.95125,\n",
       "  0.95132,\n",
       "  0.95143,\n",
       "  0.95047,\n",
       "  0.95125,\n",
       "  0.94969,\n",
       "  0.94981,\n",
       "  0.94971,\n",
       "  0.95029,\n",
       "  0.94919,\n",
       "  0.94873,\n",
       "  0.94973,\n",
       "  0.94963,\n",
       "  0.94953],\n",
       " 'val_loss': [1.0346833306884766,\n",
       "  1.0301321732711792,\n",
       "  1.0142536520385743,\n",
       "  1.0060413829421997,\n",
       "  0.9975756188201904,\n",
       "  0.9858054676818848,\n",
       "  0.9892023503684998,\n",
       "  0.9706195065116883,\n",
       "  0.966891385974884,\n",
       "  0.9729250065231323,\n",
       "  1.0132167284965514,\n",
       "  0.9379891756820679,\n",
       "  0.9321994847869873,\n",
       "  0.9255974407768249,\n",
       "  0.9207872281455993,\n",
       "  0.9119884227752686,\n",
       "  0.9063611027908325,\n",
       "  0.9051688763809204,\n",
       "  0.8959240281295776,\n",
       "  0.88967403591156,\n",
       "  0.8890891162109374,\n",
       "  0.8838800423240661,\n",
       "  0.8969265127944946,\n",
       "  0.8702229485321045,\n",
       "  0.8721914525604249,\n",
       "  0.8602213370513916,\n",
       "  0.9007598384666443,\n",
       "  0.8521621242332459,\n",
       "  0.8483083015060425,\n",
       "  0.8546765990066528,\n",
       "  0.8369709499740601,\n",
       "  0.8442478782653808,\n",
       "  0.8262002867507935,\n",
       "  0.8221082954025268,\n",
       "  0.8323821912956237,\n",
       "  0.8162271141815186,\n",
       "  0.808212247619629,\n",
       "  0.8026840049362183,\n",
       "  0.8069002274703979,\n",
       "  0.8188868354034424],\n",
       " 'val_dense_2_loss': [0.19540638,\n",
       "  0.194942,\n",
       "  0.1920511,\n",
       "  0.18910633,\n",
       "  0.18764447,\n",
       "  0.18324742,\n",
       "  0.1839193,\n",
       "  0.17934644,\n",
       "  0.17861259,\n",
       "  0.18097253,\n",
       "  0.19222444,\n",
       "  0.17196007,\n",
       "  0.1699971,\n",
       "  0.16736388,\n",
       "  0.16594663,\n",
       "  0.16494253,\n",
       "  0.16293128,\n",
       "  0.16262075,\n",
       "  0.15976785,\n",
       "  0.15864033,\n",
       "  0.15825965,\n",
       "  0.1564671,\n",
       "  0.16070275,\n",
       "  0.15472382,\n",
       "  0.15571725,\n",
       "  0.15097713,\n",
       "  0.16567717,\n",
       "  0.1491463,\n",
       "  0.14903669,\n",
       "  0.15234916,\n",
       "  0.14729214,\n",
       "  0.14901559,\n",
       "  0.14411607,\n",
       "  0.14449315,\n",
       "  0.14524612,\n",
       "  0.14319313,\n",
       "  0.141133,\n",
       "  0.14139435,\n",
       "  0.14116862,\n",
       "  0.14582129],\n",
       " 'val_dense_3_loss': [0.2862486,\n",
       "  0.2841644,\n",
       "  0.27738038,\n",
       "  0.27428988,\n",
       "  0.2710476,\n",
       "  0.26587984,\n",
       "  0.26351118,\n",
       "  0.25858933,\n",
       "  0.25688425,\n",
       "  0.2609151,\n",
       "  0.27314597,\n",
       "  0.24684566,\n",
       "  0.24379407,\n",
       "  0.24074012,\n",
       "  0.24043937,\n",
       "  0.23747504,\n",
       "  0.23493814,\n",
       "  0.23414297,\n",
       "  0.23064679,\n",
       "  0.22888665,\n",
       "  0.22730345,\n",
       "  0.22663008,\n",
       "  0.23028512,\n",
       "  0.22205178,\n",
       "  0.22499149,\n",
       "  0.21941452,\n",
       "  0.23337208,\n",
       "  0.21626635,\n",
       "  0.21603173,\n",
       "  0.21921116,\n",
       "  0.21140327,\n",
       "  0.21759792,\n",
       "  0.20942159,\n",
       "  0.20826067,\n",
       "  0.21030001,\n",
       "  0.2072305,\n",
       "  0.20353194,\n",
       "  0.2022575,\n",
       "  0.20176701,\n",
       "  0.210665],\n",
       " 'val_dense_4_loss': [0.043364268,\n",
       "  0.04342519,\n",
       "  0.04276815,\n",
       "  0.04244978,\n",
       "  0.042447995,\n",
       "  0.041673284,\n",
       "  0.042338144,\n",
       "  0.041277844,\n",
       "  0.040997736,\n",
       "  0.042631403,\n",
       "  0.04182251,\n",
       "  0.040412985,\n",
       "  0.040226955,\n",
       "  0.040174067,\n",
       "  0.039965823,\n",
       "  0.039683513,\n",
       "  0.03948841,\n",
       "  0.03898141,\n",
       "  0.039209336,\n",
       "  0.038989898,\n",
       "  0.039136644,\n",
       "  0.039179735,\n",
       "  0.038066566,\n",
       "  0.038061846,\n",
       "  0.038311057,\n",
       "  0.03807497,\n",
       "  0.039223246,\n",
       "  0.037451725,\n",
       "  0.037189204,\n",
       "  0.038750283,\n",
       "  0.03720353,\n",
       "  0.037497602,\n",
       "  0.03726013,\n",
       "  0.036813747,\n",
       "  0.03666591,\n",
       "  0.036583707,\n",
       "  0.036505256,\n",
       "  0.035932302,\n",
       "  0.03626797,\n",
       "  0.03758278],\n",
       " 'val_dense_5_loss': [0.18268503,\n",
       "  0.18194725,\n",
       "  0.18167204,\n",
       "  0.18115126,\n",
       "  0.18047728,\n",
       "  0.18036373,\n",
       "  0.18293998,\n",
       "  0.17962976,\n",
       "  0.17891386,\n",
       "  0.18083224,\n",
       "  0.17934354,\n",
       "  0.17726903,\n",
       "  0.1776726,\n",
       "  0.17717409,\n",
       "  0.17668755,\n",
       "  0.17556146,\n",
       "  0.1749031,\n",
       "  0.17508982,\n",
       "  0.17418624,\n",
       "  0.17372856,\n",
       "  0.17615038,\n",
       "  0.1737307,\n",
       "  0.17286667,\n",
       "  0.17182834,\n",
       "  0.17088978,\n",
       "  0.17078628,\n",
       "  0.17019533,\n",
       "  0.16946246,\n",
       "  0.16905302,\n",
       "  0.16819271,\n",
       "  0.16680373,\n",
       "  0.16600649,\n",
       "  0.16478232,\n",
       "  0.16471373,\n",
       "  0.16559693,\n",
       "  0.16375878,\n",
       "  0.16270982,\n",
       "  0.16093859,\n",
       "  0.16034599,\n",
       "  0.15992394],\n",
       " 'val_dense_6_loss': [0.32701164,\n",
       "  0.3256898,\n",
       "  0.3203669,\n",
       "  0.3190751,\n",
       "  0.31598112,\n",
       "  0.31465247,\n",
       "  0.31648567,\n",
       "  0.31175154,\n",
       "  0.31142694,\n",
       "  0.30758253,\n",
       "  0.3266383,\n",
       "  0.30151063,\n",
       "  0.30051205,\n",
       "  0.3001442,\n",
       "  0.29771754,\n",
       "  0.2944097,\n",
       "  0.29411313,\n",
       "  0.29435366,\n",
       "  0.2921098,\n",
       "  0.28938442,\n",
       "  0.2881784,\n",
       "  0.2878207,\n",
       "  0.2950076,\n",
       "  0.2835874,\n",
       "  0.2823699,\n",
       "  0.28103137,\n",
       "  0.2921725,\n",
       "  0.2799391,\n",
       "  0.27703822,\n",
       "  0.27616364,\n",
       "  0.27433825,\n",
       "  0.27431604,\n",
       "  0.27061257,\n",
       "  0.26794687,\n",
       "  0.27467924,\n",
       "  0.2655251,\n",
       "  0.2643411,\n",
       "  0.26216152,\n",
       "  0.26740998,\n",
       "  0.26492098],\n",
       " 'val_dense_2_accuracy': [0.9707,\n",
       "  0.96762,\n",
       "  0.97131,\n",
       "  0.96664,\n",
       "  0.96633,\n",
       "  0.9681,\n",
       "  0.97228,\n",
       "  0.96911,\n",
       "  0.97099,\n",
       "  0.96765,\n",
       "  0.97592,\n",
       "  0.97323,\n",
       "  0.97138,\n",
       "  0.97348,\n",
       "  0.96907,\n",
       "  0.9672,\n",
       "  0.96677,\n",
       "  0.97217,\n",
       "  0.97004,\n",
       "  0.96813,\n",
       "  0.96859,\n",
       "  0.96377,\n",
       "  0.97145,\n",
       "  0.97107,\n",
       "  0.96149,\n",
       "  0.96256,\n",
       "  0.97466,\n",
       "  0.96689,\n",
       "  0.96573,\n",
       "  0.95568,\n",
       "  0.9618,\n",
       "  0.96235,\n",
       "  0.96413,\n",
       "  0.96257,\n",
       "  0.96849,\n",
       "  0.95876,\n",
       "  0.96469,\n",
       "  0.96483,\n",
       "  0.96799,\n",
       "  0.95335],\n",
       " 'val_dense_3_accuracy': [0.9284,\n",
       "  0.92029,\n",
       "  0.9213,\n",
       "  0.92033,\n",
       "  0.9154,\n",
       "  0.92265,\n",
       "  0.92942,\n",
       "  0.92268,\n",
       "  0.92744,\n",
       "  0.90904,\n",
       "  0.93818,\n",
       "  0.92545,\n",
       "  0.92327,\n",
       "  0.92411,\n",
       "  0.91666,\n",
       "  0.92148,\n",
       "  0.91758,\n",
       "  0.92577,\n",
       "  0.92489,\n",
       "  0.91973,\n",
       "  0.92352,\n",
       "  0.92193,\n",
       "  0.92867,\n",
       "  0.92433,\n",
       "  0.91615,\n",
       "  0.92108,\n",
       "  0.93473,\n",
       "  0.92328,\n",
       "  0.92729,\n",
       "  0.91513,\n",
       "  0.92595,\n",
       "  0.91511,\n",
       "  0.92179,\n",
       "  0.92276,\n",
       "  0.92939,\n",
       "  0.92288,\n",
       "  0.92494,\n",
       "  0.92628,\n",
       "  0.92858,\n",
       "  0.91299],\n",
       " 'val_dense_4_accuracy': [0.99788,\n",
       "  0.99788,\n",
       "  0.99788,\n",
       "  0.99788,\n",
       "  0.99788,\n",
       "  0.99788,\n",
       "  0.99788,\n",
       "  0.99788,\n",
       "  0.99788,\n",
       "  0.99788,\n",
       "  0.99788,\n",
       "  0.99788,\n",
       "  0.99788,\n",
       "  0.99788,\n",
       "  0.99788,\n",
       "  0.99788,\n",
       "  0.99788,\n",
       "  0.99788,\n",
       "  0.99788,\n",
       "  0.99788,\n",
       "  0.99788,\n",
       "  0.99788,\n",
       "  0.99788,\n",
       "  0.99788,\n",
       "  0.99788,\n",
       "  0.99788,\n",
       "  0.99788,\n",
       "  0.99788,\n",
       "  0.99788,\n",
       "  0.99788,\n",
       "  0.99788,\n",
       "  0.99788,\n",
       "  0.99788,\n",
       "  0.99788,\n",
       "  0.99788,\n",
       "  0.99788,\n",
       "  0.99788,\n",
       "  0.99788,\n",
       "  0.99788,\n",
       "  0.99788],\n",
       " 'val_dense_5_accuracy': [0.9905,\n",
       "  0.9905,\n",
       "  0.9905,\n",
       "  0.9905,\n",
       "  0.9905,\n",
       "  0.9905,\n",
       "  0.9905,\n",
       "  0.9905,\n",
       "  0.9905,\n",
       "  0.9905,\n",
       "  0.9905,\n",
       "  0.9905,\n",
       "  0.9905,\n",
       "  0.9905,\n",
       "  0.9905,\n",
       "  0.9905,\n",
       "  0.9905,\n",
       "  0.9905,\n",
       "  0.9905,\n",
       "  0.9905,\n",
       "  0.9905,\n",
       "  0.9905,\n",
       "  0.9905,\n",
       "  0.9905,\n",
       "  0.9905,\n",
       "  0.9905,\n",
       "  0.9905,\n",
       "  0.9905,\n",
       "  0.9905,\n",
       "  0.9905,\n",
       "  0.9905,\n",
       "  0.9905,\n",
       "  0.9905,\n",
       "  0.9905,\n",
       "  0.9905,\n",
       "  0.9905,\n",
       "  0.9905,\n",
       "  0.9905,\n",
       "  0.9905,\n",
       "  0.9905],\n",
       " 'val_dense_6_accuracy': [0.96489,\n",
       "  0.96309,\n",
       "  0.9624,\n",
       "  0.96388,\n",
       "  0.96531,\n",
       "  0.96603,\n",
       "  0.96915,\n",
       "  0.96883,\n",
       "  0.96798,\n",
       "  0.96654,\n",
       "  0.97041,\n",
       "  0.95923,\n",
       "  0.96293,\n",
       "  0.96364,\n",
       "  0.96509,\n",
       "  0.96047,\n",
       "  0.95653,\n",
       "  0.96487,\n",
       "  0.9618,\n",
       "  0.95891,\n",
       "  0.96019,\n",
       "  0.94968,\n",
       "  0.96697,\n",
       "  0.96191,\n",
       "  0.9566,\n",
       "  0.95205,\n",
       "  0.96523,\n",
       "  0.96204,\n",
       "  0.95866,\n",
       "  0.94832,\n",
       "  0.95548,\n",
       "  0.94977,\n",
       "  0.95495,\n",
       "  0.95731,\n",
       "  0.96138,\n",
       "  0.94426,\n",
       "  0.95697,\n",
       "  0.95642,\n",
       "  0.9607,\n",
       "  0.94606]}"
      ]
     },
     "execution_count": 29,
     "metadata": {},
     "output_type": "execute_result"
    }
   ],
   "source": [
    "history"
   ]
  },
  {
   "cell_type": "code",
   "execution_count": 30,
   "id": "3f72197b",
   "metadata": {},
   "outputs": [
    {
     "data": {
      "text/plain": [
       "[0.9707,\n",
       " 0.96762,\n",
       " 0.97131,\n",
       " 0.96664,\n",
       " 0.96633,\n",
       " 0.9681,\n",
       " 0.97228,\n",
       " 0.96911,\n",
       " 0.97099,\n",
       " 0.96765,\n",
       " 0.97592,\n",
       " 0.97323,\n",
       " 0.97138,\n",
       " 0.97348,\n",
       " 0.96907,\n",
       " 0.9672,\n",
       " 0.96677,\n",
       " 0.97217,\n",
       " 0.97004,\n",
       " 0.96813,\n",
       " 0.96859,\n",
       " 0.96377,\n",
       " 0.97145,\n",
       " 0.97107,\n",
       " 0.96149,\n",
       " 0.96256,\n",
       " 0.97466,\n",
       " 0.96689,\n",
       " 0.96573,\n",
       " 0.95568,\n",
       " 0.9618,\n",
       " 0.96235,\n",
       " 0.96413,\n",
       " 0.96257,\n",
       " 0.96849,\n",
       " 0.95876,\n",
       " 0.96469,\n",
       " 0.96483,\n",
       " 0.96799,\n",
       " 0.95335]"
      ]
     },
     "execution_count": 30,
     "metadata": {},
     "output_type": "execute_result"
    }
   ],
   "source": [
    "history['val_%s'%(model.metrics_names[6])]"
   ]
  },
  {
   "cell_type": "markdown",
   "id": "d3d19d27",
   "metadata": {},
   "source": [
    "### Plot The Model's Training History"
   ]
  },
  {
   "cell_type": "code",
   "execution_count": 34,
   "id": "e8d34a23",
   "metadata": {},
   "outputs": [
    {
     "data": {
      "text/plain": [
       "<matplotlib.legend.Legend at 0x29a753f3dd8>"
      ]
     },
     "execution_count": 34,
     "metadata": {},
     "output_type": "execute_result"
    },
    {
     "data": {
      "image/png": "[encoded data removed]",
      "text/plain": [
       "<Figure size 1440x1080 with 4 Axes>"
      ]
     },
     "metadata": {
      "needs_background": "light"
     },
     "output_type": "display_data"
    }
   ],
   "source": [
    "epochs_range = range(len(history[model.metrics_names[1]]))\n",
    "\n",
    "fig, axs = plt.subplots(2, 2, figsize=(20,15))\n",
    "fig.suptitle('CNN with 10 Epochs')\n",
    "\n",
    "axs[0,0].plot(epochs_range, history['val_%s'%(model.metrics_names[6])], 'b', label='CWE-119', color='green')\n",
    "axs[0,0].plot(epochs_range, history['val_%s'%(model.metrics_names[7])], 'b', label='CWE-120', color='blue')\n",
    "axs[0,0].plot(epochs_range, history['val_%s'%(model.metrics_names[8])], 'b', label='CWE-469', color='red')\n",
    "axs[0,0].plot(epochs_range, history['val_%s'%(model.metrics_names[9])], 'b', label='CWE-479', color='purple')\n",
    "axs[0,0].plot(epochs_range, history['val_%s'%(model.metrics_names[10])], 'b', label='CWE-Other', color='orange')\n",
    "axs[0,0].set_title('Training accuracy')\n",
    "axs[0,0].legend()\n",
    "\n",
    "\n",
    "axs[0,1].plot(epochs_range, history['val_%s'%(model.metrics_names[1])], 'b', label='CWE-119', color='green')\n",
    "axs[0,1].plot(epochs_range, history['val_%s'%(model.metrics_names[2])], 'b', label='CWE-120', color='blue')\n",
    "axs[0,1].plot(epochs_range, history['val_%s'%(model.metrics_names[3])], 'b', label='CWE-469', color='red')\n",
    "axs[0,1].plot(epochs_range, history['val_%s'%(model.metrics_names[4])], 'b', label='CWE-479', color='purple')\n",
    "axs[0,1].plot(epochs_range, history['val_%s'%(model.metrics_names[5])], 'b', label='CWE-Other', color='orange')\n",
    "axs[0,1].set_title('Training Loss')\n",
    "axs[0,1].legend()\n",
    "\n",
    "axs[1,0].plot(epochs_range, history[model.metrics_names[6]], 'b', label='CWE-119', color='green')\n",
    "axs[1,0].plot(epochs_range, history[model.metrics_names[7]], 'b', label='CWE-120', color='blue')\n",
    "axs[1,0].plot(epochs_range, history[model.metrics_names[8]], 'b', label='CWE-469', color='red')\n",
    "axs[1,0].plot(epochs_range, history[model.metrics_names[9]], 'b', label='CWE-479', color='purple')\n",
    "axs[1,0].plot(epochs_range, history[model.metrics_names[10]], 'b', label='CWE-Other', color='orange')\n",
    "axs[1,0].set_title('Validation accuracy')\n",
    "axs[1,0].legend()\n",
    "\n",
    "\n",
    "axs[1,1].plot(epochs_range, history[model.metrics_names[1]], 'b', label='CWE-119', color='green')\n",
    "axs[1,1].plot(epochs_range, history[model.metrics_names[2]], 'b', label='CWE-120', color='blue')\n",
    "axs[1,1].plot(epochs_range, history[model.metrics_names[3]], 'b', label='CWE-469', color='red')\n",
    "axs[1,1].plot(epochs_range, history[model.metrics_names[4]], 'b', label='CWE-479', color='purple')\n",
    "axs[1,1].plot(epochs_range, history[model.metrics_names[5]], 'b', label='CWE-Other', color='orange')\n",
    "axs[1,1].set_title('Validation Loss')\n",
    "axs[1,1].legend()\n"
   ]
  },
  {
   "cell_type": "code",
   "execution_count": null,
   "id": "1354324a",
   "metadata": {},
   "outputs": [],
   "source": []
  },
  {
   "cell_type": "code",
   "execution_count": null,
   "id": "6758a87d",
   "metadata": {},
   "outputs": [],
   "source": []
  }
 ],
 "metadata": {
  "kernelspec": {
   "display_name": "Python 3",
   "language": "python",
   "name": "python3"
  },
  "language_info": {
   "codemirror_mode": {
    "name": "ipython",
    "version": 3
   },
   "file_extension": ".py",
   "mimetype": "text/x-python",
   "name": "python",
   "nbconvert_exporter": "python",
   "pygments_lexer": "ipython3",
   "version": "3.6.13"
  }
 },
 "nbformat": 4,
 "nbformat_minor": 5
}
